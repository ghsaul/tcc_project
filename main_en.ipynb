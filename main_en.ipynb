{
 "cells": [
  {
   "cell_type": "markdown",
   "metadata": {},
   "source": [
    "# Introduction"
   ]
  },
  {
   "cell_type": "markdown",
   "metadata": {},
   "source": [
    "> This work was based on the code made by Chris McCormick and Nick Ryan, available at https://colab.research.google.com/drive/1pTuQhug6Dhl9XalKB0zUGf4FIdYFlpcX\n",
    "\n",
    "> This work was originally written in portuguese, so some of the tables and results may contain words in portuguese"
   ]
  },
  {
   "cell_type": "markdown",
   "metadata": {},
   "source": [
    "In this work, I am going to describe the database used to fine tune a BERT model, as well as the pre-processing steps applied to the data. Next, I am going to detail the training, validation and testing steps of the tuned model. To develop this analysis, the `Python` programming language (version 3.11.3) was used in conjunction with the source code editor Visual Studio Code. Furthermore, `Python` packages were used, such as `numpy` (Harris et al., 2020) (version 1.24.4), `pandas` (Wes McKinney, 2010) (version 2.0.3), `transformers` (Wolf et al., 2019) (version 4.30.2) and `torch` (Paszke et al., 2019) (version 2.0.1)."
   ]
  },
  {
   "attachments": {},
   "cell_type": "markdown",
   "metadata": {},
   "source": [
    "# Setup"
   ]
  },
  {
   "cell_type": "code",
   "execution_count": null,
   "metadata": {},
   "outputs": [],
   "source": [
    "# Importing packages and functions\n",
    "import os\n",
    "import time\n",
    "import datetime\n",
    "import random\n",
    "import torch\n",
    "import numpy as np\n",
    "import pandas as pd\n",
    "import seaborn as sns\n",
    "import matplotlib.pyplot as plt\n",
    "\n",
    "from statistics import mean\n",
    "from collections import Counter\n",
    "from langdetect import detect, DetectorFactory\n",
    "from torch.utils.data import TensorDataset, random_split, DataLoader, RandomSampler, SequentialSampler, Subset\n",
    "from transformers import BertTokenizer, BertForSequenceClassification, get_linear_schedule_with_warmup"
   ]
  },
  {
   "cell_type": "code",
   "execution_count": 2,
   "metadata": {},
   "outputs": [],
   "source": [
    "# Declaring constants\n",
    "DF_ORIGINAL = r\"dados/WELFake_Dataset.csv\"\n",
    "DF_FINAL = r\"dados/data.csv\"\n",
    "MODEL_FOLDER = r\"dados/model_v1/\"\n",
    "\n",
    "device = torch.device(\"cpu\")\n",
    "os.environ['CURL_CA_BUNDLE'] = ''  # If this error message shows up \"[SSL: CERTIFICATE_VERIFY_FAILED] certificate verify failed\" run these commands to reduce the version of the requests package: \"pip uninstall requests\" and \"pip install requests==2.27.1\""
   ]
  },
  {
   "cell_type": "code",
   "execution_count": 3,
   "metadata": {},
   "outputs": [],
   "source": [
    "# Declaring the seed random so that this code is reproducible\n",
    "my_seed = 288933\n",
    "\n",
    "random.seed(my_seed)\n",
    "np.random.seed(my_seed)\n",
    "torch.manual_seed(my_seed)\n",
    "torch.cuda.manual_seed_all(my_seed)"
   ]
  },
  {
   "cell_type": "markdown",
   "metadata": {},
   "source": [
    "# Pre-Processing"
   ]
  },
  {
   "cell_type": "markdown",
   "metadata": {},
   "source": [
    "The original dataset (Verma et al., 2021) was obtained from the Kaggle portal and contains information about 72,134 news articles in the English language, of which 35,028 are true news and 37,106 are fake. To compose the dataset, Verma et al. (2021) extracted articles from the Kaggle, McIntire, Reuters and BuzzFeed Political portals. The dataset has 3 columns: \"title\", which presents the title of the news in text format; \"text\", which presents the news content in text format; and \"label\", which is 0 for true news and 1 for fake news. The objective of this work is to use the \"title\" and \"label\" columns of the presented database to adjust a BERT model for supervised binary text classification, capable of detecting when the title of a news story in English comes from a fake article or not."
   ]
  },
  {
   "cell_type": "code",
   "execution_count": 4,
   "metadata": {},
   "outputs": [
    {
     "name": "stdout",
     "output_type": "stream",
     "text": [
      "<class 'pandas.core.frame.DataFrame'>\n",
      "Index: 72134 entries, 0 to 72133\n",
      "Data columns (total 3 columns):\n",
      " #   Column  Non-Null Count  Dtype \n",
      "---  ------  --------------  ----- \n",
      " 0   title   71576 non-null  object\n",
      " 1   text    72095 non-null  object\n",
      " 2   label   72134 non-null  int64 \n",
      "dtypes: int64(1), object(2)\n",
      "memory usage: 2.2+ MB\n"
     ]
    },
    {
     "data": {
      "text/html": [
       "<div>\n",
       "<style scoped>\n",
       "    .dataframe tbody tr th:only-of-type {\n",
       "        vertical-align: middle;\n",
       "    }\n",
       "\n",
       "    .dataframe tbody tr th {\n",
       "        vertical-align: top;\n",
       "    }\n",
       "\n",
       "    .dataframe thead th {\n",
       "        text-align: right;\n",
       "    }\n",
       "</style>\n",
       "<table border=\"1\" class=\"dataframe\">\n",
       "  <thead>\n",
       "    <tr style=\"text-align: right;\">\n",
       "      <th></th>\n",
       "      <th>title</th>\n",
       "      <th>text</th>\n",
       "      <th>label</th>\n",
       "    </tr>\n",
       "  </thead>\n",
       "  <tbody>\n",
       "    <tr>\n",
       "      <th>0</th>\n",
       "      <td>LAW ENFORCEMENT ON HIGH ALERT Following Threat...</td>\n",
       "      <td>No comment is expected from Barack Obama Membe...</td>\n",
       "      <td>1</td>\n",
       "    </tr>\n",
       "    <tr>\n",
       "      <th>1</th>\n",
       "      <td>NaN</td>\n",
       "      <td>Did they post their votes for Hillary already?</td>\n",
       "      <td>1</td>\n",
       "    </tr>\n",
       "    <tr>\n",
       "      <th>2</th>\n",
       "      <td>UNBELIEVABLE! OBAMA’S ATTORNEY GENERAL SAYS MO...</td>\n",
       "      <td>Now, most of the demonstrators gathered last ...</td>\n",
       "      <td>1</td>\n",
       "    </tr>\n",
       "    <tr>\n",
       "      <th>3</th>\n",
       "      <td>Bobby Jindal, raised Hindu, uses story of Chri...</td>\n",
       "      <td>A dozen politically active pastors came here f...</td>\n",
       "      <td>0</td>\n",
       "    </tr>\n",
       "    <tr>\n",
       "      <th>4</th>\n",
       "      <td>SATAN 2: Russia unvelis an image of its terrif...</td>\n",
       "      <td>The RS-28 Sarmat missile, dubbed Satan 2, will...</td>\n",
       "      <td>1</td>\n",
       "    </tr>\n",
       "  </tbody>\n",
       "</table>\n",
       "</div>"
      ],
      "text/plain": [
       "                                               title  \\\n",
       "0  LAW ENFORCEMENT ON HIGH ALERT Following Threat...   \n",
       "1                                                NaN   \n",
       "2  UNBELIEVABLE! OBAMA’S ATTORNEY GENERAL SAYS MO...   \n",
       "3  Bobby Jindal, raised Hindu, uses story of Chri...   \n",
       "4  SATAN 2: Russia unvelis an image of its terrif...   \n",
       "\n",
       "                                                text  label  \n",
       "0  No comment is expected from Barack Obama Membe...      1  \n",
       "1     Did they post their votes for Hillary already?      1  \n",
       "2   Now, most of the demonstrators gathered last ...      1  \n",
       "3  A dozen politically active pastors came here f...      0  \n",
       "4  The RS-28 Sarmat missile, dubbed Satan 2, will...      1  "
      ]
     },
     "execution_count": 4,
     "metadata": {},
     "output_type": "execute_result"
    }
   ],
   "source": [
    "# Importing the dataset\n",
    "df = pd.read_csv(DF_ORIGINAL, index_col=0)\n",
    "\n",
    "df.info()\n",
    "df.head()"
   ]
  },
  {
   "cell_type": "code",
   "execution_count": 5,
   "metadata": {},
   "outputs": [
    {
     "data": {
      "text/plain": [
       "label\n",
       "0    35028\n",
       "1    37106\n",
       "dtype: int64"
      ]
     },
     "execution_count": 5,
     "metadata": {},
     "output_type": "execute_result"
    }
   ],
   "source": [
    "df.groupby('label').size()"
   ]
  },
  {
   "cell_type": "code",
   "execution_count": 6,
   "metadata": {},
   "outputs": [
    {
     "name": "stdout",
     "output_type": "stream",
     "text": [
      "Number of observations removed for null values in title or rating columns: 558\n"
     ]
    }
   ],
   "source": [
    "# Selecting only the title and classification columns\n",
    "df = df[['title', 'label']]\n",
    "\n",
    "n_row_before = len(df)\n",
    "df = df[~df['title'].isnull()]\n",
    "df = df[~df['label'].isnull()]\n",
    "\n",
    "n_row_after = len(df)\n",
    "print(f'Number of observations removed for null values in title or rating columns: {n_row_before- n_row_after}')"
   ]
  },
  {
   "cell_type": "code",
   "execution_count": 7,
   "metadata": {},
   "outputs": [
    {
     "name": "stdout",
     "output_type": "stream",
     "text": [
      "Number of observations removed for duplicate values: 9233\n"
     ]
    }
   ],
   "source": [
    "# Removing duplicated rows\n",
    "n_row_before = len(df)\n",
    "df.drop_duplicates(inplace=True)\n",
    "df.drop_duplicates(subset='title', keep=False, inplace=True, ignore_index=True)  # Values removed here are titles that have both labels\n",
    "\n",
    "n_row_after = len(df)\n",
    "print(f'Number of observations removed for duplicate values: {n_row_before- n_row_after}')"
   ]
  },
  {
   "cell_type": "markdown",
   "metadata": {},
   "source": [
    "Some titles are in languages other than English. To remove them, we will use the `langdetect` package (version 1.0.9)."
   ]
  },
  {
   "cell_type": "code",
   "execution_count": 8,
   "metadata": {},
   "outputs": [
    {
     "name": "stdout",
     "output_type": "stream",
     "text": [
      "Counter({'en': 60048, 'de': 814, 'fr': 212, 'es': 204, 'ru': 153, 'ca': 152, 'it': 116, 'nl': 96, 'af': 73, 'da': 72, 'no': 68, 'id': 64, 'ro': 50, 'pt': 41, 'et': 27, 'sv': 24, 'tl': 21, 'ar': 19, 'vi': 15, 'lt': 11, 'so': 10, 'tr': 10, 'error': 7, 'hr': 7, 'cy': 6, 'fi': 4, 'pl': 3, 'sl': 3, 'sw': 3, 'bg': 3, 'el': 2, 'lv': 1, 'fa': 1, 'sq': 1, 'zh-cn': 1, 'hu': 1})\n"
     ]
    }
   ],
   "source": [
    "# Classifying the titles by language\n",
    "DetectorFactory.seed = 0\n",
    "\n",
    "language = []\n",
    "for title in df['title']:\n",
    "    try:\n",
    "        language.append(detect(title))\n",
    "    except:\n",
    "        language.append('error')\n",
    "        pass\n",
    "\n",
    "print(Counter(language))"
   ]
  },
  {
   "cell_type": "markdown",
   "metadata": {},
   "source": [
    "We are going to remove rows where the `langdetect` package classified titles as Russian, Arabic, Lithuanian, Turkish, Polish, Bulgarian, Greek, Chinese, or titles that could not be classified by the package. Several titles in English were classified as being from other languages and, therefore, it is considered that this classification was not very accurate. Furthermore, it is important to keep in mind that several titles in languages other than English could not be removed from the database automatically, which could cause noise in the adjusted model."
   ]
  },
  {
   "cell_type": "code",
   "execution_count": 9,
   "metadata": {},
   "outputs": [
    {
     "name": "stdout",
     "output_type": "stream",
     "text": [
      "Number of titles removed for not being in English: 209\n"
     ]
    }
   ],
   "source": [
    "# Removing titles in other languages\n",
    "n_row_before = len(df)\n",
    "df.drop([idx for idx, l in enumerate(language) if l in ['ru', 'ar', 'lt', 'tr', 'pl', 'bg', 'el', 'zh-cn', 'error']]\n",
    "        ,axis=0  # rows\n",
    "        ,inplace=True)\n",
    "df.reset_index(drop=True, inplace=True)\n",
    "\n",
    "n_row_after = len(df)\n",
    "print(f'Number of titles removed for not being in English: {n_row_before- n_row_after}')"
   ]
  },
  {
   "cell_type": "markdown",
   "metadata": {},
   "source": [
    "To analyze the size of each title, let's consider the number of tokens in the title tokenized by the BERT Base pre-trained model. The information on the maximum number of tokens will be useful in the fine tunning step."
   ]
  },
  {
   "cell_type": "code",
   "execution_count": 10,
   "metadata": {},
   "outputs": [
    {
     "name": "stdout",
     "output_type": "stream",
     "text": [
      "Minimum tokens:  3\n",
      "Maximum tokens:  96\n",
      "Average of tokens:  18.1779\n",
      "Number of tokens per percentile:  [12. 13. 15. 16. 17. 19. 20. 22. 25.]\n",
      "Number of titles with more than 128 tokens:  0\n",
      "Number of titles with more than 64 tokens:  3\n",
      "Number of titles with more than 32 tokens:  1415\n"
     ]
    }
   ],
   "source": [
    "# Declaring the BERT Base Uncased model tokenizer (which considers all letters as lowercase). This object will be declared again later, but we need it here to get descriptive statistics on the number of tokens per title.\n",
    "tokenizer = BertTokenizer.from_pretrained('bert-base-uncased')\n",
    "\n",
    "# For every title, calculate the size of the tokens vector \n",
    "df['n_token'] = [len(tokenizer.encode(title, add_special_tokens=True)) for title in df['title']]\n",
    "\n",
    "# Analisando algumas estatísticas\n",
    "# Analyzing some statistics\n",
    "print('Minimum tokens: ', min(df['n_token']))\n",
    "print('Maximum tokens: ', max(df['n_token']))\n",
    "print('Average of tokens: ', round(mean(df['n_token']), 4))\n",
    "print('Number of tokens per percentile: ', np.quantile(df['n_token'], q=[.1, .2, .3, .4, .5, .6, .7, .8, .9]))\n",
    "print('Number of titles with more than 128 tokens: ', sum([i > 128 for i in df['n_token']]))\n",
    "print('Number of titles with more than 64 tokens: ', sum([i > 64 for i in df['n_token']]))\n",
    "print('Number of titles with more than 32 tokens: ', sum([i > 32 for i in df['n_token']]))"
   ]
  },
  {
   "cell_type": "code",
   "execution_count": 11,
   "metadata": {},
   "outputs": [
    {
     "name": "stdout",
     "output_type": "stream",
     "text": [
      "<class 'pandas.core.frame.DataFrame'>\n",
      "RangeIndex: 62134 entries, 0 to 62133\n",
      "Data columns (total 3 columns):\n",
      " #   Column   Non-Null Count  Dtype \n",
      "---  ------   --------------  ----- \n",
      " 0   title    62134 non-null  object\n",
      " 1   label    62134 non-null  int64 \n",
      " 2   n_token  62134 non-null  int64 \n",
      "dtypes: int64(2), object(1)\n",
      "memory usage: 1.4+ MB\n"
     ]
    },
    {
     "data": {
      "text/html": [
       "<div>\n",
       "<style scoped>\n",
       "    .dataframe tbody tr th:only-of-type {\n",
       "        vertical-align: middle;\n",
       "    }\n",
       "\n",
       "    .dataframe tbody tr th {\n",
       "        vertical-align: top;\n",
       "    }\n",
       "\n",
       "    .dataframe thead th {\n",
       "        text-align: right;\n",
       "    }\n",
       "</style>\n",
       "<table border=\"1\" class=\"dataframe\">\n",
       "  <thead>\n",
       "    <tr style=\"text-align: right;\">\n",
       "      <th></th>\n",
       "      <th>title</th>\n",
       "      <th>label</th>\n",
       "      <th>n_token</th>\n",
       "    </tr>\n",
       "  </thead>\n",
       "  <tbody>\n",
       "    <tr>\n",
       "      <th>0</th>\n",
       "      <td>LAW ENFORCEMENT ON HIGH ALERT Following Threat...</td>\n",
       "      <td>1</td>\n",
       "      <td>35</td>\n",
       "    </tr>\n",
       "    <tr>\n",
       "      <th>1</th>\n",
       "      <td>UNBELIEVABLE! OBAMA’S ATTORNEY GENERAL SAYS MO...</td>\n",
       "      <td>1</td>\n",
       "      <td>30</td>\n",
       "    </tr>\n",
       "    <tr>\n",
       "      <th>2</th>\n",
       "      <td>Bobby Jindal, raised Hindu, uses story of Chri...</td>\n",
       "      <td>0</td>\n",
       "      <td>22</td>\n",
       "    </tr>\n",
       "    <tr>\n",
       "      <th>3</th>\n",
       "      <td>SATAN 2: Russia unvelis an image of its terrif...</td>\n",
       "      <td>1</td>\n",
       "      <td>25</td>\n",
       "    </tr>\n",
       "    <tr>\n",
       "      <th>4</th>\n",
       "      <td>About Time! Christian Group Sues Amazon and SP...</td>\n",
       "      <td>1</td>\n",
       "      <td>18</td>\n",
       "    </tr>\n",
       "  </tbody>\n",
       "</table>\n",
       "</div>"
      ],
      "text/plain": [
       "                                               title  label  n_token\n",
       "0  LAW ENFORCEMENT ON HIGH ALERT Following Threat...      1       35\n",
       "1  UNBELIEVABLE! OBAMA’S ATTORNEY GENERAL SAYS MO...      1       30\n",
       "2  Bobby Jindal, raised Hindu, uses story of Chri...      0       22\n",
       "3  SATAN 2: Russia unvelis an image of its terrif...      1       25\n",
       "4  About Time! Christian Group Sues Amazon and SP...      1       18"
      ]
     },
     "execution_count": 11,
     "metadata": {},
     "output_type": "execute_result"
    }
   ],
   "source": [
    "# Pre-processed dataset\n",
    "df.info()\n",
    "df.head()"
   ]
  },
  {
   "cell_type": "code",
   "execution_count": 12,
   "metadata": {},
   "outputs": [
    {
     "data": {
      "text/plain": [
       "label\n",
       "0    34404\n",
       "1    27730\n",
       "dtype: int64"
      ]
     },
     "execution_count": 12,
     "metadata": {},
     "output_type": "execute_result"
    }
   ],
   "source": [
    "df.groupby('label').size()"
   ]
  },
  {
   "cell_type": "markdown",
   "metadata": {},
   "source": [
    "During pre-processing, no punctuation marks or stop words were removed, which is a set of words that are normally disregarded from analysis, such as prepositions or conjunctions. This choice was made because removing such tokens would imply removing context that the model could have used to obtain better results. Furthermore, researchers such as Schofield et al. (2017) have debated whether removing stop words actually positively impacts the performance of NLP models.\n",
    "\n",
    "After the pre-processing step, the final database has 62,134 observations, of which 34,404 are true news and 27,730 are fake. It is possible to notice that the data is slightly unbalanced, as approximately 55.37% of the news is true and 44.63% is false.\n",
    "\n",
    "As an example of a true news headline, we have: \"Bobby Jindal, raised Hindu, uses story of Christian conversion to woo evangelicals for potential 2016 bid\".\n",
    "\n",
    "As an example of a fake news headline, we have: \"UNBELIEVABLE! OBAMA’S ATTORNEY GENERAL SAYS MOST CHARLOTTE RIOTERS WERE PEACEFUL PROTESTERS... In Her Home State Of North Carolina [VIDEO]\".\n",
    "\n",
    "With the pre-processed database ready, let's export it to a CSV file."
   ]
  },
  {
   "cell_type": "code",
   "execution_count": 14,
   "metadata": {},
   "outputs": [],
   "source": [
    "df.to_csv(DF_FINAL, index=False)"
   ]
  },
  {
   "cell_type": "code",
   "execution_count": 12,
   "metadata": {},
   "outputs": [],
   "source": [
    "# To save time, in case the DF_FINAL file has already been saved previously\n",
    "df = pd.read_csv(DF_FINAL)"
   ]
  },
  {
   "cell_type": "markdown",
   "metadata": {},
   "source": [
    "# Tuning the pre-trained model"
   ]
  },
  {
   "cell_type": "markdown",
   "metadata": {},
   "source": [
    "Using the concept of transfer learning to increase training speed, the model parameters were initialized from the pre-trained `BERT Base Uncased` model, which does not distinguish between uppercase and lowercase characters. The `transformers` package provides a class called `BertForSequenceClassification`, which loads the parameters of the pre-trained model and provides tools that assist in the fine-tuning stage in sequence classification tasks. As we are interested in making a binary classification, we use a classifier with only two categories."
   ]
  },
  {
   "cell_type": "code",
   "execution_count": 13,
   "metadata": {},
   "outputs": [
    {
     "name": "stderr",
     "output_type": "stream",
     "text": [
      "Some weights of the model checkpoint at bert-base-uncased were not used when initializing BertForSequenceClassification: ['cls.predictions.transform.dense.weight', 'cls.predictions.transform.dense.bias', 'cls.seq_relationship.weight', 'cls.predictions.transform.LayerNorm.bias', 'cls.predictions.bias', 'cls.seq_relationship.bias', 'cls.predictions.transform.LayerNorm.weight']\n",
      "- This IS expected if you are initializing BertForSequenceClassification from the checkpoint of a model trained on another task or with another architecture (e.g. initializing a BertForSequenceClassification model from a BertForPreTraining model).\n",
      "- This IS NOT expected if you are initializing BertForSequenceClassification from the checkpoint of a model that you expect to be exactly identical (initializing a BertForSequenceClassification model from a BertForSequenceClassification model).\n",
      "Some weights of BertForSequenceClassification were not initialized from the model checkpoint at bert-base-uncased and are newly initialized: ['classifier.bias', 'classifier.weight']\n",
      "You should probably TRAIN this model on a down-stream task to be able to use it for predictions and inference.\n"
     ]
    }
   ],
   "source": [
    "tokenizer = BertTokenizer.from_pretrained('bert-base-uncased')\n",
    "model = BertForSequenceClassification.from_pretrained('bert-base-uncased', num_labels = 2, output_attentions = False, output_hidden_states = False)"
   ]
  },
  {
   "cell_type": "markdown",
   "metadata": {},
   "source": [
    "The first step we have to take to adjust the model is to tokenize the bank's sentences. To do this, we will use the `encode_plus` method so that each sentence is tokenized by the WordPiece method. Among the settings, we will truncate sentences that have more than 64 tokens for optimization. As seen previously, only 3 sentences in the database have more than 64 tokens, so it is expected that truncation will not affect the adjustment results."
   ]
  },
  {
   "cell_type": "code",
   "execution_count": 14,
   "metadata": {},
   "outputs": [
    {
     "name": "stdout",
     "output_type": "stream",
     "text": [
      "Original sentence:  LAW ENFORCEMENT ON HIGH ALERT Following Threats Against Cops And Whites On 9-11By #BlackLivesMatter And #FYF911 Terrorists [VIDEO]\n",
      "Tokenized sentence:  tensor([  101,  2375,  7285,  2006,  2152,  9499,  2206,  8767,  2114, 10558,\n",
      "         1998, 12461,  2006,  1023,  1011,  2340,  3762,  1001,  2304,  3669,\n",
      "         6961, 18900,  3334,  1998,  1001,  1042,  2100,  2546,  2683, 14526,\n",
      "        15554,  1031,  2678,  1033,   102,     0,     0,     0,     0,     0,\n",
      "            0,     0,     0,     0,     0,     0,     0,     0,     0,     0,\n",
      "            0,     0,     0,     0,     0,     0,     0,     0,     0,     0,\n",
      "            0,     0,     0,     0])\n",
      "Attention:  tensor([1, 1, 1, 1, 1, 1, 1, 1, 1, 1, 1, 1, 1, 1, 1, 1, 1, 1, 1, 1, 1, 1, 1, 1,\n",
      "        1, 1, 1, 1, 1, 1, 1, 1, 1, 1, 1, 0, 0, 0, 0, 0, 0, 0, 0, 0, 0, 0, 0, 0,\n",
      "        0, 0, 0, 0, 0, 0, 0, 0, 0, 0, 0, 0, 0, 0, 0, 0])\n",
      "Label:  tensor(1)\n"
     ]
    }
   ],
   "source": [
    "# Tokenizes all sentences using the wordpiece method\n",
    "input_ids = []\n",
    "attention_masks = []\n",
    "\n",
    "for sentence in df['title'].values:\n",
    "    encoded_dict = tokenizer.encode_plus(\n",
    "                        sentence,\n",
    "                        add_special_tokens = True,  # Insert the tokens '[CLS]' and '[SEP]' at the beginning and end of the list, respectively\n",
    "                        max_length = 64,  # Sentences longer than 64 tokens will be truncated and shorter sentences will have the rest of the list filled with the '[PAD]' token\n",
    "                        truncation=True,  # To use truncation\n",
    "                        padding='max_length',  # To include the token '[PAD]' if necessary\n",
    "                        return_attention_mask = True,  # Returns the attention list, which is 1 in the position where the token is not '[PAD]' and is 0 when the token is '[PAD]'\n",
    "                        return_tensors = 'pt'  # Returns the lists as a tensor type object\n",
    "                   )\n",
    "\n",
    "    # Saves the tokenized sentence and attention list into a list\n",
    "    input_ids.append(encoded_dict['input_ids'])\n",
    "    attention_masks.append(encoded_dict['attention_mask'])\n",
    "\n",
    "# Transform the list of tensors into a tensor with multiple lists\n",
    "input_ids = torch.cat(input_ids, dim=0)\n",
    "attention_masks = torch.cat(attention_masks, dim=0)\n",
    "labels = torch.tensor(df['label'].values)\n",
    "\n",
    "# Exemplifying the result with the first sentence of the dataset\n",
    "print('Original sentence: ', df['title'].values[0])\n",
    "print('Tokenized sentence: ', input_ids[0])\n",
    "print('Attention: ', attention_masks[0])\n",
    "print('Label: ', labels[0])"
   ]
  },
  {
   "cell_type": "markdown",
   "metadata": {},
   "source": [
    "With the tokenized sentences, we will divide the database between training, validation and testing, using the separation ratio 80%/10%/10% for each partition, respectively."
   ]
  },
  {
   "cell_type": "code",
   "execution_count": 15,
   "metadata": {},
   "outputs": [
    {
     "name": "stdout",
     "output_type": "stream",
     "text": [
      "49,707 sentences for training\n",
      "6,213 sentences for validation\n",
      "6,214 sentences for test\n"
     ]
    }
   ],
   "source": [
    "# Combining the lists obtained in the tokenization step to create a TensorDataset object\n",
    "dataset = TensorDataset(input_ids, attention_masks, labels)\n",
    "\n",
    "# Calculating the number of sentences each set needs to have to follow the 80-10-10 ratio\n",
    "train_size = int(0.8 * len(dataset))\n",
    "val_size = int(0.1 * len(dataset))\n",
    "test_size = len(dataset) - train_size - val_size\n",
    "\n",
    "# Dividing the sets randomly according to the calculated sample size\n",
    "train_dataset, val_dataset, test_dataset = random_split(dataset, [train_size, val_size, test_size])\n",
    "\n",
    "print('{:>5,} sentences for training'.format(train_size))\n",
    "print('{:>5,} sentences for validation'.format(val_size))\n",
    "print('{:>5,} sentences for test'.format(test_size))"
   ]
  },
  {
   "cell_type": "markdown",
   "metadata": {},
   "source": [
    "Then, in the validation phase, we sought to choose the best set of hyperparameters, based on the model's performance in the validation set. For tasks of fine-tuning a pre-trained BERT model, Devlin et al. (2018) recommend using a mini-batch size of 16 or 32, a learning rate of 2e-05, 3e-05 or 5e-05 and a number of epochs of 2, 3 or 4.\n",
    "\n",
    "Since training a neural network with the entire dataset at once can be computationally expensive and memory-intensive, it is possible to divide the dataset into mini-batches and update the model parameters based on the gradients calculated in each mini-batch. The larger the mini-batch size, the more accurate the gradient estimate and the more computational power required.\n",
    "\n",
    "The learning rate determines the step size at which the model parameters are updated during each iteration of the training process. The higher the learning rate, the faster the parameters converge and the greater the risk of the optimal value being exceeded.\n",
    "\n",
    "An epoch is a complete pass through the entire training dataset during the training process. In each epoch, the model processes all mini-batches in the training dataset, calculates gradients, updates parameters and evaluates the model's performance. Too few epochs can lead to underfitting, while too many epochs can lead to overfitting.\n",
    "\n",
    "18 models were adjusted with the first 2000 observations from the dataset and, for each adjustment, a different combination of the hyperparameter values recommended by Devlin et al. (2018) was used. The results were observed and, based on the analysis of metrics such as accuracy, loss and adjustment time of the models in the validation set, I have chosen the mini-batch size of 32, the learning rate of 3e-05 and 3 epochs."
   ]
  },
  {
   "cell_type": "code",
   "execution_count": 16,
   "metadata": {},
   "outputs": [],
   "source": [
    "# Hyperparameter\n",
    "batch_size = 32\n",
    "learning_rate = 3e-5\n",
    "epochs = 3"
   ]
  },
  {
   "cell_type": "code",
   "execution_count": 17,
   "metadata": {},
   "outputs": [],
   "source": [
    "# Separating the sets considering the batch size:\n",
    "# For training, we select batches randomly. For validation and testing, we select batches sequentially.\n",
    "train_dataloader = DataLoader(train_dataset, sampler = RandomSampler(train_dataset), batch_size = batch_size)\n",
    "validation_dataloader = DataLoader(val_dataset, sampler = SequentialSampler(val_dataset), batch_size = batch_size)\n",
    "prediction_dataloader = DataLoader(test_dataset, sampler = SequentialSampler(test_dataset), batch_size = batch_size)"
   ]
  },
  {
   "cell_type": "code",
   "execution_count": 18,
   "metadata": {},
   "outputs": [],
   "source": [
    "# The optimizer is the object responsible for updating the model parameters\n",
    "# We will be using the AdamW optimizer\n",
    "optimizer = torch.optim.AdamW(model.parameters(), lr = learning_rate)"
   ]
  },
  {
   "cell_type": "code",
   "execution_count": 19,
   "metadata": {},
   "outputs": [],
   "source": [
    "# Creates the object responsible for reducing the learning rate as the model learns\n",
    "# The 'num_training_steps' is calculated as the number of batches multiplied by the number of epochs\n",
    "scheduler = get_linear_schedule_with_warmup(optimizer, num_warmup_steps = 0, num_training_steps = len(train_dataloader) * epochs)"
   ]
  },
  {
   "cell_type": "markdown",
   "metadata": {},
   "source": [
    "It is also important to declare some auxiliary functions. Among them, we will declare `flat_accuracy`, which returns the proportion of prediction hits and `format_time`, which returns the time in the format of hours, minutes and seconds given the total number of seconds."
   ]
  },
  {
   "cell_type": "code",
   "execution_count": 20,
   "metadata": {},
   "outputs": [],
   "source": [
    "# Function that calculates the accuracy of predicted values against the labels\n",
    "def flat_accuracy(preds, labels):\n",
    "    pred_flat = np.argmax(preds, axis=1).flatten()\n",
    "    labels_flat = labels.flatten()\n",
    "    return np.sum(pred_flat == labels_flat) / len(labels_flat)"
   ]
  },
  {
   "cell_type": "code",
   "execution_count": 21,
   "metadata": {},
   "outputs": [],
   "source": [
    "def format_time(elapsed):\n",
    "    elapsed_rounded = int(round((elapsed)))\n",
    "\n",
    "    return str(datetime.timedelta(seconds=elapsed_rounded))"
   ]
  },
  {
   "cell_type": "markdown",
   "metadata": {},
   "source": [
    "Finally, let's start training the model using the auxiliary variables created so far. It is important to note that this is the most time-consuming and computationally demanding step of the entire process."
   ]
  },
  {
   "cell_type": "code",
   "execution_count": 26,
   "metadata": {},
   "outputs": [
    {
     "name": "stdout",
     "output_type": "stream",
     "text": [
      "\n",
      "======== Epoca 1 / 3 ========\n",
      "Treinando...\n",
      "  Lote    40  de  1,554.    Tempo decorrido: 0:05:28.\n",
      "  Lote    80  de  1,554.    Tempo decorrido: 0:11:26.\n",
      "  Lote   120  de  1,554.    Tempo decorrido: 0:17:15.\n",
      "  Lote   160  de  1,554.    Tempo decorrido: 0:23:26.\n",
      "  Lote   200  de  1,554.    Tempo decorrido: 0:29:37.\n",
      "  Lote   240  de  1,554.    Tempo decorrido: 0:35:47.\n",
      "  Lote   280  de  1,554.    Tempo decorrido: 0:41:59.\n",
      "  Lote   320  de  1,554.    Tempo decorrido: 0:48:08.\n",
      "  Lote   360  de  1,554.    Tempo decorrido: 0:53:55.\n",
      "  Lote   400  de  1,554.    Tempo decorrido: 1:00:06.\n",
      "  Lote   440  de  1,554.    Tempo decorrido: 1:06:16.\n",
      "  Lote   480  de  1,554.    Tempo decorrido: 1:12:27.\n",
      "  Lote   520  de  1,554.    Tempo decorrido: 1:18:38.\n",
      "  Lote   560  de  1,554.    Tempo decorrido: 1:24:48.\n",
      "  Lote   600  de  1,554.    Tempo decorrido: 1:30:33.\n",
      "  Lote   640  de  1,554.    Tempo decorrido: 1:36:52.\n",
      "  Lote   680  de  1,554.    Tempo decorrido: 1:42:59.\n",
      "  Lote   720  de  1,554.    Tempo decorrido: 1:49:08.\n",
      "  Lote   760  de  1,554.    Tempo decorrido: 1:55:18.\n",
      "  Lote   800  de  1,554.    Tempo decorrido: 2:00:56.\n",
      "  Lote   840  de  1,554.    Tempo decorrido: 2:07:05.\n",
      "  Lote   880  de  1,554.    Tempo decorrido: 2:13:18.\n",
      "  Lote   920  de  1,554.    Tempo decorrido: 2:19:17.\n",
      "  Lote   960  de  1,554.    Tempo decorrido: 2:25:03.\n",
      "  Lote 1,000  de  1,554.    Tempo decorrido: 2:31:14.\n",
      "  Lote 1,040  de  1,554.    Tempo decorrido: 2:37:24.\n",
      "  Lote 1,080  de  1,554.    Tempo decorrido: 2:43:34.\n",
      "  Lote 1,120  de  1,554.    Tempo decorrido: 2:49:45.\n",
      "  Lote 1,160  de  1,554.    Tempo decorrido: 2:55:33.\n",
      "  Lote 1,200  de  1,554.    Tempo decorrido: 3:01:32.\n",
      "  Lote 1,240  de  1,554.    Tempo decorrido: 3:08:07.\n",
      "  Lote 1,280  de  1,554.    Tempo decorrido: 3:14:17.\n",
      "  Lote 1,320  de  1,554.    Tempo decorrido: 3:19:57.\n",
      "  Lote 1,360  de  1,554.    Tempo decorrido: 3:26:07.\n",
      "  Lote 1,400  de  1,554.    Tempo decorrido: 3:32:16.\n",
      "  Lote 1,440  de  1,554.    Tempo decorrido: 3:38:30.\n",
      "  Lote 1,480  de  1,554.    Tempo decorrido: 3:44:40.\n",
      "  Lote 1,520  de  1,554.    Tempo decorrido: 3:50:49.\n",
      "  Acuracia: 0.92\n",
      "  Perda media de treinamento: 0.19\n",
      "  Treinamento da epoca levou: 3:55:57\n",
      "\n",
      "Validando...\n",
      "  Acuracia: 0.94\n",
      "  Perda de validacao: 0.15\n",
      "  Validacao levou: 0:10:01\n",
      "\n",
      "======== Epoca 2 / 3 ========\n",
      "Treinando...\n",
      "  Lote    40  de  1,554.    Tempo decorrido: 0:06:09.\n",
      "  Lote    80  de  1,554.    Tempo decorrido: 0:12:04.\n",
      "  Lote   120  de  1,554.    Tempo decorrido: 0:18:01.\n",
      "  Lote   160  de  1,554.    Tempo decorrido: 0:24:13.\n",
      "  Lote   200  de  1,554.    Tempo decorrido: 0:30:24.\n",
      "  Lote   240  de  1,554.    Tempo decorrido: 0:35:43.\n",
      "  Lote   280  de  1,554.    Tempo decorrido: 0:41:27.\n",
      "  Lote   320  de  1,554.    Tempo decorrido: 0:47:13.\n",
      "  Lote   360  de  1,554.    Tempo decorrido: 0:52:55.\n",
      "  Lote   400  de  1,554.    Tempo decorrido: 0:58:42.\n",
      "  Lote   440  de  1,554.    Tempo decorrido: 1:04:30.\n",
      "  Lote   480  de  1,554.    Tempo decorrido: 1:10:17.\n",
      "  Lote   520  de  1,554.    Tempo decorrido: 1:16:04.\n",
      "  Lote   560  de  1,554.    Tempo decorrido: 1:21:51.\n",
      "  Lote   600  de  1,554.    Tempo decorrido: 1:27:21.\n",
      "  Lote   640  de  1,554.    Tempo decorrido: 1:33:09.\n",
      "  Lote   680  de  1,554.    Tempo decorrido: 1:38:55.\n",
      "  Lote   720  de  1,554.    Tempo decorrido: 1:44:43.\n",
      "  Lote   760  de  1,554.    Tempo decorrido: 1:50:29.\n",
      "  Lote   800  de  1,554.    Tempo decorrido: 1:56:18.\n",
      "  Lote   840  de  1,554.    Tempo decorrido: 2:02:07.\n",
      "  Lote   880  de  1,554.    Tempo decorrido: 2:07:54.\n",
      "  Lote   920  de  1,554.    Tempo decorrido: 2:13:42.\n",
      "  Lote   960  de  1,554.    Tempo decorrido: 2:19:28.\n",
      "  Lote 1,000  de  1,554.    Tempo decorrido: 2:25:16.\n",
      "  Lote 1,040  de  1,554.    Tempo decorrido: 2:31:08.\n",
      "  Lote 1,080  de  1,554.    Tempo decorrido: 2:36:54.\n",
      "  Lote 1,120  de  1,554.    Tempo decorrido: 2:42:41.\n",
      "  Lote 1,160  de  1,554.    Tempo decorrido: 2:48:25.\n",
      "  Lote 1,200  de  1,554.    Tempo decorrido: 2:54:15.\n",
      "  Lote 1,240  de  1,554.    Tempo decorrido: 3:00:01.\n",
      "  Lote 1,280  de  1,554.    Tempo decorrido: 3:05:46.\n",
      "  Lote 1,320  de  1,554.    Tempo decorrido: 3:11:35.\n",
      "  Lote 1,360  de  1,554.    Tempo decorrido: 3:17:20.\n",
      "  Lote 1,400  de  1,554.    Tempo decorrido: 3:23:07.\n",
      "  Lote 1,440  de  1,554.    Tempo decorrido: 3:28:51.\n",
      "  Lote 1,480  de  1,554.    Tempo decorrido: 3:34:38.\n",
      "  Lote 1,520  de  1,554.    Tempo decorrido: 3:40:25.\n",
      "  Acuracia: 0.97\n",
      "  Perda media de treinamento: 0.09\n",
      "  Treinamento da epoca levou: 3:45:13\n",
      "\n",
      "Validando...\n",
      "  Acuracia: 0.94\n",
      "  Perda de validacao: 0.18\n",
      "  Validacao levou: 0:09:05\n",
      "\n",
      "======== Epoca 3 / 3 ========\n",
      "Treinando...\n",
      "  Lote    40  de  1,554.    Tempo decorrido: 0:05:32.\n",
      "  Lote    80  de  1,554.    Tempo decorrido: 0:11:19.\n",
      "  Lote   120  de  1,554.    Tempo decorrido: 0:17:10.\n",
      "  Lote   160  de  1,554.    Tempo decorrido: 0:22:59.\n",
      "  Lote   200  de  1,554.    Tempo decorrido: 0:28:46.\n",
      "  Lote   240  de  1,554.    Tempo decorrido: 0:34:33.\n",
      "  Lote   280  de  1,554.    Tempo decorrido: 0:40:23.\n",
      "  Lote   320  de  1,554.    Tempo decorrido: 0:46:08.\n",
      "  Lote   360  de  1,554.    Tempo decorrido: 0:51:53.\n",
      "  Lote   400  de  1,554.    Tempo decorrido: 0:57:39.\n",
      "  Lote   440  de  1,554.    Tempo decorrido: 1:03:25.\n",
      "  Lote   480  de  1,554.    Tempo decorrido: 1:09:14.\n",
      "  Lote   520  de  1,554.    Tempo decorrido: 1:14:59.\n",
      "  Lote   560  de  1,554.    Tempo decorrido: 1:20:44.\n",
      "  Lote   600  de  1,554.    Tempo decorrido: 1:26:30.\n",
      "  Lote   640  de  1,554.    Tempo decorrido: 1:32:19.\n",
      "  Lote   680  de  1,554.    Tempo decorrido: 1:38:07.\n",
      "  Lote   720  de  1,554.    Tempo decorrido: 1:43:55.\n",
      "  Lote   760  de  1,554.    Tempo decorrido: 1:49:39.\n",
      "  Lote   800  de  1,554.    Tempo decorrido: 1:55:26.\n",
      "  Lote   840  de  1,554.    Tempo decorrido: 2:01:15.\n",
      "  Lote   880  de  1,554.    Tempo decorrido: 2:07:03.\n",
      "  Lote   920  de  1,554.    Tempo decorrido: 2:12:47.\n",
      "  Lote   960  de  1,554.    Tempo decorrido: 2:18:41.\n",
      "  Lote 1,000  de  1,554.    Tempo decorrido: 2:24:28.\n",
      "  Lote 1,040  de  1,554.    Tempo decorrido: 2:30:17.\n",
      "  Lote 1,080  de  1,554.    Tempo decorrido: 2:36:06.\n",
      "  Lote 1,120  de  1,554.    Tempo decorrido: 2:41:53.\n",
      "  Lote 1,160  de  1,554.    Tempo decorrido: 2:47:45.\n",
      "  Lote 1,200  de  1,554.    Tempo decorrido: 2:53:34.\n",
      "  Lote 1,240  de  1,554.    Tempo decorrido: 2:59:20.\n",
      "  Lote 1,280  de  1,554.    Tempo decorrido: 3:05:06.\n",
      "  Lote 1,320  de  1,554.    Tempo decorrido: 3:10:53.\n",
      "  Lote 1,360  de  1,554.    Tempo decorrido: 3:16:41.\n",
      "  Lote 1,400  de  1,554.    Tempo decorrido: 3:22:30.\n",
      "  Lote 1,440  de  1,554.    Tempo decorrido: 3:28:17.\n",
      "  Lote 1,480  de  1,554.    Tempo decorrido: 3:34:03.\n",
      "  Lote 1,520  de  1,554.    Tempo decorrido: 3:39:51.\n",
      "  Acuracia: 0.99\n",
      "  Perda media de treinamento: 0.04\n",
      "  Treinamento da epoca levou: 3:44:42\n",
      "\n",
      "Validando...\n",
      "  Acuracia: 0.95\n",
      "  Perda de validacao: 0.24\n",
      "  Validacao levou: 0:09:19\n",
      "\n",
      "Treinamento concluído!\n",
      "Tempo total de treinamento: 11:54:17 (hh:mm:ss)\n"
     ]
    }
   ],
   "source": [
    "training_stats = []  # Let's store some model evaluation statistics in this object\n",
    "\n",
    "initial_time = time.time()\n",
    "\n",
    "# For each epoch...\n",
    "for epoch_i in range(0, epochs):\n",
    "    # ========================================\n",
    "    #               Training\n",
    "    # ========================================\n",
    "\n",
    "    # Performs a complete pass over the training set\n",
    "\n",
    "    print('\\n======== Epoch {:} / {:} ========'.format(epoch_i + 1, epochs))\n",
    "    print('Training...')\n",
    "    \n",
    "    t0 = time.time()  # Measures the training time of this epoch\n",
    "    total_train_accuracy = 0  # Reset the full accuracy for this epoch\n",
    "    total_train_loss = 0  # Reset the full loss for this epoch\n",
    "\n",
    "    model.train()  # Puts the model in training mode\n",
    "    # The method 'train()' only changes the state of the 'model' object, it does not actually train the model.\n",
    "    # The 'dropout' and 'batchnorm' layers behave behave differently during training\n",
    "    # versus testing (https://stackoverflow.com/questions/51433378/what-does-model-train-do-in-pytorch).\n",
    "    \n",
    "    # For each batch of the training set...\n",
    "    for step, batch in enumerate(train_dataloader):\n",
    "        # Prints the progress to the user every 40 batches\n",
    "        if step % 40 == 0 and not step == 0:\n",
    "            print('  Batch {:>5,}  of  {:>5,}.    Time elapsed: {:}.'.format(step, len(train_dataloader), format_time(time.time() - t0)))\n",
    "\n",
    "        # 'batch' is an object that contains 3 tensors:\n",
    "        #   [0]: input_ids\n",
    "        #   [1]: attention_masks\n",
    "        #   [2]: labels\n",
    "        # Let's copy each tensor to the CPU using the '.to()' method\n",
    "        b_input_ids = batch[0].to(device)\n",
    "        b_input_mask = batch[1].to(device)\n",
    "        b_labels = batch[2].to(device)\n",
    "\n",
    "        model.zero_grad()  # We need to clear any previously calculated gradients before performing the backward step\n",
    "        # PyTorch does not do this automatically due to RNN training characteristics\n",
    "        # (https://stackoverflow.com/questions/48001598/why-do-we-need-to-call-zero-grad-in-pytorch)\n",
    "        \n",
    "        result = model(b_input_ids,\n",
    "                       token_type_ids=None,  # 'None' because we are not in the context of Next Sentence Prediction\n",
    "                       attention_mask=b_input_mask,\n",
    "                       labels=b_labels,\n",
    "                       return_dict=True)\n",
    "        # Performs the model training with data from this batch, using the forward function.\n",
    "        # Although we use the 'model' function, the arguments from this function are going to another function called 'forward'.\n",
    "        # Here is the documentation of the returned results:\n",
    "        # https://huggingface.co/transformers/main_classes/output.html#transformers.modeling_outputs.SequenceClassifierOutput\n",
    "\n",
    "        loss = result.loss  # Classification loss. How \"far\" the model prediction was in relation to the true label\n",
    "        logits = result.logits  # Classification score\n",
    "        # For each sentence, the label with the highest score will be the one that the model will choose as the true label of the sentence\n",
    "\n",
    "        total_train_loss += loss.item()  # Accumulating the training error across all batches so we can calculate the average loss at the end\n",
    "        \n",
    "        # Moving the logits and labels to the CPU\n",
    "        logits = logits.detach().cpu().numpy()\n",
    "        label_ids = b_labels.to('cpu').numpy()\n",
    "\n",
    "        total_train_accuracy += flat_accuracy(logits, label_ids)  # Accumulating the training accuracy\n",
    "\n",
    "        loss.backward()  # Execute the backward method to calculate gradients\n",
    "\n",
    "        torch.nn.utils.clip_grad_norm_(model.parameters(), 1.0)  # This avoids the explosive gradient problem\n",
    "\n",
    "        optimizer.step()  # Update model parameters and perform a step using the computed gradient\n",
    "        \n",
    "        scheduler.step()  # Update the learning rate\n",
    "    \n",
    "    avg_train_accuracy = total_train_accuracy / len(train_dataloader)  # Calculate the average training accuracy\n",
    "    print(\"  Acuracia: {0:.2f}\".format(avg_train_accuracy))\n",
    "\n",
    "    avg_train_loss = total_train_loss / len(train_dataloader)  # Calculate the average loss over all of the batches\n",
    "\n",
    "    training_time = format_time(time.time() - t0)\n",
    "\n",
    "    print(\"  Average training loss: {0:.2f}\".format(avg_train_loss))\n",
    "    print(\"  Training epcoh took: {:}\".format(training_time))\n",
    "\n",
    "    # ========================================\n",
    "    #               Validation\n",
    "    # ========================================\n",
    "    # Once the training epoch is complete, we will measure the model's performance on validation data    \n",
    "\n",
    "    print(\"\\nValidating...\")\n",
    "\n",
    "    t0 = time.time()\n",
    "\n",
    "    model.eval()  # Puts the model in validation mode\n",
    "\n",
    "    total_eval_accuracy = 0\n",
    "    total_eval_loss = 0\n",
    "\n",
    "    for batch in validation_dataloader:\n",
    "        # Similar to training, we will store the batch values\n",
    "        b_input_ids = batch[0].to(device)\n",
    "        b_input_mask = batch[1].to(device)\n",
    "        b_labels = batch[2].to(device)\n",
    "\n",
    "        # 'torch.no_grad()' saves processing time by not computing some metrics that are only used in the training phase\n",
    "        with torch.no_grad():\n",
    "            result = model(b_input_ids,\n",
    "                           token_type_ids=None,\n",
    "                           attention_mask=b_input_mask,\n",
    "                           labels=b_labels,\n",
    "                           return_dict=True)\n",
    "            # Execute the 'forward' function with the validation data\n",
    "\n",
    "        loss = result.loss\n",
    "        logits = result.logits\n",
    "\n",
    "        total_eval_loss += loss.item()  # Accumulating the validation error across all batches so that we can calculate the average loss at the end\n",
    "\n",
    "        logits = logits.detach().cpu().numpy()\n",
    "        label_ids = b_labels.to('cpu').numpy()\n",
    "\n",
    "        total_eval_accuracy += flat_accuracy(logits, label_ids)  # Accumulating validation accuracy\n",
    "\n",
    "\n",
    "    avg_val_accuracy = total_eval_accuracy / len(validation_dataloader)  # Calculate the average validation accuracy\n",
    "    print(\"  Accuracy: {0:.2f}\".format(avg_val_accuracy))\n",
    "\n",
    "    avg_val_loss = total_eval_loss / len(validation_dataloader)  # Calculate the average batch loss\n",
    "\n",
    "    validation_time = format_time(time.time() - t0)\n",
    "\n",
    "    print(\"  Validation Loss: {0:.2f}\".format(avg_val_loss))\n",
    "    print(\"  Validation took: {:}\".format(validation_time))\n",
    "\n",
    "    # Storing statistics from this epoch\n",
    "    training_stats.append(\n",
    "        {\n",
    "            'epoch': epoch_i + 1,\n",
    "            'Training loss': avg_train_loss,\n",
    "            'Validation loss': avg_val_loss,\n",
    "            'Training accuracy': avg_train_accuracy,\n",
    "            'Validation accuracy': avg_val_accuracy,\n",
    "            'Training time': training_time,\n",
    "            'Validation time': validation_time\n",
    "        }\n",
    "    )\n",
    "\n",
    "print(\"\\nTraining complete!\")\n",
    "print(\"Total training time: {:} (hh:mm:ss)\".format(format_time(time.time()-initial_time)))"
   ]
  },
  {
   "cell_type": "markdown",
   "metadata": {},
   "source": [
    "Let's export the model so we don't lose progress!"
   ]
  },
  {
   "cell_type": "code",
   "execution_count": 27,
   "metadata": {},
   "outputs": [],
   "source": [
    "# Saving the trained model and tokenizer\n",
    "if not os.path.exists(MODEL_FOLDER):\n",
    "    os.makedirs(MODEL_FOLDER)\n",
    "\n",
    "model_to_save = model.module if hasattr(model, 'module') else model\n",
    "model_to_save.save_pretrained(MODEL_FOLDER)\n",
    "tokenizer.save_pretrained(MODEL_FOLDER)\n",
    "\n",
    "# Saving the model statistics\n",
    "df_stats = pd.DataFrame(data=training_stats).set_index('epoch')\n",
    "df_stats.to_csv(os.path.join(MODEL_FOLDER, 'training_stats.csv'))\n",
    "\n",
    "# Saving the 'index' of all training sets. In this way, we can recreate the training, validation and test sets.\n",
    "# This 'indexes' goes from 0 to len(dataset)-1, therefore they represent the order of each df's rows and not necessarily its indexes.\n",
    "df_indexes = pd.DataFrame({'set': ['train' for _ in range(len(train_dataset))] + ['validation' for _ in range(len(val_dataset))] + ['test' for _ in range(len(test_dataset))]\n",
    "                          ,'indice': train_dataset.indices + val_dataset.indices + test_dataset.indices})\n",
    "df_indexes.to_csv(os.path.join(MODEL_FOLDER, 'indices_set.csv'), index=False)"
   ]
  },
  {
   "cell_type": "code",
   "execution_count": 22,
   "metadata": {},
   "outputs": [
    {
     "data": {
      "text/html": [
       "<div>\n",
       "<style scoped>\n",
       "    .dataframe tbody tr th:only-of-type {\n",
       "        vertical-align: middle;\n",
       "    }\n",
       "\n",
       "    .dataframe tbody tr th {\n",
       "        vertical-align: top;\n",
       "    }\n",
       "\n",
       "    .dataframe thead th {\n",
       "        text-align: right;\n",
       "    }\n",
       "</style>\n",
       "<table border=\"1\" class=\"dataframe\">\n",
       "  <thead>\n",
       "    <tr style=\"text-align: right;\">\n",
       "      <th></th>\n",
       "      <th>Perda de treinamento</th>\n",
       "      <th>Perda de validacao</th>\n",
       "      <th>Acuracia de treinamento</th>\n",
       "      <th>Acuracia de validacao</th>\n",
       "      <th>Tempo de treinamento</th>\n",
       "      <th>Tempo de validacao</th>\n",
       "    </tr>\n",
       "    <tr>\n",
       "      <th>epoca</th>\n",
       "      <th></th>\n",
       "      <th></th>\n",
       "      <th></th>\n",
       "      <th></th>\n",
       "      <th></th>\n",
       "      <th></th>\n",
       "    </tr>\n",
       "  </thead>\n",
       "  <tbody>\n",
       "    <tr>\n",
       "      <th>1</th>\n",
       "      <td>0.194304</td>\n",
       "      <td>0.152900</td>\n",
       "      <td>0.921976</td>\n",
       "      <td>0.944872</td>\n",
       "      <td>3:55:57</td>\n",
       "      <td>0:10:01</td>\n",
       "    </tr>\n",
       "    <tr>\n",
       "      <th>2</th>\n",
       "      <td>0.094286</td>\n",
       "      <td>0.182497</td>\n",
       "      <td>0.967002</td>\n",
       "      <td>0.944551</td>\n",
       "      <td>3:45:13</td>\n",
       "      <td>0:09:05</td>\n",
       "    </tr>\n",
       "    <tr>\n",
       "      <th>3</th>\n",
       "      <td>0.042467</td>\n",
       "      <td>0.242404</td>\n",
       "      <td>0.987934</td>\n",
       "      <td>0.949679</td>\n",
       "      <td>3:44:42</td>\n",
       "      <td>0:09:19</td>\n",
       "    </tr>\n",
       "  </tbody>\n",
       "</table>\n",
       "</div>"
      ],
      "text/plain": [
       "       Perda de treinamento  Perda de validacao  Acuracia de treinamento  \\\n",
       "epoca                                                                      \n",
       "1                  0.194304            0.152900                 0.921976   \n",
       "2                  0.094286            0.182497                 0.967002   \n",
       "3                  0.042467            0.242404                 0.987934   \n",
       "\n",
       "       Acuracia de validacao Tempo de treinamento Tempo de validacao  \n",
       "epoca                                                                 \n",
       "1                   0.944872              3:55:57            0:10:01  \n",
       "2                   0.944551              3:45:13            0:09:05  \n",
       "3                   0.949679              3:44:42            0:09:19  "
      ]
     },
     "execution_count": 22,
     "metadata": {},
     "output_type": "execute_result"
    }
   ],
   "source": [
    "# Analyzing training statistics\n",
    "df_stats = pd.read_csv(os.path.join(MODEL_FOLDER, 'training_stats.csv'), index_col=0)\n",
    "df_stats"
   ]
  },
  {
   "cell_type": "markdown",
   "metadata": {},
   "source": [
    "It can be seen from the table above that the average loss between the mini-batches and the training accuracy decreased and increased, respectively, during the training phase. This seems to indicate that the model was able to learn from the data, obtaining a final accuracy of 98.79% on the training set. However, it is possible to observe that the average validation loss increased over the epochs, which may be an indication of overfitting. As the validation accuracy remained approximately constant throughout the epochs, the sign of overfitting observed in the average validation loss may not be as significant."
   ]
  },
  {
   "cell_type": "code",
   "execution_count": 25,
   "metadata": {},
   "outputs": [
    {
     "data": {
      "image/png": "[encoded data removed]",
      "text/plain": [
       "<Figure size 1200x600 with 1 Axes>"
      ]
     },
     "metadata": {},
     "output_type": "display_data"
    }
   ],
   "source": [
    "%matplotlib inline\n",
    "\n",
    "# Using the style from the seaborn package\n",
    "sns.set(style='darkgrid')\n",
    "\n",
    "# Increase the plot size and font size\n",
    "sns.set(font_scale=1.5)\n",
    "plt.rcParams[\"figure.figsize\"] = (12,6)\n",
    "\n",
    "# Plot the learning curve\n",
    "plt.plot(df_stats['Perda de treinamento'], 'b-o', label=\"Training\")\n",
    "plt.plot(df_stats['Perda de validacao'], 'g-o', label=\"Validation\")\n",
    "\n",
    "# Label the plot\n",
    "plt.title(\"Training and Validation Loss\")\n",
    "plt.xlabel(\"Epoch\")\n",
    "plt.ylabel(\"Loss\")\n",
    "plt.legend()\n",
    "plt.xticks([1, 2, 3])\n",
    "\n",
    "plt.show()"
   ]
  },
  {
   "cell_type": "markdown",
   "metadata": {},
   "source": [
    "# Evaluating the model"
   ]
  },
  {
   "cell_type": "markdown",
   "metadata": {},
   "source": [
    "After tuning, we will evaluate the model's performance on the test set"
   ]
  },
  {
   "cell_type": "code",
   "execution_count": 26,
   "metadata": {},
   "outputs": [
    {
     "data": {
      "text/plain": [
       "BertForSequenceClassification(\n",
       "  (bert): BertModel(\n",
       "    (embeddings): BertEmbeddings(\n",
       "      (word_embeddings): Embedding(30522, 768, padding_idx=0)\n",
       "      (position_embeddings): Embedding(512, 768)\n",
       "      (token_type_embeddings): Embedding(2, 768)\n",
       "      (LayerNorm): LayerNorm((768,), eps=1e-12, elementwise_affine=True)\n",
       "      (dropout): Dropout(p=0.1, inplace=False)\n",
       "    )\n",
       "    (encoder): BertEncoder(\n",
       "      (layer): ModuleList(\n",
       "        (0-11): 12 x BertLayer(\n",
       "          (attention): BertAttention(\n",
       "            (self): BertSelfAttention(\n",
       "              (query): Linear(in_features=768, out_features=768, bias=True)\n",
       "              (key): Linear(in_features=768, out_features=768, bias=True)\n",
       "              (value): Linear(in_features=768, out_features=768, bias=True)\n",
       "              (dropout): Dropout(p=0.1, inplace=False)\n",
       "            )\n",
       "            (output): BertSelfOutput(\n",
       "              (dense): Linear(in_features=768, out_features=768, bias=True)\n",
       "              (LayerNorm): LayerNorm((768,), eps=1e-12, elementwise_affine=True)\n",
       "              (dropout): Dropout(p=0.1, inplace=False)\n",
       "            )\n",
       "          )\n",
       "          (intermediate): BertIntermediate(\n",
       "            (dense): Linear(in_features=768, out_features=3072, bias=True)\n",
       "            (intermediate_act_fn): GELUActivation()\n",
       "          )\n",
       "          (output): BertOutput(\n",
       "            (dense): Linear(in_features=3072, out_features=768, bias=True)\n",
       "            (LayerNorm): LayerNorm((768,), eps=1e-12, elementwise_affine=True)\n",
       "            (dropout): Dropout(p=0.1, inplace=False)\n",
       "          )\n",
       "        )\n",
       "      )\n",
       "    )\n",
       "    (pooler): BertPooler(\n",
       "      (dense): Linear(in_features=768, out_features=768, bias=True)\n",
       "      (activation): Tanh()\n",
       "    )\n",
       "  )\n",
       "  (dropout): Dropout(p=0.1, inplace=False)\n",
       "  (classifier): Linear(in_features=768, out_features=2, bias=True)\n",
       ")"
      ]
     },
     "execution_count": 26,
     "metadata": {},
     "output_type": "execute_result"
    }
   ],
   "source": [
    "tokenizer = BertTokenizer.from_pretrained(MODEL_FOLDER)\n",
    "model = BertForSequenceClassification.from_pretrained(MODEL_FOLDER, num_labels = 2, output_attentions = False, output_hidden_states = False)\n",
    "\n",
    "model.to(device)"
   ]
  },
  {
   "cell_type": "markdown",
   "metadata": {},
   "source": [
    "We can recreate the test set after tuning, making it possible to train and test the model in different sections. If the test is carried out in the same section, it is not necessary to run the code block below."
   ]
  },
  {
   "cell_type": "code",
   "execution_count": 27,
   "metadata": {},
   "outputs": [],
   "source": [
    "# Using the observation mapping to the corresponding bank, if it is of interest to run the test in a separate section of the training\n",
    "df_indexes = pd.read_csv(os.path.join(MODEL_FOLDER, 'indices_set.csv'))\n",
    "test_indexes = df_indexes.loc[df_indexes['set'] == 'test', 'indice'].tolist()"
   ]
  },
  {
   "cell_type": "markdown",
   "metadata": {},
   "source": [
    "Let's perform the same steps for the test that were done in validation"
   ]
  },
  {
   "cell_type": "code",
   "execution_count": 28,
   "metadata": {},
   "outputs": [],
   "source": [
    "test_dataset = Subset(dataset, test_indexes)\n",
    "prediction_dataloader = DataLoader(test_dataset, sampler = SequentialSampler(test_dataset), batch_size = batch_size)\n",
    "\n",
    "model.eval()  # Puts the model in validation mode\n",
    "\n",
    "logits, true_labels = [], []\n",
    "\n",
    "# For each batch of the test set...\n",
    "for batch in prediction_dataloader:\n",
    "    batch = tuple(t.to(device) for t in batch)\n",
    "    b_input_ids, b_input_mask, b_labels = batch\n",
    "\n",
    "    with torch.no_grad():\n",
    "        # Execute the 'forward' function to store the predicted values\n",
    "        result = model(b_input_ids,\n",
    "                        token_type_ids=None,\n",
    "                        attention_mask=b_input_mask,\n",
    "                        return_dict=True)\n",
    "\n",
    "    logits_aux = result.logits\n",
    "\n",
    "    logits_aux = logits_aux.detach().cpu().numpy()\n",
    "    label_ids = b_labels.to('cpu').numpy()\n",
    "\n",
    "    # Storing actual and predicted values\n",
    "    logits.append(logits_aux)\n",
    "    true_labels.append(label_ids)"
   ]
  },
  {
   "cell_type": "code",
   "execution_count": 30,
   "metadata": {},
   "outputs": [],
   "source": [
    "# Transforming the list of arrays to arrays\n",
    "logits = np.concatenate(logits, axis=0)\n",
    "true_labels = np.concatenate(true_labels, axis=0)"
   ]
  },
  {
   "cell_type": "markdown",
   "metadata": {},
   "source": [
    "Let's save the `logits` and `true_labels` `np.arrays` to save processing time"
   ]
  },
  {
   "cell_type": "code",
   "execution_count": 31,
   "metadata": {},
   "outputs": [],
   "source": [
    "# Creating folders to store the logits and true_labels arrays\n",
    "EVAL_FOLDER = os.path.join(MODEL_FOLDER, 'evaluation')\n",
    "\n",
    "if not os.path.exists(EVAL_FOLDER): os.makedirs(EVAL_FOLDER)\n",
    "\n",
    "# Saving all arrays\n",
    "np.save(os.path.join(EVAL_FOLDER, f'logits.npy'), logits)\n",
    "np.save(os.path.join(EVAL_FOLDER, f'true_labels.npy'), true_labels)"
   ]
  },
  {
   "cell_type": "code",
   "execution_count": 29,
   "metadata": {},
   "outputs": [],
   "source": [
    "# Importing all arrays\n",
    "logits = np.load(os.path.join(EVAL_FOLDER, f'logits.npy'))\n",
    "true_labels = np.load(os.path.join(EVAL_FOLDER, f'true_labels.npy'))\n",
    "\n",
    "predictions = np.argmax(logits, axis=1).flatten()"
   ]
  },
  {
   "cell_type": "markdown",
   "metadata": {},
   "source": [
    "## Evaluation metrics"
   ]
  },
  {
   "cell_type": "markdown",
   "metadata": {},
   "source": [
    "Do Remember that the class is slightly unbalanced in favor of true news"
   ]
  },
  {
   "cell_type": "code",
   "execution_count": 30,
   "metadata": {},
   "outputs": [
    {
     "data": {
      "text/plain": [
       "label\n",
       "0    3448\n",
       "1    2766\n",
       "dtype: int64"
      ]
     },
     "execution_count": 30,
     "metadata": {},
     "output_type": "execute_result"
    }
   ],
   "source": [
    "df.loc[test_indexes].groupby('label').size()"
   ]
  },
  {
   "cell_type": "markdown",
   "metadata": {},
   "source": [
    "The definitions of the measures used to evaluate the results of the adjusted model are described below. True positives (TP) represent the number of observations that were correctly predicted as positive by the model. Since \"label\" is 1 when the news is false and 0 when it is true, a positive prediction indicates the classification of the news as false and, similarly, a negative prediction indicates the classification of the news as true. True negatives (TN) represent the number of observations that were correctly predicted as negative by the model. False positives (FP) indicate the number of observations incorrectly predicted as positive by the model. Finally, false negatives (FN) indicate the number of observations incorrectly predicted as negative by the model."
   ]
  },
  {
   "cell_type": "code",
   "execution_count": 31,
   "metadata": {},
   "outputs": [],
   "source": [
    "tp = sum(predictions[true_labels == 1] == 1)  # true positive\n",
    "tn = sum(predictions[true_labels == 0] == 0)  # true negative\n",
    "fp = sum(predictions[true_labels == 0] == 1)  # fake positive\n",
    "fn = sum(predictions[true_labels == 1] == 0)  # fake negative\n",
    "\n",
    "# Declaring the values above but as percentages of the number of observations from the test set\n",
    "tp_perc = '{0:.4%}'.format(tp/(tp + tn + fp + fn))\n",
    "tn_perc = '{0:.4%}'.format(tn/(tp + tn + fp + fn))\n",
    "fp_perc = '{0:.4%}'.format(fp/(tp + tn + fp + fn))\n",
    "fn_perc = '{0:.4%}'.format(fn/(tp + tn + fp + fn))"
   ]
  },
  {
   "cell_type": "markdown",
   "metadata": {},
   "source": [
    "Confusion matrix"
   ]
  },
  {
   "cell_type": "code",
   "execution_count": 32,
   "metadata": {},
   "outputs": [
    {
     "data": {
      "text/html": [
       "<div>\n",
       "<style scoped>\n",
       "    .dataframe tbody tr th:only-of-type {\n",
       "        vertical-align: middle;\n",
       "    }\n",
       "\n",
       "    .dataframe tbody tr th {\n",
       "        vertical-align: top;\n",
       "    }\n",
       "\n",
       "    .dataframe thead th {\n",
       "        text-align: right;\n",
       "    }\n",
       "</style>\n",
       "<table border=\"1\" class=\"dataframe\">\n",
       "  <thead>\n",
       "    <tr style=\"text-align: right;\">\n",
       "      <th></th>\n",
       "      <th>Positive predicted</th>\n",
       "      <th>Negative predicted</th>\n",
       "    </tr>\n",
       "  </thead>\n",
       "  <tbody>\n",
       "    <tr>\n",
       "      <th>True positive</th>\n",
       "      <td>2565</td>\n",
       "      <td>201</td>\n",
       "    </tr>\n",
       "    <tr>\n",
       "      <th>True negative</th>\n",
       "      <td>132</td>\n",
       "      <td>3316</td>\n",
       "    </tr>\n",
       "  </tbody>\n",
       "</table>\n",
       "</div>"
      ],
      "text/plain": [
       "               Positive predicted  Negative predicted\n",
       "True positive                2565                 201\n",
       "True negative                 132                3316"
      ]
     },
     "execution_count": 32,
     "metadata": {},
     "output_type": "execute_result"
    }
   ],
   "source": [
    "pd.DataFrame({'Positive predicted': [tp, fp], 'Negative predicted': [fn, tn]}, index=['True positive', 'True negative'])"
   ]
  },
  {
   "cell_type": "markdown",
   "metadata": {},
   "source": [
    "The table above, also called the confusion matrix, presents the values of TP, TN, FP and FN observed in the test set. Analyzing this data, there is a greater number of false negatives, 201, compared to false positives, 132. This seems to signal that the model incorrectly classifies more fake news as true than true news as false. Intuitively, we consider that the model's worst error is the false negative, because, if the news comes from a reputable source, it should not be difficult to notice a classification error by the model if it categorizes news from this source as false. However, to develop an automated fake news detection system, it is extremely important that the model does not fail to correctly identify fake news."
   ]
  },
  {
   "cell_type": "markdown",
   "metadata": {},
   "source": [
    "Confusion matrix considering proportions"
   ]
  },
  {
   "cell_type": "code",
   "execution_count": 33,
   "metadata": {},
   "outputs": [
    {
     "data": {
      "text/html": [
       "<div>\n",
       "<style scoped>\n",
       "    .dataframe tbody tr th:only-of-type {\n",
       "        vertical-align: middle;\n",
       "    }\n",
       "\n",
       "    .dataframe tbody tr th {\n",
       "        vertical-align: top;\n",
       "    }\n",
       "\n",
       "    .dataframe thead th {\n",
       "        text-align: right;\n",
       "    }\n",
       "</style>\n",
       "<table border=\"1\" class=\"dataframe\">\n",
       "  <thead>\n",
       "    <tr style=\"text-align: right;\">\n",
       "      <th></th>\n",
       "      <th>Positive predicted</th>\n",
       "      <th>Negative predicted</th>\n",
       "    </tr>\n",
       "  </thead>\n",
       "  <tbody>\n",
       "    <tr>\n",
       "      <th>True positive</th>\n",
       "      <td>41.2778%</td>\n",
       "      <td>3.2346%</td>\n",
       "    </tr>\n",
       "    <tr>\n",
       "      <th>True negative</th>\n",
       "      <td>2.1242%</td>\n",
       "      <td>53.3634%</td>\n",
       "    </tr>\n",
       "  </tbody>\n",
       "</table>\n",
       "</div>"
      ],
      "text/plain": [
       "              Positive predicted Negative predicted\n",
       "True positive           41.2778%            3.2346%\n",
       "True negative            2.1242%           53.3634%"
      ]
     },
     "execution_count": 33,
     "metadata": {},
     "output_type": "execute_result"
    }
   ],
   "source": [
    "pd.DataFrame({'Positive predicted': [tp_perc, fp_perc], 'Negative predicted': [fn_perc, tn_perc]}, index=['True positive', 'True negative'])"
   ]
  },
  {
   "cell_type": "markdown",
   "metadata": {},
   "source": [
    "In the table above, we have the same data presented in the previous confusion matrix, but in proportional values, obtained by dividing each element of the confusion matrix by the sum of all its elements. In percentage, the difference between false positives and negatives doesn't seem to be that big. Furthermore, considering that approximately 55.37% of the news in the test set are true and 44.63% are false, the table above appears to indicate acceptable values of true positives and negatives."
   ]
  },
  {
   "cell_type": "markdown",
   "metadata": {},
   "source": [
    "Below, it will be explained some measures to evaluate the quality of fit of the trained model, obtained on the test set. Accuracy (Hossin and Sulaiman, 2015) is the proportion between the number of correctly predicted observations over the total number of observations. When the dataset is unbalanced, analyzing accuracy alone can lead us to erroneous conclusions. Precision measures the proportion of true positive predictions among all positive predictions, or TP/(TP + FP). This measure can be useful in cases where false positives harm the results more than false negatives. Sensitivity corresponds to the proportion of real positive cases correctly predicted by the model, that is, TP/(TP + FN). When false negatives are more concerning than false positives, this metric may be appropriate. Specificity, in turn, measures the proportion of true negative predictions among all real negative observations, that is, TN/(TN + FP). Furthermore, the F1 score is defined as the harmonic average between precision and sensitivity, making it useful when dealing with imbalanced datasets. The formula of the F1 score is given by (2* precision*sensitivity)/(precision + sensitivity)."
   ]
  },
  {
   "cell_type": "code",
   "execution_count": 34,
   "metadata": {},
   "outputs": [
    {
     "name": "stdout",
     "output_type": "stream",
     "text": [
      "Accuracy in the test set:          94.6411%\n",
      "Precision in the test set:         95.1057%\n",
      "F1 score in the test set:          93.9044%\n",
      "Sensitivity in the test set:       92.7332%\n",
      "Specificity in the test set:       96.1717%\n"
     ]
    }
   ],
   "source": [
    "accuracy = (tp + tn)/(tp + tn + fp + fn)\n",
    "precision = tp/(tp + fp)\n",
    "sensitivity = tp/(tp + fn)\n",
    "specificity = tn/(tn + fp)\n",
    "f1_score = 2*(precision * sensitivity)/(precision + sensitivity)\n",
    "\n",
    "print(f\"{'Accuracy in the test set: ':<35}{accuracy:>.4%}\")\n",
    "print(f\"{'Precision in the test set: ':<35}{precision:>.4%}\")\n",
    "print(f\"{'F1 score in the test set: ':<35}{f1_score:>.4%}\")\n",
    "print(f\"{'Sensitivity in the test set: ':<35}{sensitivity:>.4%}\")\n",
    "print(f\"{'Specificity in the test set: ':<35}{specificity:>.4%}\")"
   ]
  },
  {
   "cell_type": "markdown",
   "metadata": {},
   "source": [
    "Sensitivity was the measure with the worst performance, at 92.73%. Since it measures the model's ability to correctly predict when a news is fake, a low value of this measure indicates a high rate of false negatives, considered the worst type of error for this analysis. However, 92.73% can be interpreted as a high value, especially if we consider that this was the lowest of the observed measurements. The measure with the best performance was specificity, with 96.17%. This measure behaves inversely to sensitivity, being the rate of true news correctly predicted. This means the model is particularly good at detecting when a news is true. Analyzing the F1 score, we observed that it also reached a high value of 93.90%. Considering that the F1 score is a measure that penalizes the presence of unbalanced data, we can infer that the imbalance present in the \"label\" column did not affect the model's performance. Finally, the accuracy and precision on the test set were 94.64% and 95.11%, respectively. As they are values calculated on the test set, they seem to indicate the absence of overfitting of the model. Furthermore, these can be considered good results, suggesting that the model performed well overall."
   ]
  },
  {
   "cell_type": "markdown",
   "metadata": {},
   "source": [
    "## Visualizing the adjustment"
   ]
  },
  {
   "cell_type": "code",
   "execution_count": 35,
   "metadata": {},
   "outputs": [],
   "source": [
    "wrong_classification = []\n",
    "for a, b, c in zip(predictions.tolist(), true_labels.tolist(), test_indexes):\n",
    "    if a != b:\n",
    "        wrong_classification.append(c)"
   ]
  },
  {
   "cell_type": "markdown",
   "metadata": {},
   "source": [
    "News that the model classified incorrectly"
   ]
  },
  {
   "cell_type": "code",
   "execution_count": 36,
   "metadata": {},
   "outputs": [
    {
     "data": {
      "text/html": [
       "<div>\n",
       "<style scoped>\n",
       "    .dataframe tbody tr th:only-of-type {\n",
       "        vertical-align: middle;\n",
       "    }\n",
       "\n",
       "    .dataframe tbody tr th {\n",
       "        vertical-align: top;\n",
       "    }\n",
       "\n",
       "    .dataframe thead th {\n",
       "        text-align: right;\n",
       "    }\n",
       "</style>\n",
       "<table border=\"1\" class=\"dataframe\">\n",
       "  <thead>\n",
       "    <tr style=\"text-align: right;\">\n",
       "      <th></th>\n",
       "      <th>title</th>\n",
       "      <th>label</th>\n",
       "      <th>n_token</th>\n",
       "    </tr>\n",
       "  </thead>\n",
       "  <tbody>\n",
       "    <tr>\n",
       "      <th>324</th>\n",
       "      <td>You Can't Be Intersectional While at the Same ...</td>\n",
       "      <td>1</td>\n",
       "      <td>20</td>\n",
       "    </tr>\n",
       "    <tr>\n",
       "      <th>29545</th>\n",
       "      <td>What Is Hillary’s Greatest Accomplishment?</td>\n",
       "      <td>0</td>\n",
       "      <td>10</td>\n",
       "    </tr>\n",
       "    <tr>\n",
       "      <th>7953</th>\n",
       "      <td>What Young Men Need To Know To Avoid A Statuto...</td>\n",
       "      <td>1</td>\n",
       "      <td>14</td>\n",
       "    </tr>\n",
       "    <tr>\n",
       "      <th>19103</th>\n",
       "      <td>James Comey Corroborates Trump Not Under Inves...</td>\n",
       "      <td>0</td>\n",
       "      <td>22</td>\n",
       "    </tr>\n",
       "    <tr>\n",
       "      <th>41249</th>\n",
       "      <td>Will the anti-Clinton revolt among American el...</td>\n",
       "      <td>1</td>\n",
       "      <td>14</td>\n",
       "    </tr>\n",
       "    <tr>\n",
       "      <th>34311</th>\n",
       "      <td>President Obama wants to disarm America</td>\n",
       "      <td>0</td>\n",
       "      <td>10</td>\n",
       "    </tr>\n",
       "    <tr>\n",
       "      <th>29808</th>\n",
       "      <td>A Transformational November of Taking a Stand</td>\n",
       "      <td>1</td>\n",
       "      <td>10</td>\n",
       "    </tr>\n",
       "    <tr>\n",
       "      <th>5276</th>\n",
       "      <td>North Korea Ready for New Missile Launch Withi...</td>\n",
       "      <td>1</td>\n",
       "      <td>11</td>\n",
       "    </tr>\n",
       "    <tr>\n",
       "      <th>19749</th>\n",
       "      <td>House Republicans Begin Process To Withdraw A...</td>\n",
       "      <td>1</td>\n",
       "      <td>13</td>\n",
       "    </tr>\n",
       "    <tr>\n",
       "      <th>22548</th>\n",
       "      <td>Putin: No difference between Clinton, Trump</td>\n",
       "      <td>1</td>\n",
       "      <td>10</td>\n",
       "    </tr>\n",
       "  </tbody>\n",
       "</table>\n",
       "</div>"
      ],
      "text/plain": [
       "                                                   title  label  n_token\n",
       "324    You Can't Be Intersectional While at the Same ...      1       20\n",
       "29545         What Is Hillary’s Greatest Accomplishment?      0       10\n",
       "7953   What Young Men Need To Know To Avoid A Statuto...      1       14\n",
       "19103  James Comey Corroborates Trump Not Under Inves...      0       22\n",
       "41249  Will the anti-Clinton revolt among American el...      1       14\n",
       "34311            President Obama wants to disarm America      0       10\n",
       "29808      A Transformational November of Taking a Stand      1       10\n",
       "5276   North Korea Ready for New Missile Launch Withi...      1       11\n",
       "19749   House Republicans Begin Process To Withdraw A...      1       13\n",
       "22548        Putin: No difference between Clinton, Trump      1       10"
      ]
     },
     "execution_count": 36,
     "metadata": {},
     "output_type": "execute_result"
    }
   ],
   "source": [
    "df.loc[wrong_classification].sample(10)"
   ]
  },
  {
   "cell_type": "markdown",
   "metadata": {},
   "source": [
    "As an example of a true news title, but which the model classified as false, we have: \"Melania Trump Is First Catholic to Live in White House Since JFK\".\n",
    "\n",
    "As an example of a false news title, but which the model classified as true, we have: \"In UNESCO, Palestinians claim ownership of Dead Sea Scrolls\".\n",
    "\n",
    "The code used to adjust and evaluate the BERT model are available for consultation in the repository https://github.com/ghsaul/tcc_project, under the Creative Commons Zero v1.0 Universal license."
   ]
  },
  {
   "cell_type": "markdown",
   "metadata": {},
   "source": [
    "# Conclusion"
   ]
  },
  {
   "cell_type": "markdown",
   "metadata": {},
   "source": [
    "In this work, an application of the BERT model was presented to identify fake news in news titles from different American media sources. As the dataset has a variable indicating the veracity of the news, the problem addressed in this work involves supervised learning methods, specifically binary classification. Using the BERT Base Uncased pre-trained model and programming tools, provided a unified approach to model training, saving time and computational resources. This pre-training and fine-tuning structure that the model offers is one of the reasons why BERT has become a popular and effective choice in the area of Natural Language Processing (Zhao et al., 2022).\n",
    "\n",
    "Based on metrics such as accuracy, precision and sensitivity, we concluded that the adjusted model performed well in the task of classifying fake news in English. This seems to show that models capable of representing the meaning of a word based on its context can achieve good performance in NLP tasks. The results of this work can contribute to combating misinformation and assist applications in the area such as Giordani et al. (2022). Despite the good performance, the method can be further improved. If the full text of the news were used instead of just its title, the model would possibly gain a more comprehensive context. However, this was not done due to computational resource limitations.\n",
    "\n",
    "In future works, it is possible to use some modification of the GPT model (Radford et al., 2018) to produce advances in the study of fake news detection. Furthermore, it is interesting to apply the integrated gradients method (Sundararajan et al., 2017), implemented in the Python captum package (Kokhlikyan et al., 2020). This technique allows one to visualize the importance of each token in the model's prediction, contributing to the interpretability of BERT. Finally, it is possible to use variations of BERT that use text and image simultaneously as input to the model, to analyze fake news not only in texts, but also in digitally altered images. Among the available models of this type, we have Visual-Linguistic BERT (VL-BERT) (Su et al., 2019), UNiversal Image-TExt Representation (UNITER) (Chen et al., 2020) and VisualBERT (Li et al., 2019)."
   ]
  }
 ],
 "metadata": {
  "kernelspec": {
   "display_name": "Python 3.11.2 64-bit",
   "language": "python",
   "name": "python3"
  },
  "language_info": {
   "codemirror_mode": {
    "name": "ipython",
    "version": 3
   },
   "file_extension": ".py",
   "mimetype": "text/x-python",
   "name": "python",
   "nbconvert_exporter": "python",
   "pygments_lexer": "ipython3",
   "version": "3.11.3"
  },
  "orig_nbformat": 4,
  "vscode": {
   "interpreter": {
    "hash": "5238573367df39f7286bb46f9ff5f08f63a01a80960060ce41e3c79b190280fa"
   }
  }
 },
 "nbformat": 4,
 "nbformat_minor": 2
}
