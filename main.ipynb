{
 "cells": [
  {
   "cell_type": "markdown",
   "metadata": {},
   "source": [
    "# Introdução"
   ]
  },
  {
   "cell_type": "markdown",
   "metadata": {},
   "source": [
    "> Este trabalho foi baseado no código de Chris McCormick e Nick Ryan, disponível em https://colab.research.google.com/drive/1pTuQhug6Dhl9XalKB0zUGf4FIdYFlpcX"
   ]
  },
  {
   "cell_type": "markdown",
   "metadata": {},
   "source": [
    "Este trabalho apresenta uma aplicação do modelo BERT na tarefa de classificação de texto.\n",
    "\n",
    "Será analisando o banco de dados X extraído do site Kagle. Este banco possuí duas colunas, uma com o texto da notícia e outra indicando se a notícia é falsa ou não.\n",
    "\n",
    "Utilizaremos neste trabalho a linguagem `Python` (versão 3.11.3), `R` (versão 4.2.1), o software `RStudio` (versão 2023.06.0+421), os pacotes em python `pandas` (versão 2.0.3), `transformers` (versão 4.30.2), `torch` (versão 2.0.1), e os pacotes em R ."
   ]
  },
  {
   "attachments": {},
   "cell_type": "markdown",
   "metadata": {},
   "source": [
    "# Setup"
   ]
  },
  {
   "cell_type": "code",
   "execution_count": 31,
   "metadata": {},
   "outputs": [],
   "source": [
    "# Importando pacotes e funções\n",
    "import os\n",
    "import time\n",
    "import datetime\n",
    "import random\n",
    "import torch\n",
    "import numpy as np\n",
    "import pandas as pd\n",
    "import seaborn as sns\n",
    "import matplotlib.pyplot as plt\n",
    "\n",
    "from statistics import mean\n",
    "from collections import Counter\n",
    "from langdetect import detect, DetectorFactory\n",
    "from sklearn.metrics import matthews_corrcoef\n",
    "from torch.utils.data import TensorDataset, random_split, DataLoader, RandomSampler, SequentialSampler\n",
    "from transformers import BertTokenizer, BertForSequenceClassification, BertConfig, get_linear_schedule_with_warmup"
   ]
  },
  {
   "cell_type": "code",
   "execution_count": 32,
   "metadata": {},
   "outputs": [],
   "source": [
    "# Declarando constantes\n",
    "BANCO_ORIGINAL = r\"dados/WELFake_Dataset.csv\"\n",
    "BANCO_FINAL = r\"dados/data.csv\"\n",
    "PASTA_MODELO = f\"dados/model_save_{datetime.datetime.now().strftime('%Y%m%d_%H%M%S')}/\"\n",
    "\n",
    "device = torch.device(\"cpu\")\n",
    "os.environ['CURL_CA_BUNDLE'] = ''  # Caso surja o erro \"[SSL: CERTIFICATE_VERIFY_FAILED] certificate verify failed\" rode este comando e reduza a versão do pacote requets: \"pip uninstall requests\" e \"pip install requests==2.27.1\""
   ]
  },
  {
   "cell_type": "code",
   "execution_count": 33,
   "metadata": {},
   "outputs": [],
   "source": [
    "# Declarando a semente aleatória para que este código seja reprodutível\n",
    "my_seed = 288933\n",
    "\n",
    "random.seed(my_seed)\n",
    "np.random.seed(my_seed)\n",
    "torch.manual_seed(my_seed)\n",
    "torch.cuda.manual_seed_all(my_seed)"
   ]
  },
  {
   "cell_type": "markdown",
   "metadata": {},
   "source": [
    "# Pré-Processamento"
   ]
  },
  {
   "cell_type": "markdown",
   "metadata": {},
   "source": [
    "O banco original possui 3 colunas e 72134 observações, das quais 35028 são notícias verdadeiras (label=0) e 37106 são falsas (label=1)."
   ]
  },
  {
   "cell_type": "code",
   "execution_count": 34,
   "metadata": {},
   "outputs": [],
   "source": [
    "# # Importando o banco\n",
    "# df = pd.read_csv(BANCO_ORIGINAL, index_col=0)\n",
    "\n",
    "# df.info()\n",
    "# df.head()"
   ]
  },
  {
   "cell_type": "code",
   "execution_count": 35,
   "metadata": {},
   "outputs": [],
   "source": [
    "# df.groupby('label').size()"
   ]
  },
  {
   "cell_type": "code",
   "execution_count": 36,
   "metadata": {},
   "outputs": [],
   "source": [
    "# # Renomeando a coluna de título e selecionando somente as colunas de título e de classificação\n",
    "# df.rename({'title': 'titulo'}, axis=1, inplace=True)\n",
    "# df = df[['titulo', 'label']]\n",
    "\n",
    "# n_linhas_antes = len(df)\n",
    "# df = df[~df['titulo'].isnull()]\n",
    "# df = df[~df['label'].isnull()]\n",
    "\n",
    "# n_linhas_depois = len(df)\n",
    "# print(f'Número de observações removidas por valores nulos nas colunas de título ou de classificação: {n_linhas_antes- n_linhas_depois}')"
   ]
  },
  {
   "cell_type": "code",
   "execution_count": 37,
   "metadata": {},
   "outputs": [],
   "source": [
    "# # Removendo linhas duplicadas\n",
    "# n_linhas_antes = len(df)\n",
    "# df.drop_duplicates(inplace=True)  # Valores de todas as colunas iguais\n",
    "# df.drop_duplicates(subset='titulo', keep=False, inplace=True, ignore_index=True)  # Valores removidos aqui são títulos que possuem ambos os labels\n",
    "\n",
    "# n_linhas_depois = len(df)\n",
    "# print(f'Número de observações removidas por valores duplicados: {n_linhas_antes- n_linhas_depois}')"
   ]
  },
  {
   "cell_type": "markdown",
   "metadata": {},
   "source": [
    "Alguns títulos estão em outras línguas além de inglês. Para removê-los, utilizaremos o pacote `langdetect` (versão 1.0.9)."
   ]
  },
  {
   "cell_type": "code",
   "execution_count": 38,
   "metadata": {},
   "outputs": [],
   "source": [
    "# # Classificando os títulos em línguas\n",
    "# DetectorFactory.seed = 0\n",
    "\n",
    "# lingua = []\n",
    "# for title in df['titulo']:\n",
    "#     try:\n",
    "#         lingua.append(detect(title))\n",
    "#     except:\n",
    "#         lingua.append('error')\n",
    "#         pass\n",
    "\n",
    "# print(Counter(lingua))"
   ]
  },
  {
   "cell_type": "markdown",
   "metadata": {},
   "source": [
    "Vamos excluir as linhas em que o pacote `langdetect` classificou os títulos como língua russa, árabe, lituana, turca, polonesa, búlgara, grega, chinesa ou títulos que não puderam ser classificados pelo pacote. Vários títulos em inglês foram classificados nas demais línguas, e por tanto consideramos que tal classificação não foi muito acurada. Além disso, é importante ter em mente que vários títulos em línguas que não o inglês não puderam ser removidas do banco de forma automática, o que poderá provocar um ruído no modelo ajustado."
   ]
  },
  {
   "cell_type": "code",
   "execution_count": 39,
   "metadata": {},
   "outputs": [],
   "source": [
    "# # Removendo títulos em outras línguas\n",
    "# n_linhas_antes = len(df)\n",
    "# df.drop([idx for idx, l in enumerate(lingua) if l in ['ru', 'ar', 'lt', 'tr', 'pl', 'bg', 'el', 'zh-cn', 'error']]\n",
    "#         ,axis=0  # linhas\n",
    "#         ,inplace=True)\n",
    "# df.reset_index(drop=True, inplace=True)\n",
    "\n",
    "# n_linhas_depois = len(df)\n",
    "# print(f'Número de títulos removidos por não estarem em inglês: {n_linhas_antes- n_linhas_depois}')"
   ]
  },
  {
   "cell_type": "markdown",
   "metadata": {},
   "source": [
    "Para analisar o tamanho de cada título, vamos considerar o número de tokens do título tokenizado pelo modelo pré-treinado BERT Base. A informação do número máximo de tokens será útil na fase de ajuste do modelo."
   ]
  },
  {
   "cell_type": "code",
   "execution_count": 40,
   "metadata": {},
   "outputs": [],
   "source": [
    "# # Declarando o tokenizador do modelo BERT Base Uncased (que considera todas as letras como minúsculas)\n",
    "# tokenizer = BertTokenizer.from_pretrained('bert-base-uncased')\n",
    "\n",
    "# # Para cada título, calcule o tamanho do vetor de tokens\n",
    "# df['n_token'] = [len(tokenizer.encode(title, add_special_tokens=True)) for title in df['titulo']]\n",
    "\n",
    "# # Analisando algumas estatísticas\n",
    "# print('Mínimo de tokens: ', min(df['n_token']))\n",
    "# print('Máximo de tokens: ', max(df['n_token']))\n",
    "# print('Média de tokens: ', round(mean(df['n_token']), 4))\n",
    "# print('Quantidade de tokens por percentil: ', np.quantile(df['n_token'], q=[.1, .2, .3, .4, .5, .6, .7, .8, .9]))\n",
    "# print('Número de títulos com mais de 128 tokens: ', sum([i > 128 for i in df['n_token']]))\n",
    "# print('Número de títulos com mais de 64 tokens: ', sum([i > 64 for i in df['n_token']]))\n",
    "# print('Número de títulos com mais de 32 tokens: ', sum([i > 32 for i in df['n_token']]))"
   ]
  },
  {
   "cell_type": "code",
   "execution_count": 41,
   "metadata": {},
   "outputs": [],
   "source": [
    "# # Banco pré-processado\n",
    "# df.info()\n",
    "# df.head()"
   ]
  },
  {
   "cell_type": "code",
   "execution_count": 42,
   "metadata": {},
   "outputs": [],
   "source": [
    "# df.groupby('label').size()"
   ]
  },
  {
   "cell_type": "markdown",
   "metadata": {},
   "source": [
    "O banco final possui 62134 observações, sendo que 55% delas são notícias falsas e 45% notícias verdadeiras, aproximadamente. Com o banco pré-processado pronto, vamos exportá-lo para um arquivo CSV."
   ]
  },
  {
   "cell_type": "code",
   "execution_count": 43,
   "metadata": {},
   "outputs": [],
   "source": [
    "# df.to_csv(BANCO_FINAL, index=False)"
   ]
  },
  {
   "cell_type": "markdown",
   "metadata": {},
   "source": [
    "# Estatísticas descritivas"
   ]
  },
  {
   "cell_type": "markdown",
   "metadata": {},
   "source": [
    "Importando os dados processados"
   ]
  },
  {
   "cell_type": "code",
   "execution_count": 44,
   "metadata": {},
   "outputs": [],
   "source": [
    "df = pd.read_csv(BANCO_FINAL, nrows=1000)"
   ]
  },
  {
   "cell_type": "code",
   "execution_count": 45,
   "metadata": {},
   "outputs": [
    {
     "name": "stdout",
     "output_type": "stream",
     "text": [
      "<class 'pandas.core.frame.DataFrame'>\n",
      "RangeIndex: 1000 entries, 0 to 999\n",
      "Data columns (total 3 columns):\n",
      " #   Column   Non-Null Count  Dtype \n",
      "---  ------   --------------  ----- \n",
      " 0   titulo   1000 non-null   object\n",
      " 1   label    1000 non-null   int64 \n",
      " 2   n_token  1000 non-null   int64 \n",
      "dtypes: int64(2), object(1)\n",
      "memory usage: 23.6+ KB\n"
     ]
    },
    {
     "data": {
      "text/html": [
       "<div>\n",
       "<style scoped>\n",
       "    .dataframe tbody tr th:only-of-type {\n",
       "        vertical-align: middle;\n",
       "    }\n",
       "\n",
       "    .dataframe tbody tr th {\n",
       "        vertical-align: top;\n",
       "    }\n",
       "\n",
       "    .dataframe thead th {\n",
       "        text-align: right;\n",
       "    }\n",
       "</style>\n",
       "<table border=\"1\" class=\"dataframe\">\n",
       "  <thead>\n",
       "    <tr style=\"text-align: right;\">\n",
       "      <th></th>\n",
       "      <th>titulo</th>\n",
       "      <th>label</th>\n",
       "      <th>n_token</th>\n",
       "    </tr>\n",
       "  </thead>\n",
       "  <tbody>\n",
       "    <tr>\n",
       "      <th>0</th>\n",
       "      <td>LAW ENFORCEMENT ON HIGH ALERT Following Threat...</td>\n",
       "      <td>1</td>\n",
       "      <td>35</td>\n",
       "    </tr>\n",
       "    <tr>\n",
       "      <th>1</th>\n",
       "      <td>UNBELIEVABLE! OBAMA’S ATTORNEY GENERAL SAYS MO...</td>\n",
       "      <td>1</td>\n",
       "      <td>30</td>\n",
       "    </tr>\n",
       "    <tr>\n",
       "      <th>2</th>\n",
       "      <td>Bobby Jindal, raised Hindu, uses story of Chri...</td>\n",
       "      <td>0</td>\n",
       "      <td>22</td>\n",
       "    </tr>\n",
       "    <tr>\n",
       "      <th>3</th>\n",
       "      <td>SATAN 2: Russia unvelis an image of its terrif...</td>\n",
       "      <td>1</td>\n",
       "      <td>25</td>\n",
       "    </tr>\n",
       "    <tr>\n",
       "      <th>4</th>\n",
       "      <td>About Time! Christian Group Sues Amazon and SP...</td>\n",
       "      <td>1</td>\n",
       "      <td>18</td>\n",
       "    </tr>\n",
       "  </tbody>\n",
       "</table>\n",
       "</div>"
      ],
      "text/plain": [
       "                                              titulo  label  n_token\n",
       "0  LAW ENFORCEMENT ON HIGH ALERT Following Threat...      1       35\n",
       "1  UNBELIEVABLE! OBAMA’S ATTORNEY GENERAL SAYS MO...      1       30\n",
       "2  Bobby Jindal, raised Hindu, uses story of Chri...      0       22\n",
       "3  SATAN 2: Russia unvelis an image of its terrif...      1       25\n",
       "4  About Time! Christian Group Sues Amazon and SP...      1       18"
      ]
     },
     "execution_count": 45,
     "metadata": {},
     "output_type": "execute_result"
    }
   ],
   "source": [
    "df.info()\n",
    "df.head()"
   ]
  },
  {
   "cell_type": "markdown",
   "metadata": {},
   "source": [
    "Obtendo a distribuição de palavras de cada texto"
   ]
  },
  {
   "cell_type": "code",
   "execution_count": 46,
   "metadata": {},
   "outputs": [
    {
     "data": {
      "text/plain": [
       "label\n",
       "0    475\n",
       "1    525\n",
       "dtype: int64"
      ]
     },
     "execution_count": 46,
     "metadata": {},
     "output_type": "execute_result"
    }
   ],
   "source": [
    "df.groupby('label').size()"
   ]
  },
  {
   "cell_type": "markdown",
   "metadata": {},
   "source": [
    "# Tunando o modelo pré-treinado"
   ]
  },
  {
   "cell_type": "markdown",
   "metadata": {},
   "source": [
    "Vamos importar o modelo BERT base, pois não dispomos de capacidade computacional suficiente para rodar o modelo BERT large. Mais especificamente, utilizaremos o modelo BERT base uncased, que não diferencia letras maiúsculas e minusculas.\n",
    "\n",
    "Usaremos a classe `BertForSequenceClassification`, que adapta o modelo BERT para conter, além da arquitetura original de 12 encoders, um classificador linear no topo. Como estamos fazendo uma classificação binária, vamos considerar somente duas categorias no classificador."
   ]
  },
  {
   "cell_type": "code",
   "execution_count": 47,
   "metadata": {},
   "outputs": [
    {
     "name": "stderr",
     "output_type": "stream",
     "text": [
      "Some weights of the model checkpoint at bert-base-uncased were not used when initializing BertForSequenceClassification: ['cls.predictions.bias', 'cls.seq_relationship.bias', 'cls.predictions.transform.dense.bias', 'cls.predictions.transform.LayerNorm.weight', 'cls.predictions.transform.dense.weight', 'cls.seq_relationship.weight', 'cls.predictions.transform.LayerNorm.bias']\n",
      "- This IS expected if you are initializing BertForSequenceClassification from the checkpoint of a model trained on another task or with another architecture (e.g. initializing a BertForSequenceClassification model from a BertForPreTraining model).\n",
      "- This IS NOT expected if you are initializing BertForSequenceClassification from the checkpoint of a model that you expect to be exactly identical (initializing a BertForSequenceClassification model from a BertForSequenceClassification model).\n",
      "Some weights of BertForSequenceClassification were not initialized from the model checkpoint at bert-base-uncased and are newly initialized: ['classifier.weight', 'classifier.bias']\n",
      "You should probably TRAIN this model on a down-stream task to be able to use it for predictions and inference.\n"
     ]
    }
   ],
   "source": [
    "model_name = 'bert-base-uncased'\n",
    "\n",
    "tokenizer = BertTokenizer.from_pretrained(model_name)\n",
    "model = BertForSequenceClassification.from_pretrained(model_name, num_labels = 2, output_attentions = False, output_hidden_states = False)"
   ]
  },
  {
   "cell_type": "markdown",
   "metadata": {},
   "source": [
    "O primeiro passo que devemos fazer para ajustar o modelo é tokenizar as sentenças do banco. Para isso, vamos utilizar o método `encode_plus` para que cada sentença seja tokenizada pelo método WordPiece. Dentre as configurações, vamos truncar as sentenças que possuem mais do que 64 tokens para otimização. Como foi visto anteriormente, somente 3 sentenças do banco de dados possuem mais do que 64 tokens, portanto espera-se que o truncamento não afete os resultados do ajuste."
   ]
  },
  {
   "cell_type": "code",
   "execution_count": 48,
   "metadata": {},
   "outputs": [
    {
     "name": "stdout",
     "output_type": "stream",
     "text": [
      "Sentença original:  LAW ENFORCEMENT ON HIGH ALERT Following Threats Against Cops And Whites On 9-11By #BlackLivesMatter And #FYF911 Terrorists [VIDEO]\n",
      "Sentença tokenizada:  tensor([  101,  2375,  7285,  2006,  2152,  9499,  2206,  8767,  2114, 10558,\n",
      "         1998, 12461,  2006,  1023,  1011,  2340,  3762,  1001,  2304,  3669,\n",
      "         6961, 18900,  3334,  1998,  1001,  1042,  2100,  2546,  2683, 14526,\n",
      "        15554,  1031,  2678,  1033,   102,     0,     0,     0,     0,     0,\n",
      "            0,     0,     0,     0,     0,     0,     0,     0,     0,     0,\n",
      "            0,     0,     0,     0,     0,     0,     0,     0,     0,     0,\n",
      "            0,     0,     0,     0])\n",
      "Atenção:  tensor([1, 1, 1, 1, 1, 1, 1, 1, 1, 1, 1, 1, 1, 1, 1, 1, 1, 1, 1, 1, 1, 1, 1, 1,\n",
      "        1, 1, 1, 1, 1, 1, 1, 1, 1, 1, 1, 0, 0, 0, 0, 0, 0, 0, 0, 0, 0, 0, 0, 0,\n",
      "        0, 0, 0, 0, 0, 0, 0, 0, 0, 0, 0, 0, 0, 0, 0, 0])\n",
      "Label:  tensor(1)\n"
     ]
    }
   ],
   "source": [
    "# Tokenize all of the sentences and map the tokens to thier word IDs.\n",
    "input_ids = []\n",
    "attention_masks = []\n",
    "\n",
    "for sentenca in df['titulo'].values:\n",
    "    encoded_dict = tokenizer.encode_plus(\n",
    "                        sentenca,\n",
    "                        add_special_tokens = True,  # Inclui os tokens '[CLS]' e '[SEP]' no início e fim da lista, respectivamente\n",
    "                        max_length = 64,  # Sentenças maiores do que 64 tokens serão truncadas e sentenças menores terão o restante da lista preenchida com o token '[PAD]'\n",
    "                        truncation=True,  # Para usar o truncamento\n",
    "                        padding='max_length',  # Para incluir o token '[PAD]' se necessario\n",
    "                        return_attention_mask = True,  # Retorna a lista de atenção, que é 1 em na posição em que o token não for '[PAD]' e é 0 quando o token for '[PAD]'\n",
    "                        return_tensors = 'pt'  # Retorna as listas como objeto do tipo tensor\n",
    "                   )\n",
    "\n",
    "    # Salva a sentença tokenizada e a lista de atenção em uma lista\n",
    "    input_ids.append(encoded_dict['input_ids'])\n",
    "    attention_masks.append(encoded_dict['attention_mask'])\n",
    "\n",
    "# Transforma a lista de tensores em um tensor com múltiplas listas\n",
    "input_ids = torch.cat(input_ids, dim=0)\n",
    "attention_masks = torch.cat(attention_masks, dim=0)\n",
    "labels = torch.tensor(df['label'].values)\n",
    "\n",
    "# Exemplificando o resultado com a primeira sentença do banco\n",
    "print('Sentença original: ', df['titulo'].values[0])\n",
    "print('Sentença tokenizada: ', input_ids[0])\n",
    "print('Atenção: ', attention_masks[0])\n",
    "print('Label: ', labels[0])"
   ]
  },
  {
   "cell_type": "markdown",
   "metadata": {},
   "source": [
    "Com as sentenças tokenizadas, vamos dividir o banco entre treinamento, validação e teste, utilizando a proporção de separação 80%/10%/10% para cada partição, respectivamente."
   ]
  },
  {
   "cell_type": "code",
   "execution_count": 49,
   "metadata": {},
   "outputs": [
    {
     "name": "stdout",
     "output_type": "stream",
     "text": [
      "  800 sentenças para treinamento\n",
      "  100 sentenças para validação\n",
      "  100 sentenças para teste\n"
     ]
    }
   ],
   "source": [
    "# Combinando as listas obtidas na fase de tokenização para criar um objeto TensorDataset\n",
    "dataset = TensorDataset(input_ids, attention_masks, labels)\n",
    "\n",
    "# Calculando o número de sentenças que cada conjunto precisa ter para seguir a proporção 80-10-10\n",
    "train_size = int(0.8 * len(dataset))\n",
    "val_size = int(0.1 * len(dataset))\n",
    "test_size = len(dataset) - train_size - val_size\n",
    "\n",
    "# Divide the dataset by randomly selecting samples.\n",
    "train_dataset, val_dataset, test_dataset = random_split(dataset, [train_size, val_size, test_size])\n",
    "\n",
    "print('{:>5,} sentenças para treinamento'.format(train_size))\n",
    "print('{:>5,} sentenças para validação'.format(val_size))\n",
    "print('{:>5,} sentenças para teste'.format(test_size))"
   ]
  },
  {
   "cell_type": "markdown",
   "metadata": {},
   "source": [
    "Em seguida, precisamos fazer escolhas acerca dos hiper-parâmetros do modelo. São eles o tamanho do lote (batch), a taxa de aprendizagem (learning rate) e o número de épocas (epoch).\n",
    "\n",
    "Dado que treinar uma rede neural com todo o conjunto de dados de uma só vez pode ser caro computacionalmente e consumir muita memória, é possível dividir o conjunto de dados em lotes (batches) menores e atualizar os parâmetros do modelo com base nos gradientes médios calculados em cada lote. Quanto maior o tamanho do lote, mais precisa será a estimativa do gradiente e maior será poder computacional necessário.\n",
    "\n",
    "A taxa de aprendizado, por sua vez, determina o tamanho do passo no qual os parâmetros do modelo são atualizados durante cada iteração do processo de treinamento. Quanto maior a taxa de aprendizado, mais rápida é a convergência dos parâmetros e maior é o risco do valor ótimo ser ultrapassado.\n",
    "\n",
    "Uma época é uma passagem completa por todo o conjunto de dados de treinamento durante o processo de treinamento. Em cada época, o modelo processa todos os lotes no conjunto de dados de treinamento, calcula gradientes, atualiza parâmetros e avalia o desempenho do modelo. Poucas épocas podem levar ao underfitting, enquanto que muitas épocas podem levar ao overfitting.\n",
    "\n",
    "Em Devlin, et al (2018), os autores recomendam utilizar um lote de 16 ou 32, uma taxa de aprendizagem de 5e-5, 3e-5 ou 2e-5 e um número de épocas de 2, 3 ou 4.\n",
    "\n",
    "Vamos considerar o tamanho do lote de 32, a taxa de aprendizagem de 3e-5 e o número de épocas de 3."
   ]
  },
  {
   "cell_type": "code",
   "execution_count": 50,
   "metadata": {},
   "outputs": [],
   "source": [
    "batch_size = 32\n",
    "learning_rate = 3e-5\n",
    "epochs = 3"
   ]
  },
  {
   "cell_type": "code",
   "execution_count": 51,
   "metadata": {},
   "outputs": [],
   "source": [
    "# Separando os conjuntos considerando o tamanho do lote:\n",
    "# Para o treinamento, selecionamos os batches aleatoriamente. Já para validação e teste, selecionamos os batches sequencialmente\n",
    "train_dataloader = DataLoader(train_dataset, sampler = RandomSampler(train_dataset), batch_size = batch_size)\n",
    "validation_dataloader = DataLoader(val_dataset, sampler = SequentialSampler(val_dataset), batch_size = batch_size)\n",
    "prediction_dataloader = DataLoader(test_dataset, sampler = SequentialSampler(test_dataset), batch_size = batch_size)"
   ]
  },
  {
   "cell_type": "code",
   "execution_count": 52,
   "metadata": {},
   "outputs": [],
   "source": [
    "# O otimizador é o objeto responsável por realizar a atualização dos parâmetros do modelo\n",
    "# Vamos utilizar o otimizador AdamW\n",
    "optimizer = torch.optim.AdamW(model.parameters(), lr = learning_rate)"
   ]
  },
  {
   "cell_type": "code",
   "execution_count": 53,
   "metadata": {},
   "outputs": [],
   "source": [
    "# Cria o objeto responsável por diminuir a taxa de aprendizagem linearmente na medida em que o modelo aprende\n",
    "# O 'num_training_steps' é calculado como o número de lotes multiplicado pelo número de épocas\n",
    "scheduler = get_linear_schedule_with_warmup(optimizer, num_warmup_steps = 0, num_training_steps = len(train_dataloader) * epochs)"
   ]
  },
  {
   "cell_type": "markdown",
   "metadata": {},
   "source": [
    "É importante, também, declarar algumas funções auxiliares. Dentre elas, vamos declarar `flat_accuracy`, que retorna a proporção de acertos de predição e `format_time`, que retorna o tempo no formato de horas, minutos e segundos dado o número de segundos total."
   ]
  },
  {
   "cell_type": "code",
   "execution_count": 54,
   "metadata": {},
   "outputs": [],
   "source": [
    "# Function to calculate the accuracy of our predictions vs labels\n",
    "def flat_accuracy(preds, labels):\n",
    "    pred_flat = np.argmax(preds, axis=1).flatten()\n",
    "    labels_flat = labels.flatten()\n",
    "    return np.sum(pred_flat == labels_flat) / len(labels_flat)"
   ]
  },
  {
   "cell_type": "code",
   "execution_count": 55,
   "metadata": {},
   "outputs": [],
   "source": [
    "def format_time(elapsed):\n",
    "    elapsed_rounded = int(round((elapsed)))\n",
    "\n",
    "    return str(datetime.timedelta(seconds=elapsed_rounded))"
   ]
  },
  {
   "cell_type": "markdown",
   "metadata": {},
   "source": [
    "Finalmente, vamos iniciar o treinamento do modelo utilizando as variáveis auxiliares criadas até agora. É importante notar que esta é a etapa mais demorada e que mais demanda por computacional de todo o processo."
   ]
  },
  {
   "cell_type": "code",
   "execution_count": 56,
   "metadata": {},
   "outputs": [
    {
     "name": "stdout",
     "output_type": "stream",
     "text": [
      "\n",
      "======== Epoca 1 / 3 ========\n",
      "Treinando...\n",
      "  Acuracia: 0.77\n",
      "\n",
      "  Perda media de treinamento: 0.49\n",
      "  Treinamento da epoca levou: 0:06:34\n",
      "\n",
      "Validando...\n",
      "  Acuracia: 0.90\n",
      "  Perda de validacao: 0.29\n",
      "  Validacao levou: 0:00:23\n",
      "\n",
      "======== Epoca 2 / 3 ========\n",
      "Treinando...\n",
      "  Acuracia: 0.93\n",
      "\n",
      "  Perda media de treinamento: 0.21\n",
      "  Treinamento da epoca levou: 0:05:49\n",
      "\n",
      "Validando...\n",
      "  Acuracia: 0.90\n",
      "  Perda de validacao: 0.27\n",
      "  Validacao levou: 0:00:12\n",
      "\n",
      "======== Epoca 3 / 3 ========\n",
      "Treinando...\n",
      "  Acuracia: 0.98\n",
      "\n",
      "  Perda media de treinamento: 0.11\n",
      "  Treinamento da epoca levou: 0:05:10\n",
      "\n",
      "Validando...\n",
      "  Acuracia: 0.91\n",
      "  Perda de validacao: 0.27\n",
      "  Validacao levou: 0:00:12\n",
      "\n",
      "Treinamento concluído!\n",
      "Tempo total de treinamento: 0:18:19 (hh:mm:ss)\n"
     ]
    }
   ],
   "source": [
    "training_stats = []  # Vamos armazenar algumas estatísticas de avaliação do modelo neste objeto\n",
    "\n",
    "tempo_inicial = time.time()\n",
    "\n",
    "# Para cada época...\n",
    "for epoch_i in range(0, epochs):\n",
    "    # ========================================\n",
    "    #               Treinamento\n",
    "    # ========================================\n",
    "\n",
    "    # Realiza uma passagem completa sobre o conjunto de treinamento\n",
    "\n",
    "    print('\\n======== Epoca {:} / {:} ========'.format(epoch_i + 1, epochs))\n",
    "    print('Treinando...')\n",
    "    \n",
    "    t0 = time.time()  # Mede o tempo de treinamento desta época\n",
    "    total_train_accuracy = 0  # Reinicia a acuracia total para esta época\n",
    "    total_train_loss = 0  # Reinicia a perda total para esta época\n",
    "\n",
    "    model.train()  # Coloca o modelo em modo de treinamento\n",
    "    # O método 'train()' apenas muda o estado do objeto 'modelo', ele não treina o modelo\n",
    "    # As camadas 'dropout' e 'batchnorm' se comportam de maneira diferente durante o treinamento\n",
    "    # em relação ao teste (https://stackoverflow.com/questions/51433378/what-does-model-train-do-in-pytorch)\n",
    "    \n",
    "    # Para cada lote (batch) dos dados de treinamento...\n",
    "    for step, batch in enumerate(train_dataloader):\n",
    "        # Imprimi o progresso para o usuário a cada 40 lotes\n",
    "        if step % 40 == 0 and not step == 0:\n",
    "            print('  Lote {:>5,}  de  {:>5,}.    Tempo decorrido: {:}.'.format(step, len(train_dataloader), format_time(time.time() - t0)))\n",
    "\n",
    "        # 'batch' é um objeto que contém 3 tensores:\n",
    "        #   [0]: input_ids\n",
    "        #   [1]: attention_masks\n",
    "        #   [2]: labels\n",
    "        # Vamos copiar cada tensor para a CPU utilizando o método 'to()'\n",
    "        b_input_ids = batch[0].to(device)\n",
    "        b_input_mask = batch[1].to(device)\n",
    "        b_labels = batch[2].to(device)\n",
    "\n",
    "        model.zero_grad()  # Precisamos limpar quaisquer gradientes calculados anteriormente antes de realizar o passo backward\n",
    "        # O PyTorch não faz isso automaticamente devido a características do treinamento de RNN's\n",
    "        # (https://stackoverflow.com/questions/48001598/why-do-we-need-to-call-zero-grad-in-pytorch)\n",
    "        \n",
    "        result = model(b_input_ids,\n",
    "                       token_type_ids=None,  # 'None' porque não estamos no contexto de next sentence prediction\n",
    "                       attention_mask=b_input_mask,\n",
    "                       labels=b_labels,\n",
    "                       return_dict=True)\n",
    "        # Realiza o treinamento do modelo com os dados deste lote, utilizando a função forward\n",
    "        # Embora utilizamos a função 'model', os argumentos desta função estão indo para outra função chamada 'forward'\n",
    "        # A documentação dos resultados retornados está aqui:\n",
    "        # https://huggingface.co/transformers/main_classes/output.html#transformers.modeling_outputs.SequenceClassifierOutput\n",
    "\n",
    "        loss = result.loss  # Perda de classificação. O quão \"longe\" a predição do modelo foi em relação ao label verdadeiro\n",
    "        logits = result.logits  # Escore de classificação\n",
    "        # Para cada sentença, o label com o maior escore será aquele que o modelo escolherá como o label verdadeiro da sentença\n",
    "\n",
    "        total_train_loss += loss.item()  # Acumulando o erro de treinamento em todos os lotes para que possamos calcular a perda média ao final\n",
    "        \n",
    "        # Movendo os logits e labels para a CPU\n",
    "        logits = logits.detach().cpu().numpy()\n",
    "        label_ids = b_labels.to('cpu').numpy()\n",
    "\n",
    "        total_train_accuracy += flat_accuracy(logits, label_ids)  # Acumula a acuracia de treinamento\n",
    "\n",
    "        loss.backward()  # Executa o método backward para calcular os gradientes\n",
    "\n",
    "        torch.nn.utils.clip_grad_norm_(model.parameters(), 1.0)  # Isto evita o problema de gradiente explosivo\n",
    "\n",
    "        optimizer.step()  # Atualiza os parâmetros do modelo e executa um passo utilizando o gradiente computado\n",
    "        \n",
    "        scheduler.step()  # Atualiza a taxa de aprendizado\n",
    "    \n",
    "    avg_train_accuracy = total_train_accuracy / len(train_dataloader)  # Calcula a acuracia media de treinamento\n",
    "    print(\"  Acuracia: {0:.2f}\".format(avg_train_accuracy))\n",
    "\n",
    "    avg_train_loss = total_train_loss / len(train_dataloader)  # Calcula a perda média dos lotes\n",
    "\n",
    "    training_time = format_time(time.time() - t0)\n",
    "\n",
    "    print(\"  Perda media de treinamento: {0:.2f}\".format(avg_train_loss))\n",
    "    print(\"  Treinamento da epoca levou: {:}\".format(training_time))\n",
    "\n",
    "    # ========================================\n",
    "    #               Validação\n",
    "    # ========================================\n",
    "    # Finalizada a época de treinamento, vamos medir a performance do modelo nos dados de validação\n",
    "\n",
    "    print(\"\\nValidando...\")\n",
    "\n",
    "    t0 = time.time()\n",
    "\n",
    "    model.eval()  # Coloca o modelo em modo de validação\n",
    "\n",
    "    total_eval_accuracy = 0\n",
    "    total_eval_loss = 0\n",
    "\n",
    "    for batch in validation_dataloader:\n",
    "        # Similar ao treinamento, vamos armazenar os valores do lote\n",
    "        b_input_ids = batch[0].to(device)\n",
    "        b_input_mask = batch[1].to(device)\n",
    "        b_labels = batch[2].to(device)\n",
    "\n",
    "        # 'torch.no_grad()' economiza tempo de processamento por não computar algumas métricas que só são usadas na fase de treinamento\n",
    "        with torch.no_grad():\n",
    "            result = model(b_input_ids,\n",
    "                           token_type_ids=None,\n",
    "                           attention_mask=b_input_mask,\n",
    "                           labels=b_labels,\n",
    "                           return_dict=True)\n",
    "            # Executa a função 'forward' com os dados de validação\n",
    "\n",
    "        loss = result.loss\n",
    "        logits = result.logits\n",
    "\n",
    "        total_eval_loss += loss.item()  # Acumulando o erro de validação em todos os lotes para que possamos calcular a perda média ao final\n",
    "\n",
    "        logits = logits.detach().cpu().numpy()\n",
    "        label_ids = b_labels.to('cpu').numpy()\n",
    "\n",
    "        total_eval_accuracy += flat_accuracy(logits, label_ids)  # Acumula a acuracia de validação\n",
    "\n",
    "\n",
    "    avg_val_accuracy = total_eval_accuracy / len(validation_dataloader)  # Calcula a acuracia media de validação\n",
    "    print(\"  Acuracia: {0:.2f}\".format(avg_val_accuracy))\n",
    "\n",
    "    avg_val_loss = total_eval_loss / len(validation_dataloader)  # Calcula a perda média dos lotes\n",
    "\n",
    "    validation_time = format_time(time.time() - t0)\n",
    "\n",
    "    print(\"  Perda de validacao: {0:.2f}\".format(avg_val_loss))\n",
    "    print(\"  Validacao levou: {:}\".format(validation_time))\n",
    "\n",
    "    # Guardando estatísticas desta época\n",
    "    training_stats.append(\n",
    "        {\n",
    "            'epoca': epoch_i + 1,\n",
    "            'Perda de treinamento': avg_train_loss,\n",
    "            'Perda de validacao': avg_val_loss,\n",
    "            'Acuracia de treinamento': avg_train_accuracy,\n",
    "            'Acuracia de validacao': avg_val_accuracy,\n",
    "            'Tempo de treinamento': training_time,\n",
    "            'Tempo de validacao': validation_time\n",
    "        }\n",
    "    )\n",
    "\n",
    "print(\"\\nTreinamento concluído!\")\n",
    "print(\"Tempo total de treinamento: {:} (hh:mm:ss)\".format(format_time(time.time()-tempo_inicial)))"
   ]
  },
  {
   "cell_type": "markdown",
   "metadata": {},
   "source": [
    "Vamos exportar o modelo para não perder o progresso!"
   ]
  },
  {
   "cell_type": "code",
   "execution_count": 57,
   "metadata": {},
   "outputs": [],
   "source": [
    "# Salvando o modelo treinado e o tokenizador\n",
    "if not os.path.exists(PASTA_MODELO):\n",
    "    os.makedirs(PASTA_MODELO)\n",
    "\n",
    "model_to_save = model.module if hasattr(model, 'module') else model\n",
    "model_to_save.save_pretrained(PASTA_MODELO)\n",
    "tokenizer.save_pretrained(PASTA_MODELO)\n",
    "\n",
    "# Salvando as estatísticas do modelo\n",
    "df_stats = pd.DataFrame(data=training_stats).set_index('epoca')\n",
    "df_stats.to_csv(os.path.join(PASTA_MODELO, 'training_stats.csv'))"
   ]
  },
  {
   "cell_type": "code",
   "execution_count": 58,
   "metadata": {},
   "outputs": [
    {
     "data": {
      "text/html": [
       "<div>\n",
       "<style scoped>\n",
       "    .dataframe tbody tr th:only-of-type {\n",
       "        vertical-align: middle;\n",
       "    }\n",
       "\n",
       "    .dataframe tbody tr th {\n",
       "        vertical-align: top;\n",
       "    }\n",
       "\n",
       "    .dataframe thead th {\n",
       "        text-align: right;\n",
       "    }\n",
       "</style>\n",
       "<table border=\"1\" class=\"dataframe\">\n",
       "  <thead>\n",
       "    <tr style=\"text-align: right;\">\n",
       "      <th></th>\n",
       "      <th>Perda de treinamento</th>\n",
       "      <th>Perda de validacao</th>\n",
       "      <th>Acuracia de treinamento</th>\n",
       "      <th>Acuracia de validacao</th>\n",
       "      <th>Tempo de treinamento</th>\n",
       "      <th>Tempo de validacao</th>\n",
       "    </tr>\n",
       "    <tr>\n",
       "      <th>epoca</th>\n",
       "      <th></th>\n",
       "      <th></th>\n",
       "      <th></th>\n",
       "      <th></th>\n",
       "      <th></th>\n",
       "      <th></th>\n",
       "    </tr>\n",
       "  </thead>\n",
       "  <tbody>\n",
       "    <tr>\n",
       "      <th>1</th>\n",
       "      <td>0.493590</td>\n",
       "      <td>0.287445</td>\n",
       "      <td>0.77375</td>\n",
       "      <td>0.898438</td>\n",
       "      <td>0:06:34</td>\n",
       "      <td>0:00:23</td>\n",
       "    </tr>\n",
       "    <tr>\n",
       "      <th>2</th>\n",
       "      <td>0.212526</td>\n",
       "      <td>0.265392</td>\n",
       "      <td>0.93125</td>\n",
       "      <td>0.898438</td>\n",
       "      <td>0:05:49</td>\n",
       "      <td>0:00:12</td>\n",
       "    </tr>\n",
       "    <tr>\n",
       "      <th>3</th>\n",
       "      <td>0.108391</td>\n",
       "      <td>0.270402</td>\n",
       "      <td>0.97625</td>\n",
       "      <td>0.914062</td>\n",
       "      <td>0:05:10</td>\n",
       "      <td>0:00:12</td>\n",
       "    </tr>\n",
       "  </tbody>\n",
       "</table>\n",
       "</div>"
      ],
      "text/plain": [
       "       Perda de treinamento  Perda de validacao  Acuracia de treinamento  \\\n",
       "epoca                                                                      \n",
       "1                  0.493590            0.287445                  0.77375   \n",
       "2                  0.212526            0.265392                  0.93125   \n",
       "3                  0.108391            0.270402                  0.97625   \n",
       "\n",
       "       Acuracia de validacao Tempo de treinamento Tempo de validacao  \n",
       "epoca                                                                 \n",
       "1                   0.898438              0:06:34            0:00:23  \n",
       "2                   0.898438              0:05:49            0:00:12  \n",
       "3                   0.914062              0:05:10            0:00:12  "
      ]
     },
     "execution_count": 58,
     "metadata": {},
     "output_type": "execute_result"
    }
   ],
   "source": [
    "# Analisando as estatísticas de treinamento\n",
    "df_stats"
   ]
  },
  {
   "cell_type": "code",
   "execution_count": 59,
   "metadata": {},
   "outputs": [
    {
     "data": {
      "image/png": "[encoded data removed]",
      "text/plain": [
       "<Figure size 1200x600 with 1 Axes>"
      ]
     },
     "metadata": {},
     "output_type": "display_data"
    }
   ],
   "source": [
    "%matplotlib inline\n",
    "\n",
    "# Usando o estilo do pacote seaborn\n",
    "sns.set(style='darkgrid')\n",
    "\n",
    "# Aumentando o tamanho do plot e da fonte\n",
    "sns.set(font_scale=1.5)\n",
    "plt.rcParams[\"figure.figsize\"] = (12,6)\n",
    "\n",
    "# Plotando as curvas de perda\n",
    "plt.plot(df_stats['Perda de treinamento'], 'b-o', label=\"Treinamento\")\n",
    "plt.plot(df_stats['Perda de validacao'], 'g-o', label=\"Validação\")\n",
    "\n",
    "# Escrevendo as legendas\n",
    "plt.title(\"Perda de treinamento e validação\")\n",
    "plt.xlabel(\"Época\")\n",
    "plt.ylabel(\"Perda\")\n",
    "plt.legend()\n",
    "plt.xticks([1, 2, 3])\n",
    "\n",
    "plt.show()"
   ]
  },
  {
   "cell_type": "markdown",
   "metadata": {},
   "source": [
    "# Avaliando o modelo"
   ]
  },
  {
   "cell_type": "markdown",
   "metadata": {},
   "source": [
    "Depois do ajuste, vamos avaliar a performance do modelo no banco de teste"
   ]
  },
  {
   "cell_type": "code",
   "execution_count": 72,
   "metadata": {},
   "outputs": [
    {
     "data": {
      "text/plain": [
       "BertForSequenceClassification(\n",
       "  (bert): BertModel(\n",
       "    (embeddings): BertEmbeddings(\n",
       "      (word_embeddings): Embedding(30522, 768, padding_idx=0)\n",
       "      (position_embeddings): Embedding(512, 768)\n",
       "      (token_type_embeddings): Embedding(2, 768)\n",
       "      (LayerNorm): LayerNorm((768,), eps=1e-12, elementwise_affine=True)\n",
       "      (dropout): Dropout(p=0.1, inplace=False)\n",
       "    )\n",
       "    (encoder): BertEncoder(\n",
       "      (layer): ModuleList(\n",
       "        (0-11): 12 x BertLayer(\n",
       "          (attention): BertAttention(\n",
       "            (self): BertSelfAttention(\n",
       "              (query): Linear(in_features=768, out_features=768, bias=True)\n",
       "              (key): Linear(in_features=768, out_features=768, bias=True)\n",
       "              (value): Linear(in_features=768, out_features=768, bias=True)\n",
       "              (dropout): Dropout(p=0.1, inplace=False)\n",
       "            )\n",
       "            (output): BertSelfOutput(\n",
       "              (dense): Linear(in_features=768, out_features=768, bias=True)\n",
       "              (LayerNorm): LayerNorm((768,), eps=1e-12, elementwise_affine=True)\n",
       "              (dropout): Dropout(p=0.1, inplace=False)\n",
       "            )\n",
       "          )\n",
       "          (intermediate): BertIntermediate(\n",
       "            (dense): Linear(in_features=768, out_features=3072, bias=True)\n",
       "            (intermediate_act_fn): GELUActivation()\n",
       "          )\n",
       "          (output): BertOutput(\n",
       "            (dense): Linear(in_features=3072, out_features=768, bias=True)\n",
       "            (LayerNorm): LayerNorm((768,), eps=1e-12, elementwise_affine=True)\n",
       "            (dropout): Dropout(p=0.1, inplace=False)\n",
       "          )\n",
       "        )\n",
       "      )\n",
       "    )\n",
       "    (pooler): BertPooler(\n",
       "      (dense): Linear(in_features=768, out_features=768, bias=True)\n",
       "      (activation): Tanh()\n",
       "    )\n",
       "  )\n",
       "  (dropout): Dropout(p=0.1, inplace=False)\n",
       "  (classifier): Linear(in_features=768, out_features=2, bias=True)\n",
       ")"
      ]
     },
     "execution_count": 72,
     "metadata": {},
     "output_type": "execute_result"
    }
   ],
   "source": [
    "# Para carregar o modelo ajustado de volta, basta trocar o nome do modelo pré-treinado pela pasta onde o modelo foi salvo\n",
    "PASTA_MODELO = \"dados/model_save_18k/\"\n",
    "\n",
    "tokenizer = BertTokenizer.from_pretrained(PASTA_MODELO)\n",
    "model = BertForSequenceClassification.from_pretrained(PASTA_MODELO)\n",
    "\n",
    "# Copiando o modelo para o dispositivo, no nosso caso, a CPU\n",
    "model.to(device)"
   ]
  },
  {
   "cell_type": "markdown",
   "metadata": {},
   "source": [
    "Vamos executar os mesmos passo para o teste que foi feito na validação."
   ]
  },
  {
   "cell_type": "code",
   "execution_count": 60,
   "metadata": {},
   "outputs": [
    {
     "name": "stdout",
     "output_type": "stream",
     "text": [
      "Concluido!\n"
     ]
    }
   ],
   "source": [
    "model.eval()  # Coloca o modelo em modo de validação\n",
    "\n",
    "predictions , true_labels = [], []\n",
    "\n",
    "# Para cada lote do banco de teste...\n",
    "for batch in prediction_dataloader:\n",
    "    batch = tuple(t.to(device) for t in batch)\n",
    "    b_input_ids, b_input_mask, b_labels = batch\n",
    "\n",
    "    with torch.no_grad():\n",
    "        # Executa a função 'forward' para armazenar os valores preditos\n",
    "        result = model(b_input_ids,\n",
    "                        token_type_ids=None,\n",
    "                        attention_mask=b_input_mask,\n",
    "                        return_dict=True)\n",
    "\n",
    "    logits = result.logits\n",
    "\n",
    "    logits = logits.detach().cpu().numpy()\n",
    "    label_ids = b_labels.to('cpu').numpy()\n",
    "\n",
    "    # Armazenando os valores reais e preditos\n",
    "    predictions.append(logits)\n",
    "    true_labels.append(label_ids)\n",
    "\n",
    "print('Concluido!')"
   ]
  },
  {
   "cell_type": "markdown",
   "metadata": {},
   "source": [
    "Para avaliar o ajuste do modelo ajustado no banco de teste, utilizaremos o Coeficiente de Correção de Matthews (MCC), que se assemelha ao Coeficiente de Correlação de Pearson por assumir valores entre -1 e +1. Quanto mais próximo de +1 for o MCC, melhor será a perfomance do modelo no banco de teste. Universalmente, se considera 0,5 como um valor razoavelmente bom de ajuste."
   ]
  },
  {
   "cell_type": "code",
   "execution_count": 62,
   "metadata": {},
   "outputs": [
    {
     "data": {
      "text/plain": [
       "array([[ 2.349662  , -2.1562748 ],\n",
       "       [ 1.2858639 , -1.123915  ],\n",
       "       [ 2.2270808 , -2.0516207 ],\n",
       "       [-2.0904958 ,  2.287542  ],\n",
       "       [-1.4459506 ,  1.237804  ],\n",
       "       [ 1.6953287 , -1.7106705 ],\n",
       "       [ 2.0999448 , -2.081278  ],\n",
       "       [ 1.9182131 , -1.9630408 ],\n",
       "       [ 2.0892217 , -2.0504384 ],\n",
       "       [ 2.090943  , -2.07869   ],\n",
       "       [-2.1225882 ,  2.2418835 ],\n",
       "       [ 1.129257  , -1.0741009 ],\n",
       "       [ 2.308545  , -2.048817  ],\n",
       "       [ 2.1782346 , -2.1076744 ],\n",
       "       [-2.0127704 ,  2.1979976 ],\n",
       "       [ 1.1896777 , -1.4284341 ],\n",
       "       [-1.1794182 ,  1.4968781 ],\n",
       "       [-1.8136746 ,  1.7675476 ],\n",
       "       [-0.49852854,  0.11789352],\n",
       "       [ 2.1857917 , -2.0226028 ],\n",
       "       [ 2.3102548 , -2.1970215 ],\n",
       "       [ 1.7361498 , -1.875738  ],\n",
       "       [-1.2136188 ,  1.3632585 ],\n",
       "       [-1.8996556 ,  1.8842155 ],\n",
       "       [ 2.1024935 , -2.0176926 ],\n",
       "       [-1.6447369 ,  2.0248635 ],\n",
       "       [-2.0623455 ,  2.278598  ],\n",
       "       [-1.4164374 ,  1.3619568 ],\n",
       "       [ 2.271128  , -2.104946  ],\n",
       "       [-2.1986415 ,  2.2128966 ],\n",
       "       [-1.6121464 ,  1.6481433 ],\n",
       "       [ 1.7555251 , -1.8658397 ]], dtype=float32)"
      ]
     },
     "execution_count": 62,
     "metadata": {},
     "output_type": "execute_result"
    }
   ],
   "source": [
    "predictions[0]"
   ]
  },
  {
   "cell_type": "code",
   "execution_count": 61,
   "metadata": {},
   "outputs": [
    {
     "data": {
      "text/plain": [
       "array([0, 0, 0, 1, 1, 0, 0, 0, 0, 0, 1, 0, 0, 0, 1, 0, 1, 1, 0, 0, 0, 0,\n",
       "       1, 1, 0, 1, 1, 1, 0, 1, 1, 0], dtype=int64)"
      ]
     },
     "execution_count": 61,
     "metadata": {},
     "output_type": "execute_result"
    }
   ],
   "source": [
    "true_labels[0]"
   ]
  },
  {
   "cell_type": "code",
   "execution_count": 63,
   "metadata": {},
   "outputs": [
    {
     "name": "stdout",
     "output_type": "stream",
     "text": [
      "Calculating Matthews Corr. Coef. for each batch...\n"
     ]
    }
   ],
   "source": [
    "matthews_set = []\n",
    "\n",
    "# Evaluate each test batch using Matthew's correlation coefficient\n",
    "print('Calculating Matthews Corr. Coef. for each batch...')\n",
    "\n",
    "# Para cada batch\n",
    "for i in range(len(true_labels)):\n",
    "\n",
    "    # The predictions for this batch are a 2-column ndarray (one column for \"0\"\n",
    "    # and one column for \"1\"). Pick the label with the highest value and turn this\n",
    "    # in to a list of 0s and 1s.\n",
    "    pred_labels_i = np.argmax(predictions[i], axis=1).flatten()\n",
    "\n",
    "    # Calculate and store the coef for this batch.\n",
    "    matthews = matthews_corrcoef(true_labels[i], pred_labels_i)\n",
    "    matthews_set.append(matthews)"
   ]
  },
  {
   "cell_type": "code",
   "execution_count": 64,
   "metadata": {},
   "outputs": [
    {
     "data": {
      "image/png": "[encoded data removed]",
      "text/plain": [
       "<Figure size 1200x600 with 1 Axes>"
      ]
     },
     "metadata": {},
     "output_type": "display_data"
    }
   ],
   "source": [
    "# Create a barplot showing the MCC score for each batch of test samples.\n",
    "ax = sns.barplot(x=list(range(len(matthews_set))), y=matthews_set, errorbar=None)\n",
    "\n",
    "plt.title('MCC Score per Batch')\n",
    "plt.ylabel('MCC Score (-1 to +1)') \n",
    "plt.xlabel('Batch #')\n",
    "\n",
    "plt.show()"
   ]
  },
  {
   "cell_type": "code",
   "execution_count": 65,
   "metadata": {},
   "outputs": [
    {
     "name": "stdout",
     "output_type": "stream",
     "text": [
      "Total MCC: 0.800\n"
     ]
    }
   ],
   "source": [
    "# Combine the results across all batches.\n",
    "flat_predictions = np.concatenate(predictions, axis=0)\n",
    "\n",
    "# For each sample, pick the label (0 or 1) with the higher score.\n",
    "flat_predictions = np.argmax(flat_predictions, axis=1).flatten()\n",
    "\n",
    "# Combine the correct labels for each batch into a single list.\n",
    "flat_true_labels = np.concatenate(true_labels, axis=0)\n",
    "\n",
    "# Calculate the MCC\n",
    "mcc = matthews_corrcoef(flat_true_labels, flat_predictions)\n",
    "\n",
    "print('Total MCC: %.3f' % mcc)"
   ]
  }
 ],
 "metadata": {
  "kernelspec": {
   "display_name": "Python 3",
   "language": "python",
   "name": "python3"
  },
  "language_info": {
   "codemirror_mode": {
    "name": "ipython",
    "version": 3
   },
   "file_extension": ".py",
   "mimetype": "text/x-python",
   "name": "python",
   "nbconvert_exporter": "python",
   "pygments_lexer": "ipython3",
   "version": "3.11.3"
  },
  "orig_nbformat": 4
 },
 "nbformat": 4,
 "nbformat_minor": 2
}
