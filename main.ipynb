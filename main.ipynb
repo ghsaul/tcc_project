{
 "cells": [
  {
   "cell_type": "markdown",
   "metadata": {},
   "source": [
    "# Introdução"
   ]
  },
  {
   "cell_type": "markdown",
   "metadata": {},
   "source": [
    "> Este trabalho foi baseado no código de Chris McCormick e Nick Ryan, disponível em https://colab.research.google.com/drive/1pTuQhug6Dhl9XalKB0zUGf4FIdYFlpcX"
   ]
  },
  {
   "cell_type": "markdown",
   "metadata": {},
   "source": [
    "Neste trabalho, irei descreverei o banco de dados utilizado no ajuste de um modelo BERT, assim como as etapas de pré-processamento aplicadas aos dados. Em seguida, apresentarei o detalhamento das etapas de treinamento, validação e teste do modelo ajustado. Para o desenvolvimento desta análise, foi utilizada a linguagem de programação `Python` (versão 3.11.3) em conjunto com o editor de código-fonte Visual Studio Code. Ainda, foram utilizados pacotes em `Python` como `numpy` (Harris et al., 2020) (versão 1.24.4), `pandas` (Wes McKinney, 2010) (versão 2.0.3), `transformers` (Wolf et al., 2019) (versão 4.30.2) e `torch` (Paszke et al., 2019) (versão 2.0.1)."
   ]
  },
  {
   "attachments": {},
   "cell_type": "markdown",
   "metadata": {},
   "source": [
    "# Setup"
   ]
  },
  {
   "cell_type": "code",
   "execution_count": null,
   "metadata": {},
   "outputs": [],
   "source": [
    "# Importando pacotes e funções\n",
    "import os\n",
    "import time\n",
    "import datetime\n",
    "import random\n",
    "import torch\n",
    "import numpy as np\n",
    "import pandas as pd\n",
    "import seaborn as sns\n",
    "import matplotlib.pyplot as plt\n",
    "\n",
    "from statistics import mean\n",
    "from collections import Counter\n",
    "from langdetect import detect, DetectorFactory\n",
    "from torch.utils.data import TensorDataset, random_split, DataLoader, RandomSampler, SequentialSampler, Subset\n",
    "from transformers import BertTokenizer, BertForSequenceClassification, get_linear_schedule_with_warmup"
   ]
  },
  {
   "cell_type": "code",
   "execution_count": 2,
   "metadata": {},
   "outputs": [],
   "source": [
    "# Declarando constantes\n",
    "DF_ORIGINAL = r\"dados/WELFake_Dataset.csv\"\n",
    "DF_FINAL = r\"dados/data.csv\"\n",
    "MODEL_FOLDER = r\"dados/model_v1/\"\n",
    "\n",
    "device = torch.device(\"cpu\")\n",
    "os.environ['CURL_CA_BUNDLE'] = ''  # Caso surja o erro \"[SSL: CERTIFICATE_VERIFY_FAILED] certificate verify failed\" rode estes comandos para reduzir a versão do pacote requets: \"pip uninstall requests\" e \"pip install requests==2.27.1\""
   ]
  },
  {
   "cell_type": "code",
   "execution_count": 3,
   "metadata": {},
   "outputs": [],
   "source": [
    "# Declarando a semente aleatória para que este código seja reprodutível\n",
    "my_seed = 288933\n",
    "\n",
    "random.seed(my_seed)\n",
    "np.random.seed(my_seed)\n",
    "torch.manual_seed(my_seed)\n",
    "torch.cuda.manual_seed_all(my_seed)"
   ]
  },
  {
   "cell_type": "markdown",
   "metadata": {},
   "source": [
    "# Pré-Processamento"
   ]
  },
  {
   "cell_type": "markdown",
   "metadata": {},
   "source": [
    "O banco de dados original (Verma et al., 2021) foi obtido pelo portal Kaggle e contém informações acerca de 72.134 artigos de notícias na língua inglesa, dos quais 35.028 são notícias verdadeiras e 37.106 são falsas. Para compor o banco, Verma et al. (2021) extraíram artigos dos portais Kaggle, McIntire, Reuters e BuzzFeed Political. O conjunto de dados possui 3 colunas: \"title\", que apresenta o título da notícia no formato de texto; \"text\", que apresenta o conteúdo da notícia no formato de texto; e \"label\", que é 0 para notícias verdadeiras e 1 para falsas. O objetivo deste trabalho é utilizar as colunas \"título\" e \"label\" do banco de dados apresentado para ajustar um modelo BERT para classificação binária supervisionada de texto, capaz de detectar quando o título de uma notícia em inglês provém de um artigo falso ou não."
   ]
  },
  {
   "cell_type": "code",
   "execution_count": 4,
   "metadata": {},
   "outputs": [
    {
     "name": "stdout",
     "output_type": "stream",
     "text": [
      "<class 'pandas.core.frame.DataFrame'>\n",
      "Index: 72134 entries, 0 to 72133\n",
      "Data columns (total 3 columns):\n",
      " #   Column  Non-Null Count  Dtype \n",
      "---  ------  --------------  ----- \n",
      " 0   title   71576 non-null  object\n",
      " 1   text    72095 non-null  object\n",
      " 2   label   72134 non-null  int64 \n",
      "dtypes: int64(1), object(2)\n",
      "memory usage: 2.2+ MB\n"
     ]
    },
    {
     "data": {
      "text/html": [
       "<div>\n",
       "<style scoped>\n",
       "    .dataframe tbody tr th:only-of-type {\n",
       "        vertical-align: middle;\n",
       "    }\n",
       "\n",
       "    .dataframe tbody tr th {\n",
       "        vertical-align: top;\n",
       "    }\n",
       "\n",
       "    .dataframe thead th {\n",
       "        text-align: right;\n",
       "    }\n",
       "</style>\n",
       "<table border=\"1\" class=\"dataframe\">\n",
       "  <thead>\n",
       "    <tr style=\"text-align: right;\">\n",
       "      <th></th>\n",
       "      <th>title</th>\n",
       "      <th>text</th>\n",
       "      <th>label</th>\n",
       "    </tr>\n",
       "  </thead>\n",
       "  <tbody>\n",
       "    <tr>\n",
       "      <th>0</th>\n",
       "      <td>LAW ENFORCEMENT ON HIGH ALERT Following Threat...</td>\n",
       "      <td>No comment is expected from Barack Obama Membe...</td>\n",
       "      <td>1</td>\n",
       "    </tr>\n",
       "    <tr>\n",
       "      <th>1</th>\n",
       "      <td>NaN</td>\n",
       "      <td>Did they post their votes for Hillary already?</td>\n",
       "      <td>1</td>\n",
       "    </tr>\n",
       "    <tr>\n",
       "      <th>2</th>\n",
       "      <td>UNBELIEVABLE! OBAMA’S ATTORNEY GENERAL SAYS MO...</td>\n",
       "      <td>Now, most of the demonstrators gathered last ...</td>\n",
       "      <td>1</td>\n",
       "    </tr>\n",
       "    <tr>\n",
       "      <th>3</th>\n",
       "      <td>Bobby Jindal, raised Hindu, uses story of Chri...</td>\n",
       "      <td>A dozen politically active pastors came here f...</td>\n",
       "      <td>0</td>\n",
       "    </tr>\n",
       "    <tr>\n",
       "      <th>4</th>\n",
       "      <td>SATAN 2: Russia unvelis an image of its terrif...</td>\n",
       "      <td>The RS-28 Sarmat missile, dubbed Satan 2, will...</td>\n",
       "      <td>1</td>\n",
       "    </tr>\n",
       "  </tbody>\n",
       "</table>\n",
       "</div>"
      ],
      "text/plain": [
       "                                               title  \\\n",
       "0  LAW ENFORCEMENT ON HIGH ALERT Following Threat...   \n",
       "1                                                NaN   \n",
       "2  UNBELIEVABLE! OBAMA’S ATTORNEY GENERAL SAYS MO...   \n",
       "3  Bobby Jindal, raised Hindu, uses story of Chri...   \n",
       "4  SATAN 2: Russia unvelis an image of its terrif...   \n",
       "\n",
       "                                                text  label  \n",
       "0  No comment is expected from Barack Obama Membe...      1  \n",
       "1     Did they post their votes for Hillary already?      1  \n",
       "2   Now, most of the demonstrators gathered last ...      1  \n",
       "3  A dozen politically active pastors came here f...      0  \n",
       "4  The RS-28 Sarmat missile, dubbed Satan 2, will...      1  "
      ]
     },
     "execution_count": 4,
     "metadata": {},
     "output_type": "execute_result"
    }
   ],
   "source": [
    "# Importando o banco\n",
    "df = pd.read_csv(DF_ORIGINAL, index_col=0)\n",
    "\n",
    "df.info()\n",
    "df.head()"
   ]
  },
  {
   "cell_type": "code",
   "execution_count": 5,
   "metadata": {},
   "outputs": [
    {
     "data": {
      "text/plain": [
       "label\n",
       "0    35028\n",
       "1    37106\n",
       "dtype: int64"
      ]
     },
     "execution_count": 5,
     "metadata": {},
     "output_type": "execute_result"
    }
   ],
   "source": [
    "df.groupby('label').size()"
   ]
  },
  {
   "cell_type": "code",
   "execution_count": 6,
   "metadata": {},
   "outputs": [
    {
     "name": "stdout",
     "output_type": "stream",
     "text": [
      "Número de observações removidas por valores nulos nas colunas de título ou de classificação: 558\n"
     ]
    }
   ],
   "source": [
    "# Selecionando somente as colunas de título e de classificação\n",
    "df = df[['title', 'label']]\n",
    "\n",
    "n_row_before = len(df)\n",
    "df = df[~df['title'].isnull()]\n",
    "df = df[~df['label'].isnull()]\n",
    "\n",
    "n_row_after = len(df)\n",
    "print(f'Número de observações removidas por valores nulos nas colunas de título ou de classificação: {n_row_before- n_row_after}')"
   ]
  },
  {
   "cell_type": "code",
   "execution_count": 7,
   "metadata": {},
   "outputs": [
    {
     "name": "stdout",
     "output_type": "stream",
     "text": [
      "Número de observações removidas por valores duplicados: 9233\n"
     ]
    }
   ],
   "source": [
    "# Removendo linhas duplicadas\n",
    "n_row_before = len(df)\n",
    "df.drop_duplicates(inplace=True)  # Valores de todas as colunas iguais\n",
    "df.drop_duplicates(subset='title', keep=False, inplace=True, ignore_index=True)  # Valores removidos aqui são títulos que possuem ambos os labels\n",
    "\n",
    "n_row_after = len(df)\n",
    "print(f'Número de observações removidas por valores duplicados: {n_row_before- n_row_after}')"
   ]
  },
  {
   "cell_type": "markdown",
   "metadata": {},
   "source": [
    "Alguns títulos estão em outras línguas além de inglês. Para removê-los, utilizaremos o pacote `langdetect` (versão 1.0.9)."
   ]
  },
  {
   "cell_type": "code",
   "execution_count": 8,
   "metadata": {},
   "outputs": [
    {
     "name": "stdout",
     "output_type": "stream",
     "text": [
      "Counter({'en': 60048, 'de': 814, 'fr': 212, 'es': 204, 'ru': 153, 'ca': 152, 'it': 116, 'nl': 96, 'af': 73, 'da': 72, 'no': 68, 'id': 64, 'ro': 50, 'pt': 41, 'et': 27, 'sv': 24, 'tl': 21, 'ar': 19, 'vi': 15, 'lt': 11, 'so': 10, 'tr': 10, 'error': 7, 'hr': 7, 'cy': 6, 'fi': 4, 'pl': 3, 'sl': 3, 'sw': 3, 'bg': 3, 'el': 2, 'lv': 1, 'fa': 1, 'sq': 1, 'zh-cn': 1, 'hu': 1})\n"
     ]
    }
   ],
   "source": [
    "# Classificando os títulos em línguas\n",
    "DetectorFactory.seed = 0\n",
    "\n",
    "language = []\n",
    "for title in df['title']:\n",
    "    try:\n",
    "        language.append(detect(title))\n",
    "    except:\n",
    "        language.append('error')\n",
    "        pass\n",
    "\n",
    "print(Counter(language))"
   ]
  },
  {
   "cell_type": "markdown",
   "metadata": {},
   "source": [
    "Vamos excluir as linhas em que o pacote `langdetect` classificou os títulos como língua russa, árabe, lituana, turca, polonesa, búlgara, grega, chinesa ou títulos que não puderam ser classificados pelo pacote. Vários títulos em inglês foram classificados como sendo de outras línguas e, por tanto, considera-se que tal classificação não foi muito acurada. Além disso, é importante ter em mente que vários títulos em línguas que não o inglês não puderam ser removidas do banco de forma automática, o que poderá provocar um ruído no modelo ajustado."
   ]
  },
  {
   "cell_type": "code",
   "execution_count": 9,
   "metadata": {},
   "outputs": [
    {
     "name": "stdout",
     "output_type": "stream",
     "text": [
      "Número de títulos removidos por não estarem em inglês: 209\n"
     ]
    }
   ],
   "source": [
    "# Removendo títulos em outras línguas\n",
    "n_row_before = len(df)\n",
    "df.drop([idx for idx, l in enumerate(language) if l in ['ru', 'ar', 'lt', 'tr', 'pl', 'bg', 'el', 'zh-cn', 'error']]\n",
    "        ,axis=0  # linhas\n",
    "        ,inplace=True)\n",
    "df.reset_index(drop=True, inplace=True)\n",
    "\n",
    "n_row_after = len(df)\n",
    "print(f'Número de títulos removidos por não estarem em inglês: {n_row_before- n_row_after}')"
   ]
  },
  {
   "cell_type": "markdown",
   "metadata": {},
   "source": [
    "Para analisar o tamanho de cada título, vamos considerar o número de tokens do título tokenizado pelo modelo pré-treinado BERT Base. A informação do número máximo de tokens será útil na fase de ajuste do modelo."
   ]
  },
  {
   "cell_type": "code",
   "execution_count": 10,
   "metadata": {},
   "outputs": [
    {
     "name": "stdout",
     "output_type": "stream",
     "text": [
      "Mínimo de tokens:  3\n",
      "Máximo de tokens:  96\n",
      "Média de tokens:  18.1779\n",
      "Quantidade de tokens por percentil:  [12. 13. 15. 16. 17. 19. 20. 22. 25.]\n",
      "Número de títulos com mais de 128 tokens:  0\n",
      "Número de títulos com mais de 64 tokens:  3\n",
      "Número de títulos com mais de 32 tokens:  1415\n"
     ]
    }
   ],
   "source": [
    "# Declarando o tokenizador do modelo BERT Base Uncased (que considera todas as letras como minúsculas). Este objeto será declarado novamente depois, mas precisamos dele aqui para obter estatísticas descritivas do número de tokens por título.\n",
    "tokenizer = BertTokenizer.from_pretrained('bert-base-uncased')\n",
    "\n",
    "# Para cada título, calcule o tamanho do vetor de tokens\n",
    "df['n_token'] = [len(tokenizer.encode(title, add_special_tokens=True)) for title in df['title']]\n",
    "\n",
    "# Analisando algumas estatísticas\n",
    "print('Mínimo de tokens: ', min(df['n_token']))\n",
    "print('Máximo de tokens: ', max(df['n_token']))\n",
    "print('Média de tokens: ', round(mean(df['n_token']), 4))\n",
    "print('Quantidade de tokens por percentil: ', np.quantile(df['n_token'], q=[.1, .2, .3, .4, .5, .6, .7, .8, .9]))\n",
    "print('Número de títulos com mais de 128 tokens: ', sum([i > 128 for i in df['n_token']]))\n",
    "print('Número de títulos com mais de 64 tokens: ', sum([i > 64 for i in df['n_token']]))\n",
    "print('Número de títulos com mais de 32 tokens: ', sum([i > 32 for i in df['n_token']]))"
   ]
  },
  {
   "cell_type": "code",
   "execution_count": 11,
   "metadata": {},
   "outputs": [
    {
     "name": "stdout",
     "output_type": "stream",
     "text": [
      "<class 'pandas.core.frame.DataFrame'>\n",
      "RangeIndex: 62134 entries, 0 to 62133\n",
      "Data columns (total 3 columns):\n",
      " #   Column   Non-Null Count  Dtype \n",
      "---  ------   --------------  ----- \n",
      " 0   title    62134 non-null  object\n",
      " 1   label    62134 non-null  int64 \n",
      " 2   n_token  62134 non-null  int64 \n",
      "dtypes: int64(2), object(1)\n",
      "memory usage: 1.4+ MB\n"
     ]
    },
    {
     "data": {
      "text/html": [
       "<div>\n",
       "<style scoped>\n",
       "    .dataframe tbody tr th:only-of-type {\n",
       "        vertical-align: middle;\n",
       "    }\n",
       "\n",
       "    .dataframe tbody tr th {\n",
       "        vertical-align: top;\n",
       "    }\n",
       "\n",
       "    .dataframe thead th {\n",
       "        text-align: right;\n",
       "    }\n",
       "</style>\n",
       "<table border=\"1\" class=\"dataframe\">\n",
       "  <thead>\n",
       "    <tr style=\"text-align: right;\">\n",
       "      <th></th>\n",
       "      <th>title</th>\n",
       "      <th>label</th>\n",
       "      <th>n_token</th>\n",
       "    </tr>\n",
       "  </thead>\n",
       "  <tbody>\n",
       "    <tr>\n",
       "      <th>0</th>\n",
       "      <td>LAW ENFORCEMENT ON HIGH ALERT Following Threat...</td>\n",
       "      <td>1</td>\n",
       "      <td>35</td>\n",
       "    </tr>\n",
       "    <tr>\n",
       "      <th>1</th>\n",
       "      <td>UNBELIEVABLE! OBAMA’S ATTORNEY GENERAL SAYS MO...</td>\n",
       "      <td>1</td>\n",
       "      <td>30</td>\n",
       "    </tr>\n",
       "    <tr>\n",
       "      <th>2</th>\n",
       "      <td>Bobby Jindal, raised Hindu, uses story of Chri...</td>\n",
       "      <td>0</td>\n",
       "      <td>22</td>\n",
       "    </tr>\n",
       "    <tr>\n",
       "      <th>3</th>\n",
       "      <td>SATAN 2: Russia unvelis an image of its terrif...</td>\n",
       "      <td>1</td>\n",
       "      <td>25</td>\n",
       "    </tr>\n",
       "    <tr>\n",
       "      <th>4</th>\n",
       "      <td>About Time! Christian Group Sues Amazon and SP...</td>\n",
       "      <td>1</td>\n",
       "      <td>18</td>\n",
       "    </tr>\n",
       "  </tbody>\n",
       "</table>\n",
       "</div>"
      ],
      "text/plain": [
       "                                               title  label  n_token\n",
       "0  LAW ENFORCEMENT ON HIGH ALERT Following Threat...      1       35\n",
       "1  UNBELIEVABLE! OBAMA’S ATTORNEY GENERAL SAYS MO...      1       30\n",
       "2  Bobby Jindal, raised Hindu, uses story of Chri...      0       22\n",
       "3  SATAN 2: Russia unvelis an image of its terrif...      1       25\n",
       "4  About Time! Christian Group Sues Amazon and SP...      1       18"
      ]
     },
     "execution_count": 11,
     "metadata": {},
     "output_type": "execute_result"
    }
   ],
   "source": [
    "# Banco pré-processado\n",
    "df.info()\n",
    "df.head()"
   ]
  },
  {
   "cell_type": "code",
   "execution_count": 12,
   "metadata": {},
   "outputs": [
    {
     "data": {
      "text/plain": [
       "label\n",
       "0    34404\n",
       "1    27730\n",
       "dtype: int64"
      ]
     },
     "execution_count": 12,
     "metadata": {},
     "output_type": "execute_result"
    }
   ],
   "source": [
    "df.groupby('label').size()"
   ]
  },
  {
   "cell_type": "markdown",
   "metadata": {},
   "source": [
    "Durante o pré-processamento, não foram removidos sinais de pontuação ou stop words, que é um conjunto de palavras que são normalmente desconsideradas da análise, como preposições ou conjunções. Esta escolha foi tomada porque a remoção de tais tokens implicaria na remoção de contexto que o modelo poderia ter usado para obter melhores resultados. Além disso, pesquisadores como Schofield et al. (2017) têm debatido se a remoção de stop words de fato impacta positivamente no desempenho de modelos de NLP.\n",
    "\n",
    "Finalizada a fase de pré-processamento, o banco de dados final possui 62.134 observações, das quais 34.404 são notícias verdadeiras e 27.730 são falsas. É possível notar que os dados são levemente desbalanceados, pois aproximadamente 55,37% das notícias são verdadeiras e 44,63% são falsas.\n",
    "\n",
    "Como exemplo de um título de uma notícia verdadeira, temos: \"Bobby Jindal, raised Hindu, uses story of Christian conversion to woo evangelicals for potential 2016 bid\".\n",
    "\n",
    "Já como exemplo de um título de uma notícia falsa, temos: \"UNBELIEVABLE! OBAMA’S ATTORNEY GENERAL SAYS MOST CHARLOTTE RIOTERS WERE PEACEFUL PROTESTERS... In Her Home State Of North Carolina [VIDEO]\".\n",
    "\n",
    "Com o banco pré-processado pronto, vamos exportá-lo para um arquivo CSV."
   ]
  },
  {
   "cell_type": "code",
   "execution_count": 14,
   "metadata": {},
   "outputs": [],
   "source": [
    "df.to_csv(DF_FINAL, index=False)"
   ]
  },
  {
   "cell_type": "code",
   "execution_count": 12,
   "metadata": {},
   "outputs": [],
   "source": [
    "# Para poupar tempo caso o arquivo DF_FINAL já tenha sido salvo anteriormente\n",
    "df = pd.read_csv(DF_FINAL)"
   ]
  },
  {
   "cell_type": "markdown",
   "metadata": {},
   "source": [
    "# Tunando o modelo pré-treinado"
   ]
  },
  {
   "cell_type": "markdown",
   "metadata": {},
   "source": [
    "Utilizando o conceito de transferência de aprendizagem para aumentar a velocidade de treinamento, os parâmetros do modelo foram inicializados a partir do modelo pré-treinado `BERT BASE uncased`, que não faz distinção entre caracteres maiúsculos e minúsculos. O pacote `transformers` fornece uma classe denominada `BertForSequenceClassification`, que carrega os parâmetros do modelo pré-treinado e fornece ferramentas que auxiliam no estágio de ajuste fino em tarefas de classificação de sequência. Como estamos interessados em fazer uma classificação binária, utilizamos um classificador com somente duas categorias."
   ]
  },
  {
   "cell_type": "code",
   "execution_count": 13,
   "metadata": {},
   "outputs": [
    {
     "name": "stderr",
     "output_type": "stream",
     "text": [
      "Some weights of the model checkpoint at bert-base-uncased were not used when initializing BertForSequenceClassification: ['cls.seq_relationship.weight', 'cls.seq_relationship.bias', 'cls.predictions.transform.dense.weight', 'cls.predictions.transform.LayerNorm.bias', 'cls.predictions.bias', 'cls.predictions.transform.dense.bias', 'cls.predictions.transform.LayerNorm.weight']\n",
      "- This IS expected if you are initializing BertForSequenceClassification from the checkpoint of a model trained on another task or with another architecture (e.g. initializing a BertForSequenceClassification model from a BertForPreTraining model).\n",
      "- This IS NOT expected if you are initializing BertForSequenceClassification from the checkpoint of a model that you expect to be exactly identical (initializing a BertForSequenceClassification model from a BertForSequenceClassification model).\n",
      "Some weights of BertForSequenceClassification were not initialized from the model checkpoint at bert-base-uncased and are newly initialized: ['classifier.weight', 'classifier.bias']\n",
      "You should probably TRAIN this model on a down-stream task to be able to use it for predictions and inference.\n"
     ]
    }
   ],
   "source": [
    "tokenizer = BertTokenizer.from_pretrained('bert-base-uncased')\n",
    "model = BertForSequenceClassification.from_pretrained('bert-base-uncased', num_labels = 2, output_attentions = False, output_hidden_states = False)"
   ]
  },
  {
   "cell_type": "markdown",
   "metadata": {},
   "source": [
    "O primeiro passo que devemos fazer para ajustar o modelo é tokenizar as sentenças do banco. Para isso, vamos utilizar o método `encode_plus` para que cada sentença seja tokenizada pelo método WordPiece. Dentre as configurações, vamos truncar as sentenças que possuem mais do que 64 tokens para otimização. Como foi visto anteriormente, somente 3 sentenças do banco de dados possuem mais do que 64 tokens, portanto espera-se que o truncamento não afete os resultados do ajuste."
   ]
  },
  {
   "cell_type": "code",
   "execution_count": 14,
   "metadata": {},
   "outputs": [
    {
     "name": "stdout",
     "output_type": "stream",
     "text": [
      "Sentença original:  LAW ENFORCEMENT ON HIGH ALERT Following Threats Against Cops And Whites On 9-11By #BlackLivesMatter And #FYF911 Terrorists [VIDEO]\n",
      "Sentença tokenizada:  tensor([  101,  2375,  7285,  2006,  2152,  9499,  2206,  8767,  2114, 10558,\n",
      "         1998, 12461,  2006,  1023,  1011,  2340,  3762,  1001,  2304,  3669,\n",
      "         6961, 18900,  3334,  1998,  1001,  1042,  2100,  2546,  2683, 14526,\n",
      "        15554,  1031,  2678,  1033,   102,     0,     0,     0,     0,     0,\n",
      "            0,     0,     0,     0,     0,     0,     0,     0,     0,     0,\n",
      "            0,     0,     0,     0,     0,     0,     0,     0,     0,     0,\n",
      "            0,     0,     0,     0])\n",
      "Atenção:  tensor([1, 1, 1, 1, 1, 1, 1, 1, 1, 1, 1, 1, 1, 1, 1, 1, 1, 1, 1, 1, 1, 1, 1, 1,\n",
      "        1, 1, 1, 1, 1, 1, 1, 1, 1, 1, 1, 0, 0, 0, 0, 0, 0, 0, 0, 0, 0, 0, 0, 0,\n",
      "        0, 0, 0, 0, 0, 0, 0, 0, 0, 0, 0, 0, 0, 0, 0, 0])\n",
      "Label:  tensor(1)\n"
     ]
    }
   ],
   "source": [
    "# Tokeniza todas as sentenças utilizando o método wordpiece\n",
    "input_ids = []\n",
    "attention_masks = []\n",
    "\n",
    "for sentence in df['title'].values:\n",
    "    encoded_dict = tokenizer.encode_plus(\n",
    "                        sentence,\n",
    "                        add_special_tokens = True,  # Inclui os tokens '[CLS]' e '[SEP]' no início e fim da lista, respectivamente\n",
    "                        max_length = 64,  # Sentenças maiores do que 64 tokens serão truncadas e sentenças menores terão o restante da lista preenchida com o token '[PAD]'\n",
    "                        truncation=True,  # Para usar o truncamento\n",
    "                        padding='max_length',  # Para incluir o token '[PAD]' se necessario\n",
    "                        return_attention_mask = True,  # Retorna a lista de atenção, que é 1 em na posição em que o token não for '[PAD]' e é 0 quando o token for '[PAD]'\n",
    "                        return_tensors = 'pt'  # Retorna as listas como objeto do tipo tensor\n",
    "                   )\n",
    "\n",
    "    # Salva a sentença tokenizada e a lista de atenção em uma lista\n",
    "    input_ids.append(encoded_dict['input_ids'])\n",
    "    attention_masks.append(encoded_dict['attention_mask'])\n",
    "\n",
    "# Transforma a lista de tensores em um tensor com múltiplas listas\n",
    "input_ids = torch.cat(input_ids, dim=0)\n",
    "attention_masks = torch.cat(attention_masks, dim=0)\n",
    "labels = torch.tensor(df['label'].values)\n",
    "\n",
    "# Exemplificando o resultado com a primeira sentença do banco\n",
    "print('Sentença original: ', df['title'].values[0])\n",
    "print('Sentença tokenizada: ', input_ids[0])\n",
    "print('Atenção: ', attention_masks[0])\n",
    "print('Label: ', labels[0])"
   ]
  },
  {
   "cell_type": "markdown",
   "metadata": {},
   "source": [
    "Com as sentenças tokenizadas, vamos dividir o banco entre treinamento, validação e teste, utilizando a proporção de separação 80%/10%/10% para cada partição, respectivamente."
   ]
  },
  {
   "cell_type": "code",
   "execution_count": 15,
   "metadata": {},
   "outputs": [
    {
     "name": "stdout",
     "output_type": "stream",
     "text": [
      "49,707 sentenças para treinamento\n",
      "6,213 sentenças para validação\n",
      "6,214 sentenças para teste\n"
     ]
    }
   ],
   "source": [
    "# Combinando as listas obtidas na fase de tokenização para criar um objeto TensorDataset\n",
    "dataset = TensorDataset(input_ids, attention_masks, labels)\n",
    "\n",
    "# Calculando o número de sentenças que cada conjunto precisa ter para seguir a proporção 80-10-10\n",
    "train_size = int(0.8 * len(dataset))\n",
    "val_size = int(0.1 * len(dataset))\n",
    "test_size = len(dataset) - train_size - val_size\n",
    "\n",
    "# Divindo os conjuntos aleatoriamente de acordo com o tamanho amostral calculado\n",
    "train_dataset, val_dataset, test_dataset = random_split(dataset, [train_size, val_size, test_size])\n",
    "\n",
    "print('{:>5,} sentenças para treinamento'.format(train_size))\n",
    "print('{:>5,} sentenças para validação'.format(val_size))\n",
    "print('{:>5,} sentenças para teste'.format(test_size))"
   ]
  },
  {
   "cell_type": "markdown",
   "metadata": {},
   "source": [
    "Em seguida, na fase de validação, buscou-se escolher o melhor conjunto de hiperparâmetros, tendo como base o desempenho do modelo no banco de validação. Para tarefas de ajuste fino de um modelo BERT pré-treinado, Devlin et al. (2018) recomendam utilizar um tamanho do mini-lote (mini-batch) de 16 ou 32, uma taxa de aprendizado (learning rate) de 2e-05, 3e-05 ou 5e-05 e um número de épocas (epoch) de 2, 3 ou 4.\n",
    "\n",
    "Dado que treinar uma rede neural com todo o conjunto de dados de uma só vez pode ser caro computacionalmente e consumir muita memória, é possível dividir o conjunto de dados em mini-lotes (mini-batches) e atualizar os parâmetros do modelo com base nos gradientes calculados em cada mini-lote. Quanto maior o tamanho do mini-lote, mais precisa será a estimativa do gradiente e maior será poder computacional necessário.\n",
    "\n",
    "A taxa de aprendizado, por sua vez, determina o tamanho do passo no qual os parâmetros do modelo são atualizados durante cada iteração do processo de treinamento. Quanto maior a taxa de aprendizado, mais rápida é a convergência dos parâmetros e maior é o risco do valor ótimo ser ultrapassado.\n",
    "\n",
    "Uma época é uma passagem completa por todo o conjunto de dados de treinamento durante o processo de treinamento. Em cada época, o modelo processa todos os mini-lotes no conjunto de dados de treinamento, calcula gradientes, atualiza parâmetros e avalia o desempenho do modelo. Poucas épocas podem levar ao underfitting, enquanto que muitas épocas podem levar ao overfitting.\n",
    "\n",
    "Foram ajustados 18 modelos com as primeiras 2000 observações do banco de dados e, para cada ajuste, foi utilizada uma combinação diferente dos valores de hiperparâmetros recomendados por Devlin et al. (2018). Observou-se os resultados e, baseado na análise de métricas como acurácia, perda e tempo de ajuste dos modelos no banco de validação, foram escolhidos o tamanho do mini-lote de 32, a taxa de aprendizado de 3e-05 e 3 épocas."
   ]
  },
  {
   "cell_type": "code",
   "execution_count": 16,
   "metadata": {},
   "outputs": [],
   "source": [
    "# Hiperparâmetros\n",
    "batch_size = 32\n",
    "learning_rate = 3e-5\n",
    "epochs = 3"
   ]
  },
  {
   "cell_type": "code",
   "execution_count": 17,
   "metadata": {},
   "outputs": [],
   "source": [
    "# Separando os conjuntos considerando o tamanho do lote:\n",
    "# Para o treinamento, selecionamos os batches aleatoriamente. Já para validação e teste, selecionamos os batches sequencialmente.\n",
    "train_dataloader = DataLoader(train_dataset, sampler = RandomSampler(train_dataset), batch_size = batch_size)\n",
    "validation_dataloader = DataLoader(val_dataset, sampler = SequentialSampler(val_dataset), batch_size = batch_size)\n",
    "prediction_dataloader = DataLoader(test_dataset, sampler = SequentialSampler(test_dataset), batch_size = batch_size)"
   ]
  },
  {
   "cell_type": "code",
   "execution_count": 18,
   "metadata": {},
   "outputs": [],
   "source": [
    "# O otimizador é o objeto responsável por realizar a atualização dos parâmetros do modelo\n",
    "# Vamos utilizar o otimizador AdamW\n",
    "optimizer = torch.optim.AdamW(model.parameters(), lr = learning_rate)"
   ]
  },
  {
   "cell_type": "code",
   "execution_count": 19,
   "metadata": {},
   "outputs": [],
   "source": [
    "# Cria o objeto responsável por diminuir a taxa de aprendizagem na medida em que o modelo aprende\n",
    "# O 'num_training_steps' é calculado como o número de lotes multiplicado pelo número de épocas\n",
    "scheduler = get_linear_schedule_with_warmup(optimizer, num_warmup_steps = 0, num_training_steps = len(train_dataloader) * epochs)"
   ]
  },
  {
   "cell_type": "markdown",
   "metadata": {},
   "source": [
    "É importante, também, declarar algumas funções auxiliares. Dentre elas, vamos declarar `flat_accuracy`, que retorna a proporção de acertos de predição e `format_time`, que retorna o tempo no formato de horas, minutos e segundos dado o número de segundos total."
   ]
  },
  {
   "cell_type": "code",
   "execution_count": 20,
   "metadata": {},
   "outputs": [],
   "source": [
    "# Função que calcula a acurácia dos valores preditos contra os labels\n",
    "def flat_accuracy(preds, labels):\n",
    "    pred_flat = np.argmax(preds, axis=1).flatten()\n",
    "    labels_flat = labels.flatten()\n",
    "    return np.sum(pred_flat == labels_flat) / len(labels_flat)"
   ]
  },
  {
   "cell_type": "code",
   "execution_count": 21,
   "metadata": {},
   "outputs": [],
   "source": [
    "def format_time(elapsed):\n",
    "    elapsed_rounded = int(round((elapsed)))\n",
    "\n",
    "    return str(datetime.timedelta(seconds=elapsed_rounded))"
   ]
  },
  {
   "cell_type": "markdown",
   "metadata": {},
   "source": [
    "Finalmente, vamos iniciar o treinamento do modelo utilizando as variáveis auxiliares criadas até agora. É importante notar que esta é a etapa mais demorada e que mais demanda por computacional de todo o processo."
   ]
  },
  {
   "cell_type": "code",
   "execution_count": 26,
   "metadata": {},
   "outputs": [
    {
     "name": "stdout",
     "output_type": "stream",
     "text": [
      "\n",
      "======== Epoca 1 / 3 ========\n",
      "Treinando...\n",
      "  Lote    40  de  1,554.    Tempo decorrido: 0:05:28.\n",
      "  Lote    80  de  1,554.    Tempo decorrido: 0:11:26.\n",
      "  Lote   120  de  1,554.    Tempo decorrido: 0:17:15.\n",
      "  Lote   160  de  1,554.    Tempo decorrido: 0:23:26.\n",
      "  Lote   200  de  1,554.    Tempo decorrido: 0:29:37.\n",
      "  Lote   240  de  1,554.    Tempo decorrido: 0:35:47.\n",
      "  Lote   280  de  1,554.    Tempo decorrido: 0:41:59.\n",
      "  Lote   320  de  1,554.    Tempo decorrido: 0:48:08.\n",
      "  Lote   360  de  1,554.    Tempo decorrido: 0:53:55.\n",
      "  Lote   400  de  1,554.    Tempo decorrido: 1:00:06.\n",
      "  Lote   440  de  1,554.    Tempo decorrido: 1:06:16.\n",
      "  Lote   480  de  1,554.    Tempo decorrido: 1:12:27.\n",
      "  Lote   520  de  1,554.    Tempo decorrido: 1:18:38.\n",
      "  Lote   560  de  1,554.    Tempo decorrido: 1:24:48.\n",
      "  Lote   600  de  1,554.    Tempo decorrido: 1:30:33.\n",
      "  Lote   640  de  1,554.    Tempo decorrido: 1:36:52.\n",
      "  Lote   680  de  1,554.    Tempo decorrido: 1:42:59.\n",
      "  Lote   720  de  1,554.    Tempo decorrido: 1:49:08.\n",
      "  Lote   760  de  1,554.    Tempo decorrido: 1:55:18.\n",
      "  Lote   800  de  1,554.    Tempo decorrido: 2:00:56.\n",
      "  Lote   840  de  1,554.    Tempo decorrido: 2:07:05.\n",
      "  Lote   880  de  1,554.    Tempo decorrido: 2:13:18.\n",
      "  Lote   920  de  1,554.    Tempo decorrido: 2:19:17.\n",
      "  Lote   960  de  1,554.    Tempo decorrido: 2:25:03.\n",
      "  Lote 1,000  de  1,554.    Tempo decorrido: 2:31:14.\n",
      "  Lote 1,040  de  1,554.    Tempo decorrido: 2:37:24.\n",
      "  Lote 1,080  de  1,554.    Tempo decorrido: 2:43:34.\n",
      "  Lote 1,120  de  1,554.    Tempo decorrido: 2:49:45.\n",
      "  Lote 1,160  de  1,554.    Tempo decorrido: 2:55:33.\n",
      "  Lote 1,200  de  1,554.    Tempo decorrido: 3:01:32.\n",
      "  Lote 1,240  de  1,554.    Tempo decorrido: 3:08:07.\n",
      "  Lote 1,280  de  1,554.    Tempo decorrido: 3:14:17.\n",
      "  Lote 1,320  de  1,554.    Tempo decorrido: 3:19:57.\n",
      "  Lote 1,360  de  1,554.    Tempo decorrido: 3:26:07.\n",
      "  Lote 1,400  de  1,554.    Tempo decorrido: 3:32:16.\n",
      "  Lote 1,440  de  1,554.    Tempo decorrido: 3:38:30.\n",
      "  Lote 1,480  de  1,554.    Tempo decorrido: 3:44:40.\n",
      "  Lote 1,520  de  1,554.    Tempo decorrido: 3:50:49.\n",
      "  Acuracia: 0.92\n",
      "  Perda media de treinamento: 0.19\n",
      "  Treinamento da epoca levou: 3:55:57\n",
      "\n",
      "Validando...\n",
      "  Acuracia: 0.94\n",
      "  Perda de validacao: 0.15\n",
      "  Validacao levou: 0:10:01\n",
      "\n",
      "======== Epoca 2 / 3 ========\n",
      "Treinando...\n",
      "  Lote    40  de  1,554.    Tempo decorrido: 0:06:09.\n",
      "  Lote    80  de  1,554.    Tempo decorrido: 0:12:04.\n",
      "  Lote   120  de  1,554.    Tempo decorrido: 0:18:01.\n",
      "  Lote   160  de  1,554.    Tempo decorrido: 0:24:13.\n",
      "  Lote   200  de  1,554.    Tempo decorrido: 0:30:24.\n",
      "  Lote   240  de  1,554.    Tempo decorrido: 0:35:43.\n",
      "  Lote   280  de  1,554.    Tempo decorrido: 0:41:27.\n",
      "  Lote   320  de  1,554.    Tempo decorrido: 0:47:13.\n",
      "  Lote   360  de  1,554.    Tempo decorrido: 0:52:55.\n",
      "  Lote   400  de  1,554.    Tempo decorrido: 0:58:42.\n",
      "  Lote   440  de  1,554.    Tempo decorrido: 1:04:30.\n",
      "  Lote   480  de  1,554.    Tempo decorrido: 1:10:17.\n",
      "  Lote   520  de  1,554.    Tempo decorrido: 1:16:04.\n",
      "  Lote   560  de  1,554.    Tempo decorrido: 1:21:51.\n",
      "  Lote   600  de  1,554.    Tempo decorrido: 1:27:21.\n",
      "  Lote   640  de  1,554.    Tempo decorrido: 1:33:09.\n",
      "  Lote   680  de  1,554.    Tempo decorrido: 1:38:55.\n",
      "  Lote   720  de  1,554.    Tempo decorrido: 1:44:43.\n",
      "  Lote   760  de  1,554.    Tempo decorrido: 1:50:29.\n",
      "  Lote   800  de  1,554.    Tempo decorrido: 1:56:18.\n",
      "  Lote   840  de  1,554.    Tempo decorrido: 2:02:07.\n",
      "  Lote   880  de  1,554.    Tempo decorrido: 2:07:54.\n",
      "  Lote   920  de  1,554.    Tempo decorrido: 2:13:42.\n",
      "  Lote   960  de  1,554.    Tempo decorrido: 2:19:28.\n",
      "  Lote 1,000  de  1,554.    Tempo decorrido: 2:25:16.\n",
      "  Lote 1,040  de  1,554.    Tempo decorrido: 2:31:08.\n",
      "  Lote 1,080  de  1,554.    Tempo decorrido: 2:36:54.\n",
      "  Lote 1,120  de  1,554.    Tempo decorrido: 2:42:41.\n",
      "  Lote 1,160  de  1,554.    Tempo decorrido: 2:48:25.\n",
      "  Lote 1,200  de  1,554.    Tempo decorrido: 2:54:15.\n",
      "  Lote 1,240  de  1,554.    Tempo decorrido: 3:00:01.\n",
      "  Lote 1,280  de  1,554.    Tempo decorrido: 3:05:46.\n",
      "  Lote 1,320  de  1,554.    Tempo decorrido: 3:11:35.\n",
      "  Lote 1,360  de  1,554.    Tempo decorrido: 3:17:20.\n",
      "  Lote 1,400  de  1,554.    Tempo decorrido: 3:23:07.\n",
      "  Lote 1,440  de  1,554.    Tempo decorrido: 3:28:51.\n",
      "  Lote 1,480  de  1,554.    Tempo decorrido: 3:34:38.\n",
      "  Lote 1,520  de  1,554.    Tempo decorrido: 3:40:25.\n",
      "  Acuracia: 0.97\n",
      "  Perda media de treinamento: 0.09\n",
      "  Treinamento da epoca levou: 3:45:13\n",
      "\n",
      "Validando...\n",
      "  Acuracia: 0.94\n",
      "  Perda de validacao: 0.18\n",
      "  Validacao levou: 0:09:05\n",
      "\n",
      "======== Epoca 3 / 3 ========\n",
      "Treinando...\n",
      "  Lote    40  de  1,554.    Tempo decorrido: 0:05:32.\n",
      "  Lote    80  de  1,554.    Tempo decorrido: 0:11:19.\n",
      "  Lote   120  de  1,554.    Tempo decorrido: 0:17:10.\n",
      "  Lote   160  de  1,554.    Tempo decorrido: 0:22:59.\n",
      "  Lote   200  de  1,554.    Tempo decorrido: 0:28:46.\n",
      "  Lote   240  de  1,554.    Tempo decorrido: 0:34:33.\n",
      "  Lote   280  de  1,554.    Tempo decorrido: 0:40:23.\n",
      "  Lote   320  de  1,554.    Tempo decorrido: 0:46:08.\n",
      "  Lote   360  de  1,554.    Tempo decorrido: 0:51:53.\n",
      "  Lote   400  de  1,554.    Tempo decorrido: 0:57:39.\n",
      "  Lote   440  de  1,554.    Tempo decorrido: 1:03:25.\n",
      "  Lote   480  de  1,554.    Tempo decorrido: 1:09:14.\n",
      "  Lote   520  de  1,554.    Tempo decorrido: 1:14:59.\n",
      "  Lote   560  de  1,554.    Tempo decorrido: 1:20:44.\n",
      "  Lote   600  de  1,554.    Tempo decorrido: 1:26:30.\n",
      "  Lote   640  de  1,554.    Tempo decorrido: 1:32:19.\n",
      "  Lote   680  de  1,554.    Tempo decorrido: 1:38:07.\n",
      "  Lote   720  de  1,554.    Tempo decorrido: 1:43:55.\n",
      "  Lote   760  de  1,554.    Tempo decorrido: 1:49:39.\n",
      "  Lote   800  de  1,554.    Tempo decorrido: 1:55:26.\n",
      "  Lote   840  de  1,554.    Tempo decorrido: 2:01:15.\n",
      "  Lote   880  de  1,554.    Tempo decorrido: 2:07:03.\n",
      "  Lote   920  de  1,554.    Tempo decorrido: 2:12:47.\n",
      "  Lote   960  de  1,554.    Tempo decorrido: 2:18:41.\n",
      "  Lote 1,000  de  1,554.    Tempo decorrido: 2:24:28.\n",
      "  Lote 1,040  de  1,554.    Tempo decorrido: 2:30:17.\n",
      "  Lote 1,080  de  1,554.    Tempo decorrido: 2:36:06.\n",
      "  Lote 1,120  de  1,554.    Tempo decorrido: 2:41:53.\n",
      "  Lote 1,160  de  1,554.    Tempo decorrido: 2:47:45.\n",
      "  Lote 1,200  de  1,554.    Tempo decorrido: 2:53:34.\n",
      "  Lote 1,240  de  1,554.    Tempo decorrido: 2:59:20.\n",
      "  Lote 1,280  de  1,554.    Tempo decorrido: 3:05:06.\n",
      "  Lote 1,320  de  1,554.    Tempo decorrido: 3:10:53.\n",
      "  Lote 1,360  de  1,554.    Tempo decorrido: 3:16:41.\n",
      "  Lote 1,400  de  1,554.    Tempo decorrido: 3:22:30.\n",
      "  Lote 1,440  de  1,554.    Tempo decorrido: 3:28:17.\n",
      "  Lote 1,480  de  1,554.    Tempo decorrido: 3:34:03.\n",
      "  Lote 1,520  de  1,554.    Tempo decorrido: 3:39:51.\n",
      "  Acuracia: 0.99\n",
      "  Perda media de treinamento: 0.04\n",
      "  Treinamento da epoca levou: 3:44:42\n",
      "\n",
      "Validando...\n",
      "  Acuracia: 0.95\n",
      "  Perda de validacao: 0.24\n",
      "  Validacao levou: 0:09:19\n",
      "\n",
      "Treinamento concluído!\n",
      "Tempo total de treinamento: 11:54:17 (hh:mm:ss)\n"
     ]
    }
   ],
   "source": [
    "training_stats = []  # Vamos armazenar algumas estatísticas de avaliação do modelo neste objeto\n",
    "\n",
    "initial_time = time.time()\n",
    "\n",
    "# Para cada época...\n",
    "for epoch_i in range(0, epochs):\n",
    "    # ========================================\n",
    "    #               Treinamento\n",
    "    # ========================================\n",
    "\n",
    "    # Realiza uma passagem completa sobre o conjunto de treinamento\n",
    "\n",
    "    print('\\n======== Epoca {:} / {:} ========'.format(epoch_i + 1, epochs))\n",
    "    print('Treinando...')\n",
    "    \n",
    "    t0 = time.time()  # Mede o tempo de treinamento desta época\n",
    "    total_train_accuracy = 0  # Reinicia a acurácia total para esta época\n",
    "    total_train_loss = 0  # Reinicia a perda total para esta época\n",
    "\n",
    "    model.train()  # Coloca o modelo em modo de treinamento\n",
    "    # O método 'train()' apenas muda o estado do objeto 'modelo', ele não treina o modelo efetivamente.\n",
    "    # As camadas 'dropout' e 'batchnorm' se comportam de maneira diferente durante o treinamento\n",
    "    # em relação ao teste (https://stackoverflow.com/questions/51433378/what-does-model-train-do-in-pytorch).\n",
    "    \n",
    "    # Para cada lote (batch) dos dados de treinamento...\n",
    "    for step, batch in enumerate(train_dataloader):\n",
    "        # Imprimi o progresso para o usuário a cada 40 lotes\n",
    "        if step % 40 == 0 and not step == 0:\n",
    "            print('  Lote {:>5,}  de  {:>5,}.    Tempo decorrido: {:}.'.format(step, len(train_dataloader), format_time(time.time() - t0)))\n",
    "\n",
    "        # 'batch' é um objeto que contém 3 tensores:\n",
    "        #   [0]: input_ids\n",
    "        #   [1]: attention_masks\n",
    "        #   [2]: labels\n",
    "        # Vamos copiar cada tensor para a CPU utilizando o método '.to()'\n",
    "        b_input_ids = batch[0].to(device)\n",
    "        b_input_mask = batch[1].to(device)\n",
    "        b_labels = batch[2].to(device)\n",
    "\n",
    "        model.zero_grad()  # Precisamos limpar quaisquer gradientes calculados anteriormente antes de realizar o passo backward\n",
    "        # O PyTorch não faz isso automaticamente devido a características do treinamento de RNN's\n",
    "        # (https://stackoverflow.com/questions/48001598/why-do-we-need-to-call-zero-grad-in-pytorch)\n",
    "        \n",
    "        result = model(b_input_ids,\n",
    "                       token_type_ids=None,  # 'None' porque não estamos no contexto de next sentence prediction\n",
    "                       attention_mask=b_input_mask,\n",
    "                       labels=b_labels,\n",
    "                       return_dict=True)\n",
    "        # Realiza o treinamento do modelo com os dados deste lote, utilizando a função forward.\n",
    "        # Embora utilizamos a função 'model', os argumentos desta função estão indo para outra função chamada 'forward'.\n",
    "        # A documentação dos resultados retornados está aqui:\n",
    "        # https://huggingface.co/transformers/main_classes/output.html#transformers.modeling_outputs.SequenceClassifierOutput\n",
    "\n",
    "        loss = result.loss  # Perda de classificação. O quão \"longe\" a predição do modelo foi em relação ao label verdadeiro\n",
    "        logits = result.logits  # Escore de classificação\n",
    "        # Para cada sentença, o label com o maior escore será aquele que o modelo escolherá como o label verdadeiro da sentença\n",
    "\n",
    "        total_train_loss += loss.item()  # Acumulando o erro de treinamento em todos os lotes para que possamos calcular a perda média ao final\n",
    "        \n",
    "        # Movendo os logits e labels para a CPU\n",
    "        logits = logits.detach().cpu().numpy()\n",
    "        label_ids = b_labels.to('cpu').numpy()\n",
    "\n",
    "        total_train_accuracy += flat_accuracy(logits, label_ids)  # Acumula a acuracia de treinamento\n",
    "\n",
    "        loss.backward()  # Executa o método backward para calcular os gradientes\n",
    "\n",
    "        torch.nn.utils.clip_grad_norm_(model.parameters(), 1.0)  # Isto evita o problema de gradiente explosivo\n",
    "\n",
    "        optimizer.step()  # Atualiza os parâmetros do modelo e executa um passo utilizando o gradiente computado\n",
    "        \n",
    "        scheduler.step()  # Atualiza a taxa de aprendizado\n",
    "    \n",
    "    avg_train_accuracy = total_train_accuracy / len(train_dataloader)  # Calcula a acuracia media de treinamento\n",
    "    print(\"  Acuracia: {0:.2f}\".format(avg_train_accuracy))\n",
    "\n",
    "    avg_train_loss = total_train_loss / len(train_dataloader)  # Calcula a perda média dos lotes\n",
    "\n",
    "    training_time = format_time(time.time() - t0)\n",
    "\n",
    "    print(\"  Perda media de treinamento: {0:.2f}\".format(avg_train_loss))\n",
    "    print(\"  Treinamento da epoca levou: {:}\".format(training_time))\n",
    "\n",
    "    # ========================================\n",
    "    #               Validação\n",
    "    # ========================================\n",
    "    # Finalizada a época de treinamento, vamos medir o desempenho do modelo nos dados de validação\n",
    "\n",
    "    print(\"\\nValidando...\")\n",
    "\n",
    "    t0 = time.time()\n",
    "\n",
    "    model.eval()  # Coloca o modelo em modo de validação\n",
    "\n",
    "    total_eval_accuracy = 0\n",
    "    total_eval_loss = 0\n",
    "\n",
    "    for batch in validation_dataloader:\n",
    "        # Similar ao treinamento, vamos armazenar os valores do lote\n",
    "        b_input_ids = batch[0].to(device)\n",
    "        b_input_mask = batch[1].to(device)\n",
    "        b_labels = batch[2].to(device)\n",
    "\n",
    "        # 'torch.no_grad()' economiza tempo de processamento por não computar algumas métricas que só são usadas na fase de treinamento\n",
    "        with torch.no_grad():\n",
    "            result = model(b_input_ids,\n",
    "                           token_type_ids=None,\n",
    "                           attention_mask=b_input_mask,\n",
    "                           labels=b_labels,\n",
    "                           return_dict=True)\n",
    "            # Executa a função 'forward' com os dados de validação\n",
    "\n",
    "        loss = result.loss\n",
    "        logits = result.logits\n",
    "\n",
    "        total_eval_loss += loss.item()  # Acumulando o erro de validação em todos os lotes para que possamos calcular a perda média ao final\n",
    "\n",
    "        logits = logits.detach().cpu().numpy()\n",
    "        label_ids = b_labels.to('cpu').numpy()\n",
    "\n",
    "        total_eval_accuracy += flat_accuracy(logits, label_ids)  # Acumula a acurácia de validação\n",
    "\n",
    "\n",
    "    avg_val_accuracy = total_eval_accuracy / len(validation_dataloader)  # Calcula a acurácia média de validação\n",
    "    print(\"  Acuracia: {0:.2f}\".format(avg_val_accuracy))\n",
    "\n",
    "    avg_val_loss = total_eval_loss / len(validation_dataloader)  # Calcula a perda média dos lotes\n",
    "\n",
    "    validation_time = format_time(time.time() - t0)\n",
    "\n",
    "    print(\"  Perda de validacao: {0:.2f}\".format(avg_val_loss))\n",
    "    print(\"  Validacao levou: {:}\".format(validation_time))\n",
    "\n",
    "    # Guardando estatísticas desta época\n",
    "    training_stats.append(\n",
    "        {\n",
    "            'epoca': epoch_i + 1,\n",
    "            'Perda de treinamento': avg_train_loss,\n",
    "            'Perda de validacao': avg_val_loss,\n",
    "            'Acuracia de treinamento': avg_train_accuracy,\n",
    "            'Acuracia de validacao': avg_val_accuracy,\n",
    "            'Tempo de treinamento': training_time,\n",
    "            'Tempo de validacao': validation_time\n",
    "        }\n",
    "    )\n",
    "\n",
    "print(\"\\nTreinamento concluído!\")\n",
    "print(\"Tempo total de treinamento: {:} (hh:mm:ss)\".format(format_time(time.time()-initial_time)))"
   ]
  },
  {
   "cell_type": "markdown",
   "metadata": {},
   "source": [
    "Vamos exportar o modelo para não perder o progresso!"
   ]
  },
  {
   "cell_type": "code",
   "execution_count": 27,
   "metadata": {},
   "outputs": [],
   "source": [
    "# Salvando o modelo treinado e o tokenizador\n",
    "if not os.path.exists(MODEL_FOLDER):\n",
    "    os.makedirs(MODEL_FOLDER)\n",
    "\n",
    "model_to_save = model.module if hasattr(model, 'module') else model\n",
    "model_to_save.save_pretrained(MODEL_FOLDER)\n",
    "tokenizer.save_pretrained(MODEL_FOLDER)\n",
    "\n",
    "# Salvando as estatísticas do modelo\n",
    "df_stats = pd.DataFrame(data=training_stats).set_index('epoca')\n",
    "df_stats.to_csv(os.path.join(MODEL_FOLDER, 'training_stats.csv'))\n",
    "\n",
    "# Salvando os 'indices' de cada conjunto de treinamento. Desta forma, podemos recriar os bancos de treinamento, validação e teste.\n",
    "# Os 'indices' vão de 0 a len(dataset)-1, portanto eles representam a ordem de cada linha de df e não necessariamente seu index\n",
    "df_indexes = pd.DataFrame({'set': ['train' for _ in range(len(train_dataset))] + ['validation' for _ in range(len(val_dataset))] + ['test' for _ in range(len(test_dataset))]\n",
    "                          ,'indice': train_dataset.indices + val_dataset.indices + test_dataset.indices})\n",
    "df_indexes.to_csv(os.path.join(MODEL_FOLDER, 'indices_set.csv'), index=False)"
   ]
  },
  {
   "cell_type": "code",
   "execution_count": 23,
   "metadata": {},
   "outputs": [
    {
     "data": {
      "text/html": [
       "<div>\n",
       "<style scoped>\n",
       "    .dataframe tbody tr th:only-of-type {\n",
       "        vertical-align: middle;\n",
       "    }\n",
       "\n",
       "    .dataframe tbody tr th {\n",
       "        vertical-align: top;\n",
       "    }\n",
       "\n",
       "    .dataframe thead th {\n",
       "        text-align: right;\n",
       "    }\n",
       "</style>\n",
       "<table border=\"1\" class=\"dataframe\">\n",
       "  <thead>\n",
       "    <tr style=\"text-align: right;\">\n",
       "      <th></th>\n",
       "      <th>Perda de treinamento</th>\n",
       "      <th>Perda de validacao</th>\n",
       "      <th>Acuracia de treinamento</th>\n",
       "      <th>Acuracia de validacao</th>\n",
       "      <th>Tempo de treinamento</th>\n",
       "      <th>Tempo de validacao</th>\n",
       "    </tr>\n",
       "    <tr>\n",
       "      <th>epoca</th>\n",
       "      <th></th>\n",
       "      <th></th>\n",
       "      <th></th>\n",
       "      <th></th>\n",
       "      <th></th>\n",
       "      <th></th>\n",
       "    </tr>\n",
       "  </thead>\n",
       "  <tbody>\n",
       "    <tr>\n",
       "      <th>1</th>\n",
       "      <td>0.194304</td>\n",
       "      <td>0.152900</td>\n",
       "      <td>0.921976</td>\n",
       "      <td>0.944872</td>\n",
       "      <td>3:55:57</td>\n",
       "      <td>0:10:01</td>\n",
       "    </tr>\n",
       "    <tr>\n",
       "      <th>2</th>\n",
       "      <td>0.094286</td>\n",
       "      <td>0.182497</td>\n",
       "      <td>0.967002</td>\n",
       "      <td>0.944551</td>\n",
       "      <td>3:45:13</td>\n",
       "      <td>0:09:05</td>\n",
       "    </tr>\n",
       "    <tr>\n",
       "      <th>3</th>\n",
       "      <td>0.042467</td>\n",
       "      <td>0.242404</td>\n",
       "      <td>0.987934</td>\n",
       "      <td>0.949679</td>\n",
       "      <td>3:44:42</td>\n",
       "      <td>0:09:19</td>\n",
       "    </tr>\n",
       "  </tbody>\n",
       "</table>\n",
       "</div>"
      ],
      "text/plain": [
       "       Perda de treinamento  Perda de validacao  Acuracia de treinamento  \\\n",
       "epoca                                                                      \n",
       "1                  0.194304            0.152900                 0.921976   \n",
       "2                  0.094286            0.182497                 0.967002   \n",
       "3                  0.042467            0.242404                 0.987934   \n",
       "\n",
       "       Acuracia de validacao Tempo de treinamento Tempo de validacao  \n",
       "epoca                                                                 \n",
       "1                   0.944872              3:55:57            0:10:01  \n",
       "2                   0.944551              3:45:13            0:09:05  \n",
       "3                   0.949679              3:44:42            0:09:19  "
      ]
     },
     "execution_count": 23,
     "metadata": {},
     "output_type": "execute_result"
    }
   ],
   "source": [
    "# Analisando as estatísticas de treinamento\n",
    "df_stats = pd.read_csv(os.path.join(MODEL_FOLDER, 'training_stats.csv'), index_col=0)\n",
    "df_stats"
   ]
  },
  {
   "cell_type": "markdown",
   "metadata": {},
   "source": [
    "Nota-se pela tabela acima que a perda média entre os mini-lotes e a acurácia de treinamento diminuiu e aumentou, respectivamente, durante a fase de treinamento. Isso parece indicar que o modelo foi capaz de aprender com os dados, obtendo uma acurácia final de 98,79% no banco de treinamento. Entretanto, é possível observar que a perda média de validação aumentou ao longo das épocas, o que pode ser um indício de overfitting do modelo. Como a acurácia de validação se manteve aproximadamente constante ao longo das épocas, o indício de overfitting observado na perda média de validação pode não ser tão expressivo."
   ]
  },
  {
   "cell_type": "code",
   "execution_count": 24,
   "metadata": {},
   "outputs": [
    {
     "data": {
      "image/png": "[encoded data removed]",
      "text/plain": [
       "<Figure size 1200x600 with 1 Axes>"
      ]
     },
     "metadata": {},
     "output_type": "display_data"
    }
   ],
   "source": [
    "%matplotlib inline\n",
    "\n",
    "# Usando o estilo do pacote seaborn\n",
    "sns.set(style='darkgrid')\n",
    "\n",
    "# Aumentando o tamanho do plot e da fonte\n",
    "sns.set(font_scale=1.5)\n",
    "plt.rcParams[\"figure.figsize\"] = (12,6)\n",
    "\n",
    "# Plotando as curvas de perda\n",
    "plt.plot(df_stats['Perda de treinamento'], 'b-o', label=\"Treinamento\")\n",
    "plt.plot(df_stats['Perda de validacao'], 'g-o', label=\"Validação\")\n",
    "\n",
    "# Escrevendo as legendas\n",
    "plt.title(\"Perda de treinamento e validação\")\n",
    "plt.xlabel(\"Época\")\n",
    "plt.ylabel(\"Perda\")\n",
    "plt.legend()\n",
    "plt.xticks([1, 2, 3])\n",
    "\n",
    "plt.show()"
   ]
  },
  {
   "cell_type": "markdown",
   "metadata": {},
   "source": [
    "# Avaliando o modelo"
   ]
  },
  {
   "cell_type": "markdown",
   "metadata": {},
   "source": [
    "Depois do ajuste, vamos avaliar o desempenho do modelo no banco de teste"
   ]
  },
  {
   "cell_type": "code",
   "execution_count": 25,
   "metadata": {},
   "outputs": [
    {
     "data": {
      "text/plain": [
       "BertForSequenceClassification(\n",
       "  (bert): BertModel(\n",
       "    (embeddings): BertEmbeddings(\n",
       "      (word_embeddings): Embedding(30522, 768, padding_idx=0)\n",
       "      (position_embeddings): Embedding(512, 768)\n",
       "      (token_type_embeddings): Embedding(2, 768)\n",
       "      (LayerNorm): LayerNorm((768,), eps=1e-12, elementwise_affine=True)\n",
       "      (dropout): Dropout(p=0.1, inplace=False)\n",
       "    )\n",
       "    (encoder): BertEncoder(\n",
       "      (layer): ModuleList(\n",
       "        (0-11): 12 x BertLayer(\n",
       "          (attention): BertAttention(\n",
       "            (self): BertSelfAttention(\n",
       "              (query): Linear(in_features=768, out_features=768, bias=True)\n",
       "              (key): Linear(in_features=768, out_features=768, bias=True)\n",
       "              (value): Linear(in_features=768, out_features=768, bias=True)\n",
       "              (dropout): Dropout(p=0.1, inplace=False)\n",
       "            )\n",
       "            (output): BertSelfOutput(\n",
       "              (dense): Linear(in_features=768, out_features=768, bias=True)\n",
       "              (LayerNorm): LayerNorm((768,), eps=1e-12, elementwise_affine=True)\n",
       "              (dropout): Dropout(p=0.1, inplace=False)\n",
       "            )\n",
       "          )\n",
       "          (intermediate): BertIntermediate(\n",
       "            (dense): Linear(in_features=768, out_features=3072, bias=True)\n",
       "            (intermediate_act_fn): GELUActivation()\n",
       "          )\n",
       "          (output): BertOutput(\n",
       "            (dense): Linear(in_features=3072, out_features=768, bias=True)\n",
       "            (LayerNorm): LayerNorm((768,), eps=1e-12, elementwise_affine=True)\n",
       "            (dropout): Dropout(p=0.1, inplace=False)\n",
       "          )\n",
       "        )\n",
       "      )\n",
       "    )\n",
       "    (pooler): BertPooler(\n",
       "      (dense): Linear(in_features=768, out_features=768, bias=True)\n",
       "      (activation): Tanh()\n",
       "    )\n",
       "  )\n",
       "  (dropout): Dropout(p=0.1, inplace=False)\n",
       "  (classifier): Linear(in_features=768, out_features=2, bias=True)\n",
       ")"
      ]
     },
     "execution_count": 25,
     "metadata": {},
     "output_type": "execute_result"
    }
   ],
   "source": [
    "tokenizer = BertTokenizer.from_pretrained(MODEL_FOLDER)\n",
    "model = BertForSequenceClassification.from_pretrained(MODEL_FOLDER, num_labels = 2, output_attentions = False, output_hidden_states = False)\n",
    "\n",
    "model.to(device)"
   ]
  },
  {
   "cell_type": "markdown",
   "metadata": {},
   "source": [
    "Podemos recriar o banco de teste após o ajuste, possibilitando o treinamento e teste do modelo em seções diferentes. Caso o teste seja feita na mesma seção, não é necessário rodar o bloco abaixo."
   ]
  },
  {
   "cell_type": "code",
   "execution_count": 26,
   "metadata": {},
   "outputs": [],
   "source": [
    "# Utilizando o mapping de observação ao banco correspondente, caso seja de interesse rodar o teste em uma seção separada do treinamento\n",
    "df_indexes = pd.read_csv(os.path.join(MODEL_FOLDER, 'indices_set.csv'))\n",
    "test_indexes = df_indexes.loc[df_indexes['set'] == 'test', 'indice'].tolist()"
   ]
  },
  {
   "cell_type": "markdown",
   "metadata": {},
   "source": [
    "Vamos executar os mesmos passos para o teste que foi feito na validação."
   ]
  },
  {
   "cell_type": "code",
   "execution_count": 28,
   "metadata": {},
   "outputs": [],
   "source": [
    "test_dataset = Subset(dataset, test_indexes)\n",
    "prediction_dataloader = DataLoader(test_dataset, sampler = SequentialSampler(test_dataset), batch_size = batch_size)\n",
    "\n",
    "model.eval()  # Coloca o modelo em modo de validação\n",
    "\n",
    "logits, true_labels = [], []\n",
    "\n",
    "# Para cada lote do banco de teste...\n",
    "for batch in prediction_dataloader:\n",
    "    batch = tuple(t.to(device) for t in batch)\n",
    "    b_input_ids, b_input_mask, b_labels = batch\n",
    "\n",
    "    with torch.no_grad():\n",
    "        # Executa a função 'forward' para armazenar os valores preditos\n",
    "        result = model(b_input_ids,\n",
    "                        token_type_ids=None,\n",
    "                        attention_mask=b_input_mask,\n",
    "                        return_dict=True)\n",
    "\n",
    "    logits_aux = result.logits\n",
    "\n",
    "    logits_aux = logits_aux.detach().cpu().numpy()\n",
    "    label_ids = b_labels.to('cpu').numpy()\n",
    "\n",
    "    # Armazenando os valores reais e preditos\n",
    "    logits.append(logits_aux)\n",
    "    true_labels.append(label_ids)"
   ]
  },
  {
   "cell_type": "code",
   "execution_count": 30,
   "metadata": {},
   "outputs": [],
   "source": [
    "# Transformando a lista de arrays para arrays\n",
    "logits = np.concatenate(logits, axis=0)\n",
    "true_labels = np.concatenate(true_labels, axis=0)"
   ]
  },
  {
   "cell_type": "markdown",
   "metadata": {},
   "source": [
    "Vamos salvar os `np.array`'s `logits` e `true_labels` para economizar tempo de processamento"
   ]
  },
  {
   "cell_type": "code",
   "execution_count": 31,
   "metadata": {},
   "outputs": [],
   "source": [
    "# Criando as pastas para armazenars os arrays de logits e true_labels\n",
    "EVAL_FOLDER = os.path.join(MODEL_FOLDER, 'evaluation')\n",
    "\n",
    "if not os.path.exists(EVAL_FOLDER): os.makedirs(EVAL_FOLDER)\n",
    "\n",
    "# Salvando todos os arrays\n",
    "np.save(os.path.join(EVAL_FOLDER, f'logits.npy'), logits)\n",
    "np.save(os.path.join(EVAL_FOLDER, f'true_labels.npy'), true_labels)"
   ]
  },
  {
   "cell_type": "code",
   "execution_count": 32,
   "metadata": {},
   "outputs": [],
   "source": [
    "# Importando todos os arrays\n",
    "logits = np.load(os.path.join(EVAL_FOLDER, f'logits.npy'))\n",
    "true_labels = np.load(os.path.join(EVAL_FOLDER, f'true_labels.npy'))\n",
    "\n",
    "predictions = np.argmax(logits, axis=1).flatten()"
   ]
  },
  {
   "cell_type": "markdown",
   "metadata": {},
   "source": [
    "## Medidas de avaliação"
   ]
  },
  {
   "cell_type": "markdown",
   "metadata": {},
   "source": [
    "Lembrando que a classe está levemente desbalanceada em favor de notícias verdadeiras"
   ]
  },
  {
   "cell_type": "code",
   "execution_count": 33,
   "metadata": {},
   "outputs": [
    {
     "data": {
      "text/plain": [
       "label\n",
       "0    3448\n",
       "1    2766\n",
       "dtype: int64"
      ]
     },
     "execution_count": 33,
     "metadata": {},
     "output_type": "execute_result"
    }
   ],
   "source": [
    "df.loc[test_indexes].groupby('label').size()"
   ]
  },
  {
   "cell_type": "markdown",
   "metadata": {},
   "source": [
    "A seguir, estão descritas as definições das medidas utilizadas para avaliar os resultados do modelo ajustado. Os verdadeiros positivos (TP) representam o número de observações que foram corretamente preditas como positivas pelo modelo. Uma vez que \"label\" é 1 quando a notícia é falsa e 0 quando ela é verdadeira, uma predição positiva indica a classificação da notícia como falsa e, de maneira análoga, uma predição negativa indica a classificação da notícia como verdadeira. Os verdadeiros negativos (TN) representam o número de observações que foram corretamente preditas como negativas pelo modelo. Já os falsos positivos (FP) indicam o número de observações preditas incorretamente como positivas pelo modelo. Por fim, os falsos negativos (FN) indicam a quantidade de observações preditas incorretamente como negativas pelo modelo."
   ]
  },
  {
   "cell_type": "code",
   "execution_count": 34,
   "metadata": {},
   "outputs": [],
   "source": [
    "tp = sum(predictions[true_labels == 1] == 1)  # verdadeiro positivo\n",
    "tn = sum(predictions[true_labels == 0] == 0)  # verdadeiro negativo\n",
    "fp = sum(predictions[true_labels == 0] == 1)  # falso positivo\n",
    "fn = sum(predictions[true_labels == 1] == 0)  # falso negativo\n",
    "\n",
    "# Declarando os valores acima mas como percentuais do número de obsevações do banco de teste\n",
    "tp_perc = '{0:.4%}'.format(tp/(tp + tn + fp + fn))\n",
    "tn_perc = '{0:.4%}'.format(tn/(tp + tn + fp + fn))\n",
    "fp_perc = '{0:.4%}'.format(fp/(tp + tn + fp + fn))\n",
    "fn_perc = '{0:.4%}'.format(fn/(tp + tn + fp + fn))"
   ]
  },
  {
   "cell_type": "markdown",
   "metadata": {},
   "source": [
    "Matriz de confunsão"
   ]
  },
  {
   "cell_type": "code",
   "execution_count": 37,
   "metadata": {},
   "outputs": [
    {
     "data": {
      "text/html": [
       "<div>\n",
       "<style scoped>\n",
       "    .dataframe tbody tr th:only-of-type {\n",
       "        vertical-align: middle;\n",
       "    }\n",
       "\n",
       "    .dataframe tbody tr th {\n",
       "        vertical-align: top;\n",
       "    }\n",
       "\n",
       "    .dataframe thead th {\n",
       "        text-align: right;\n",
       "    }\n",
       "</style>\n",
       "<table border=\"1\" class=\"dataframe\">\n",
       "  <thead>\n",
       "    <tr style=\"text-align: right;\">\n",
       "      <th></th>\n",
       "      <th>Predito positivo</th>\n",
       "      <th>Predito negativo</th>\n",
       "    </tr>\n",
       "  </thead>\n",
       "  <tbody>\n",
       "    <tr>\n",
       "      <th>Verdadeiro positivo</th>\n",
       "      <td>2565</td>\n",
       "      <td>201</td>\n",
       "    </tr>\n",
       "    <tr>\n",
       "      <th>Verdadeiro negativo</th>\n",
       "      <td>132</td>\n",
       "      <td>3316</td>\n",
       "    </tr>\n",
       "  </tbody>\n",
       "</table>\n",
       "</div>"
      ],
      "text/plain": [
       "                     Predito positivo  Predito negativo\n",
       "Verdadeiro positivo              2565               201\n",
       "Verdadeiro negativo               132              3316"
      ]
     },
     "execution_count": 37,
     "metadata": {},
     "output_type": "execute_result"
    }
   ],
   "source": [
    "pd.DataFrame({'Predito positivo': [tp, fp], 'Predito negativo': [fn, tn]}, index=['Verdadeiro positivo', 'Verdadeiro negativo'])"
   ]
  },
  {
   "cell_type": "markdown",
   "metadata": {},
   "source": [
    "A tabela acima, também chamada de matriz de confusão, apresenta os valores de TP, TN, FP e FN observados no banco de teste. Analisando estes dados, há um número maior de falsos negativos, 201, em comparação com os falsos positivos, 132. Isso parece sinalizar que o modelo classifica incorretamente mais as fake news como verdadeiras, do que as notícias verdadeiras como falsas. Intuitivamente, consideramos que o pior erro do modelo é o falso negativo, pois, se uma notícia provém de uma fonte idônea, não deve ser difícil perceber um erro de classificação do modelo caso ele categorize uma notícia desta fonte como falsa. Contudo, para desenvolver um processo automatizado de detecção de fake news, é de suma importância que o modelo não deixe de identificar corretamente uma notícia falsa."
   ]
  },
  {
   "cell_type": "markdown",
   "metadata": {},
   "source": [
    "Matriz de confusão considerando proporções"
   ]
  },
  {
   "cell_type": "code",
   "execution_count": 38,
   "metadata": {},
   "outputs": [
    {
     "data": {
      "text/html": [
       "<div>\n",
       "<style scoped>\n",
       "    .dataframe tbody tr th:only-of-type {\n",
       "        vertical-align: middle;\n",
       "    }\n",
       "\n",
       "    .dataframe tbody tr th {\n",
       "        vertical-align: top;\n",
       "    }\n",
       "\n",
       "    .dataframe thead th {\n",
       "        text-align: right;\n",
       "    }\n",
       "</style>\n",
       "<table border=\"1\" class=\"dataframe\">\n",
       "  <thead>\n",
       "    <tr style=\"text-align: right;\">\n",
       "      <th></th>\n",
       "      <th>Predito positivo</th>\n",
       "      <th>Predito negativo</th>\n",
       "    </tr>\n",
       "  </thead>\n",
       "  <tbody>\n",
       "    <tr>\n",
       "      <th>Verdadeiro positivo</th>\n",
       "      <td>41.2778%</td>\n",
       "      <td>3.2346%</td>\n",
       "    </tr>\n",
       "    <tr>\n",
       "      <th>Verdadeiro negativo</th>\n",
       "      <td>2.1242%</td>\n",
       "      <td>53.3634%</td>\n",
       "    </tr>\n",
       "  </tbody>\n",
       "</table>\n",
       "</div>"
      ],
      "text/plain": [
       "                    Predito positivo Predito negativo\n",
       "Verdadeiro positivo         41.2778%          3.2346%\n",
       "Verdadeiro negativo          2.1242%         53.3634%"
      ]
     },
     "execution_count": 38,
     "metadata": {},
     "output_type": "execute_result"
    }
   ],
   "source": [
    "pd.DataFrame({'Predito positivo': [tp_perc, fp_perc], 'Predito negativo': [fn_perc, tn_perc]}, index=['Verdadeiro positivo', 'Verdadeiro negativo'])"
   ]
  },
  {
   "cell_type": "markdown",
   "metadata": {},
   "source": [
    "Na tabela acima, temos os mesmos dados apresentados na matriz de confusão anterior, mas em valores proporcionais, obtidos através da divisão de cada elemento da matriz de confusão pela soma de todos os seus elementos. Em porcentagem, a diferença entre os falsos positivos e negativos não parece tão grande. Além disso, considerando que aproximadamente 55,37% das notícias do banco de teste são verdadeiras e 44,63% são falsas, a tabela acima parece indicar valores aceitáveis de verdadeiros positivos e negativos."
   ]
  },
  {
   "cell_type": "markdown",
   "metadata": {},
   "source": [
    "Abaixo, serão vistos algumas medidas de avaliação da qualidade do ajuste do modelo treinado, obtidas no banco de teste. A acurácia (Hossin e Sulaiman, 2015) é a proporção entre o número de observações corretamente preditas sobre o número total de observações. Quando o conjunto de dados é desbalanceado, analisar somente a acurácia pode nos levar a conclusões errôneas. A precisão mede a proporção de previsões positivas verdadeiras entre todas as previsões positivas, ou ainda, TP/(TP + FP). Esta medida pode ser útil nos casos em que os falsos positivos prejudicam mais os resultados do que os falsos negativos. A sensibilidade corresponde à proporção de casos positivos reais corretamente previstos pelo modelo, ou seja, TP/(TP + FN). Quando os falsos negativos são mais preocupantes do que os falsos positivos esta métrica pode ser adequada. A especificidade, por sua vez, mede a proporção de predições negativas verdadeiras entre todas as observações negativas reais, ou ainda, TN/(TN + FP). Além disso, o escore F1 é definido como a média harmônica entre a precisão e a sensibilidade, sendo útil ao lidar com conjuntos de dados desbalanceados. O cálculo do escore F1 é dado por (2* precisão*sensibilidade)/(precisão + sensibilidade)."
   ]
  },
  {
   "cell_type": "code",
   "execution_count": 39,
   "metadata": {},
   "outputs": [
    {
     "name": "stdout",
     "output_type": "stream",
     "text": [
      "Acurácia no banco de teste:        94.6411%\n",
      "Precisão no banco de teste:        95.1057%\n",
      "F1 no banco de teste:              93.9044%\n",
      "Sensibilidade no banco de teste:   92.7332%\n",
      "Especificidade no banco de teste:  96.1717%\n"
     ]
    }
   ],
   "source": [
    "accuracy = (tp + tn)/(tp + tn + fp + fn)\n",
    "precision = tp/(tp + fp)\n",
    "sensitivity = tp/(tp + fn)\n",
    "specificity = tn/(tn + fp)\n",
    "f1_score = 2*(precision * sensitivity)/(precision + sensitivity)\n",
    "\n",
    "print(f\"{'Acurácia no banco de teste: ':<35}{accuracy:>.4%}\")\n",
    "print(f\"{'Precisão no banco de teste: ':<35}{precision:>.4%}\")\n",
    "print(f\"{'F1 no banco de teste: ':<35}{f1_score:>.4%}\")\n",
    "print(f\"{'Sensibilidade no banco de teste: ':<35}{sensitivity:>.4%}\")\n",
    "print(f\"{'Especificidade no banco de teste: ':<35}{specificity:>.4%}\")"
   ]
  },
  {
   "cell_type": "markdown",
   "metadata": {},
   "source": [
    "A sensibilidade foi a medida com o pior desempenho, de 92,73%. Visto que ela mede a capacidade do modelo de prever corretamente quando uma notícia é fake news, um valor baixo desta medida indica uma alta taxa de falsos negativos, considerado o pior tipo de erro para esta análise. Todavia, 92,73% pode ser interpretado como um valor alto, principalmente se considerarmos que este foi a menor das medidas observadas. A medida com o melhor desempenho foi a especificidade, com 96,17%. Esta medida possui um comportamento inverso ao da sensibilidade, sendo a taxa de notícias verdadeiras corretamente preditas. Isso significa que o modelo é particularmente bom para detectar quando uma notícia é verdadeira. Analisando o escore F1, observamos que ele também atingiu um valor elevado, de 93,90%. Considerando que o escore F1 é uma medida que penaliza a presença de dados desbalanceados, podemos inferir que o desequilíbrio presente na coluna \"label\" não afetou o desempenho do modelo. Por último, a acurácia e precisão no banco de teste foram de 94,64% e 95,11%, respectivamente. Por serem valores calculados no banco de teste, eles parecem indicar a ausência de overfitting do modelo. Além disso, estes pode ser considerados bons resultados, sugerindo que o modelo obteve um bom desempenho de maneira geral."
   ]
  },
  {
   "cell_type": "markdown",
   "metadata": {},
   "source": [
    "## Visualizando o ajuste"
   ]
  },
  {
   "cell_type": "code",
   "execution_count": 40,
   "metadata": {},
   "outputs": [],
   "source": [
    "wrong_classification = []\n",
    "for a, b, c in zip(predictions.tolist(), true_labels.tolist(), test_indexes):\n",
    "    if a != b:\n",
    "        wrong_classification.append(c)"
   ]
  },
  {
   "cell_type": "markdown",
   "metadata": {},
   "source": [
    "Notícias que o modelo classificou de maneira incorreta."
   ]
  },
  {
   "cell_type": "code",
   "execution_count": 41,
   "metadata": {},
   "outputs": [
    {
     "data": {
      "text/html": [
       "<div>\n",
       "<style scoped>\n",
       "    .dataframe tbody tr th:only-of-type {\n",
       "        vertical-align: middle;\n",
       "    }\n",
       "\n",
       "    .dataframe tbody tr th {\n",
       "        vertical-align: top;\n",
       "    }\n",
       "\n",
       "    .dataframe thead th {\n",
       "        text-align: right;\n",
       "    }\n",
       "</style>\n",
       "<table border=\"1\" class=\"dataframe\">\n",
       "  <thead>\n",
       "    <tr style=\"text-align: right;\">\n",
       "      <th></th>\n",
       "      <th>title</th>\n",
       "      <th>label</th>\n",
       "      <th>n_token</th>\n",
       "    </tr>\n",
       "  </thead>\n",
       "  <tbody>\n",
       "    <tr>\n",
       "      <th>324</th>\n",
       "      <td>You Can't Be Intersectional While at the Same ...</td>\n",
       "      <td>1</td>\n",
       "      <td>20</td>\n",
       "    </tr>\n",
       "    <tr>\n",
       "      <th>29545</th>\n",
       "      <td>What Is Hillary’s Greatest Accomplishment?</td>\n",
       "      <td>0</td>\n",
       "      <td>10</td>\n",
       "    </tr>\n",
       "    <tr>\n",
       "      <th>7953</th>\n",
       "      <td>What Young Men Need To Know To Avoid A Statuto...</td>\n",
       "      <td>1</td>\n",
       "      <td>14</td>\n",
       "    </tr>\n",
       "    <tr>\n",
       "      <th>19103</th>\n",
       "      <td>James Comey Corroborates Trump Not Under Inves...</td>\n",
       "      <td>0</td>\n",
       "      <td>22</td>\n",
       "    </tr>\n",
       "    <tr>\n",
       "      <th>41249</th>\n",
       "      <td>Will the anti-Clinton revolt among American el...</td>\n",
       "      <td>1</td>\n",
       "      <td>14</td>\n",
       "    </tr>\n",
       "    <tr>\n",
       "      <th>34311</th>\n",
       "      <td>President Obama wants to disarm America</td>\n",
       "      <td>0</td>\n",
       "      <td>10</td>\n",
       "    </tr>\n",
       "    <tr>\n",
       "      <th>29808</th>\n",
       "      <td>A Transformational November of Taking a Stand</td>\n",
       "      <td>1</td>\n",
       "      <td>10</td>\n",
       "    </tr>\n",
       "    <tr>\n",
       "      <th>5276</th>\n",
       "      <td>North Korea Ready for New Missile Launch Withi...</td>\n",
       "      <td>1</td>\n",
       "      <td>11</td>\n",
       "    </tr>\n",
       "    <tr>\n",
       "      <th>19749</th>\n",
       "      <td>House Republicans Begin Process To Withdraw A...</td>\n",
       "      <td>1</td>\n",
       "      <td>13</td>\n",
       "    </tr>\n",
       "    <tr>\n",
       "      <th>22548</th>\n",
       "      <td>Putin: No difference between Clinton, Trump</td>\n",
       "      <td>1</td>\n",
       "      <td>10</td>\n",
       "    </tr>\n",
       "  </tbody>\n",
       "</table>\n",
       "</div>"
      ],
      "text/plain": [
       "                                                   title  label  n_token\n",
       "324    You Can't Be Intersectional While at the Same ...      1       20\n",
       "29545         What Is Hillary’s Greatest Accomplishment?      0       10\n",
       "7953   What Young Men Need To Know To Avoid A Statuto...      1       14\n",
       "19103  James Comey Corroborates Trump Not Under Inves...      0       22\n",
       "41249  Will the anti-Clinton revolt among American el...      1       14\n",
       "34311            President Obama wants to disarm America      0       10\n",
       "29808      A Transformational November of Taking a Stand      1       10\n",
       "5276   North Korea Ready for New Missile Launch Withi...      1       11\n",
       "19749   House Republicans Begin Process To Withdraw A...      1       13\n",
       "22548        Putin: No difference between Clinton, Trump      1       10"
      ]
     },
     "execution_count": 41,
     "metadata": {},
     "output_type": "execute_result"
    }
   ],
   "source": [
    "df.loc[wrong_classification].sample(10)"
   ]
  },
  {
   "cell_type": "markdown",
   "metadata": {},
   "source": [
    "Como exemplo de um título de uma notícia verdadeira, mas que o modelo classificou como falsa, temos: \"Melania Trump Is First Catholic to Live in White House Since JFK\".\n",
    "\n",
    "Já como exemplo de um título de uma notícia falsa, mas que o modelo classificou como verdadeira, temos: \"In UNESCO, Palestinians claim ownership of Dead Sea Scrolls\".\n",
    "\n",
    "Os códigos utilizados para ajustar e avaliar o modelo BERT estão disponíveis para consulta no repositório https://github.com/ghsaul/tcc_project, sob a licença Creative Commons Zero v1.0 Universal."
   ]
  },
  {
   "cell_type": "markdown",
   "metadata": {},
   "source": [
    "# Conclusão"
   ]
  },
  {
   "cell_type": "markdown",
   "metadata": {},
   "source": [
    "Neste trabalho, foi apresentada uma aplicação do modelo BERT para identificação de fake news em títulos de notícias de diferentes meios de comunicação americanos. Como o banco de dados possui uma variável indicando a veracidade da notícia, o problema abordado nesse trabalho envolve métodos de aprendizagem supervisionado, especificamente de classificação binária. O uso do modelo pré-treinado BERT Base Uncased e de ferramentas de programação, forneceu uma abordagem unificada para o treinamento do modelo, economizando tempo e recursos computacionais. Esta estrutura de pré-treinamento e ajuste fino que o modelo oferece, é uma das razões pelas quais o BERT se tornou uma escolha popular e eficaz na área de Processamento de Linguagem Natural (Zhao et al., 2022).\n",
    "\n",
    "Baseando-se em métricas como acurácia, precisão e sensibilidade, concluímos que o modelo ajustado obteve um bom desempenho na tarefa de classificar notícias falsas em inglês. Isto parece evidenciar que modelos capazes de representar o significado de uma palavra a partir do seu contexto podem alcançar um bom desempenho em tarefas de NLP. Os resultados deste trabalho podem contribuir no combate à desinformação e auxiliar aplicações na área como Giordani et al. (2022). Apesar do bom desempenho, o método pode ser aperfeiçoado ainda mais. Caso fosse utilizado o texto completo da notícia em vez de apenas o seu título, o modelo possivelmente ganharia um contexto mais abrangente. No entanto, isto não foi feito devido à limitações de recursos computacionais.\n",
    "\n",
    "Em trabalhos futuros, é possível utilizar alguma modificação do modelo GPT (Radford et al., 2018) para produzir avanços no estudo de detecção de fake news. Além disso, é interessante aplicar o método de gradientes integrados (Sundararajan et al., 2017), implementado no pacote em Python captum (Kokhlikyan et al., 2020). Esta técnica permite visualizar a importância de cada token à predição do modelo, contribuindo com a interpretabilidade do BERT. Por fim, é possível usar variações do BERT que utilizam texto e imagem simultaneamente como dado de entrada do modelo, para analisar fake news não somente em textos, mas também em imagens alteradas digitalmente. Dentre os modelos disponíveis deste tipo, temos o Visual-Linguistic BERT (VL-BERT) (Su et al., 2019), o UNiversal Image-TExt Representation (UNITER) (Chen et al., 2020) e o VisualBERT (Li et al., 2019)."
   ]
  }
 ],
 "metadata": {
  "kernelspec": {
   "display_name": "Python 3.11.2 64-bit",
   "language": "python",
   "name": "python3"
  },
  "language_info": {
   "codemirror_mode": {
    "name": "ipython",
    "version": 3
   },
   "file_extension": ".py",
   "mimetype": "text/x-python",
   "name": "python",
   "nbconvert_exporter": "python",
   "pygments_lexer": "ipython3",
   "version": "3.11.3"
  },
  "orig_nbformat": 4,
  "vscode": {
   "interpreter": {
    "hash": "5238573367df39f7286bb46f9ff5f08f63a01a80960060ce41e3c79b190280fa"
   }
  }
 },
 "nbformat": 4,
 "nbformat_minor": 2
}
