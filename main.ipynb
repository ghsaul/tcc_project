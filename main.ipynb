{
 "cells": [
  {
   "cell_type": "markdown",
   "metadata": {},
   "source": [
    "## Introdução"
   ]
  },
  {
   "cell_type": "markdown",
   "metadata": {},
   "source": [
    "Este trabalho apresenta uma aplicação do modelo BERT na tarefa de classificação de texto.\n",
    "\n",
    "Será analisando o banco de dados X extraído do site Kagle. Este banco possuí duas colunas, uma com o texto da notícia e outra indicando se a notícia é falsa ou não.\n",
    "\n",
    "Utilizaremos neste trabalho a linguagem `Python` (versão 3.11.3), `R` (versão 4.2.1), o software `RStudio` (versão 2023.06.0+421), os pacotes em python `pandas` (versão 2.0.3), `transformers` (versão 4.30.2), `torch` (versão 2.0.1), e os pacotes em R ."
   ]
  },
  {
   "attachments": {},
   "cell_type": "markdown",
   "metadata": {},
   "source": [
    "## Setup"
   ]
  },
  {
   "cell_type": "code",
   "execution_count": 12,
   "metadata": {},
   "outputs": [],
   "source": [
    "import os\n",
    "import pandas as pd\n",
    "import math\n",
    "import numpy as np\n",
    "from statistics import mean\n",
    "# import nltk\n",
    "import torch\n",
    "\n",
    "from transformers import BertTokenizer, BertForSequenceClassification"
   ]
  },
  {
   "cell_type": "code",
   "execution_count": 2,
   "metadata": {},
   "outputs": [],
   "source": [
    "import os\n",
    "import pandas as pd"
   ]
  },
  {
   "cell_type": "code",
   "execution_count": 5,
   "metadata": {},
   "outputs": [],
   "source": [
    "TRUE_PATH = r\"dados\\DataSet_Misinfo_TRUE.csv\"\n",
    "FAKE_PATH = r\"dados\\DataSet_Misinfo_FAKE.csv\"\n",
    "FINAL_PATH = os.path.join(os.path.split(TRUE_PATH)[0], 'data.csv')\n",
    "\n",
    "def get_processed_df(true_path: str, fake_path: str, final_path: str):\n",
    "    \"\"\"Método que:\n",
    "    - Une as bases com noticias verdadeiras e falsas\n",
    "    - Remove linhas com textos vazios\n",
    "    - Coloca o texto em minúsculo\n",
    "    - Remove linhas com texto e flag duplicadas\n",
    "    - Se um texto está duplicado, mantém somente um\n",
    "\n",
    "    true_path: Caminho da base com as noticias verdadeiras\n",
    "    fake_path: Caminho da base com as noticias falsas\n",
    "    final_path: Caminho do .CSV com a base processada\n",
    "    \"\"\"\n",
    "    df_true = pd.read_csv(true_path)\n",
    "    df_fake = pd.read_csv(fake_path)\n",
    "\n",
    "    df_true.drop('Unnamed: 0', axis=1, inplace=True)\n",
    "    df_fake.drop('Unnamed: 0', axis=1, inplace=True)\n",
    "\n",
    "    df_true['flag'] = 1\n",
    "    df_fake['flag'] = 0\n",
    "\n",
    "    df = pd.concat([df_true, df_fake])\n",
    "    df = df[~df['text'].isnull()]\n",
    "\n",
    "    df['text'] = df['text'].str.lower().str.replace('“', '').str.replace('”', '')\n",
    "\n",
    "    df.drop_duplicates(inplace=True)\n",
    "    df.drop_duplicates(subset='text', keep=False, inplace=True, ignore_index=True)\n",
    "\n",
    "    df.to_csv(final_path, index=False)"
   ]
  },
  {
   "cell_type": "markdown",
   "metadata": {},
   "source": [
    "## Estatísticas descritivas"
   ]
  },
  {
   "cell_type": "code",
   "execution_count": 6,
   "metadata": {},
   "outputs": [],
   "source": [
    "# Rodar somente se o dataframe total nao tiver sido gerado\n",
    "get_processed_df(true_path=TRUE_PATH, fake_path=FAKE_PATH, final_path=FINAL_PATH)"
   ]
  },
  {
   "cell_type": "markdown",
   "metadata": {},
   "source": [
    "Lendo os dados processados"
   ]
  },
  {
   "cell_type": "code",
   "execution_count": 3,
   "metadata": {},
   "outputs": [],
   "source": [
    "df = pd.read_csv(r\"dados\\data.csv\")"
   ]
  },
  {
   "cell_type": "code",
   "execution_count": 4,
   "metadata": {},
   "outputs": [
    {
     "data": {
      "text/plain": [
       "'tel aviv  —   immigration lawyers from groups financed by billionaire george soros, a champion of open border policies, were signatories to a lawsuit filed saturday to block president donald trump’s executive order halting visas for 90 days for immigrants and   from syria, somalia, sudan, libya, yemen, iran, and iraq. [the executive order further suspended the entry of all refugees for 120 days, indefinitely blocks syrian refugees from entering and lowers the ceiling to 50, 000 for refugees allowed to enter the u. s. during fiscal year 2017 .  the new york times first reported on the lawsuit: at least one case quickly prompted a legal challenge as lawyers representing two iraqi refugees held at kennedy international airport in new york filed a motion early saturday seeking to have their clients released. they also filed a motion for class certification, in an effort to represent all refugees and other immigrants who they said were being unlawfully detained at ports of entry. the suit was filed by lawyers from the international refugee assistance project, the national immigration law center, the jerome n. frank legal services organization at yale law school, the american civil liberties union (aclu) and the international refugee assistance project (formerly iraqi refugee assistance project) at the urban justice center. the aclu is massively funded by soros’s open society foundations, including with a $50 million grant in 2014. the national immigration law center has received numerous open society grants earmarked for general support. the urban justice center is also the recipient of an open society grant.  taryn higashi, executive director of the center’s international refugee assistance project, which is listed on the trump lawsuit, currently serves on the advisory board of the international migration initiative of soros’s open society foundations. over the last decade, soros has reportedly provided some $76 million for immigrant issues. in 2014, the new york times credited immigrant rights groups financed by soros and a handful of other donors for influencing president obama’s immigration policy. the newspaper reported: when president obama announces major changes to the nation’s immigration enforcement system as early as next week, his decision will partly be a result of a yearslong campaign of pressure by immigrant rights groups, which have grown from a cluster of lobbying organizations into a national force. a vital part of that expansion has involved money: major donations from some of the nation’s wealthiest liberal foundations, including the ford foundation, the carnegie corporation of new york, the open society foundations of the financier george soros, and the atlantic philanthropies. over the past decade those donors have invested more than $300 million in immigrant organizations, including many fighting for a pathway to citizenship for immigrants here illegally. in august, breitbart jerusalem first reported hacked documents from soros’s open society institute boasted that the billionaire and his foundation helped to successfully press the obama administration into increasing to 100, 000 the total number of refugees taken in by the u. s. annually. the documents revealed that the billionaire personally sent president obama a letter on the issue of accepting refugees. aaron klein is breitbart’s jerusalem bureau chief and senior investigative reporter. he is a new york times bestselling author and hosts the popular weekend talk radio program, aaron klein investigative radio.  follow him on twitter @aaronkleinshow. follow him on facebook. with research by brenda j. elliott.'"
      ]
     },
     "execution_count": 4,
     "metadata": {},
     "output_type": "execute_result"
    }
   ],
   "source": [
    "df['text'] = df['text'].str.replace('“', '').str.replace('”', '')\n",
    "df['text'][27884]"
   ]
  },
  {
   "cell_type": "code",
   "execution_count": 41,
   "metadata": {},
   "outputs": [
    {
     "name": "stdout",
     "output_type": "stream",
     "text": [
      "<class 'pandas.core.frame.DataFrame'>\n",
      "RangeIndex: 68600 entries, 0 to 68599\n",
      "Data columns (total 3 columns):\n",
      " #   Column   Non-Null Count  Dtype \n",
      "---  ------   --------------  ----- \n",
      " 0   text     68600 non-null  object\n",
      " 1   flag     68600 non-null  int64 \n",
      " 2   tamanho  68600 non-null  int64 \n",
      "dtypes: int64(2), object(1)\n",
      "memory usage: 1.6+ MB\n"
     ]
    },
    {
     "data": {
      "text/html": [
       "<div>\n",
       "<style scoped>\n",
       "    .dataframe tbody tr th:only-of-type {\n",
       "        vertical-align: middle;\n",
       "    }\n",
       "\n",
       "    .dataframe tbody tr th {\n",
       "        vertical-align: top;\n",
       "    }\n",
       "\n",
       "    .dataframe thead th {\n",
       "        text-align: right;\n",
       "    }\n",
       "</style>\n",
       "<table border=\"1\" class=\"dataframe\">\n",
       "  <thead>\n",
       "    <tr style=\"text-align: right;\">\n",
       "      <th></th>\n",
       "      <th>text</th>\n",
       "      <th>flag</th>\n",
       "      <th>tamanho</th>\n",
       "    </tr>\n",
       "  </thead>\n",
       "  <tbody>\n",
       "    <tr>\n",
       "      <th>0</th>\n",
       "      <td>the head of a conservative republican faction ...</td>\n",
       "      <td>1</td>\n",
       "      <td>746</td>\n",
       "    </tr>\n",
       "    <tr>\n",
       "      <th>1</th>\n",
       "      <td>transgender people will be allowed for the fir...</td>\n",
       "      <td>1</td>\n",
       "      <td>396</td>\n",
       "    </tr>\n",
       "    <tr>\n",
       "      <th>2</th>\n",
       "      <td>the special counsel investigation of links bet...</td>\n",
       "      <td>1</td>\n",
       "      <td>454</td>\n",
       "    </tr>\n",
       "    <tr>\n",
       "      <th>3</th>\n",
       "      <td>trump campaign adviser george papadopoulos tol...</td>\n",
       "      <td>1</td>\n",
       "      <td>373</td>\n",
       "    </tr>\n",
       "    <tr>\n",
       "      <th>4</th>\n",
       "      <td>president donald trump called on the u.s. post...</td>\n",
       "      <td>1</td>\n",
       "      <td>849</td>\n",
       "    </tr>\n",
       "  </tbody>\n",
       "</table>\n",
       "</div>"
      ],
      "text/plain": [
       "                                                text  flag  tamanho\n",
       "0  the head of a conservative republican faction ...     1      746\n",
       "1  transgender people will be allowed for the fir...     1      396\n",
       "2  the special counsel investigation of links bet...     1      454\n",
       "3  trump campaign adviser george papadopoulos tol...     1      373\n",
       "4  president donald trump called on the u.s. post...     1      849"
      ]
     },
     "execution_count": 41,
     "metadata": {},
     "output_type": "execute_result"
    }
   ],
   "source": [
    "df['tamanho'] = [len(i.split()) for i in df['text']]\n",
    "\n",
    "df.info()\n",
    "df.head()"
   ]
  },
  {
   "cell_type": "markdown",
   "metadata": {},
   "source": [
    "Obtendo a distribuição de palavras de cada texto"
   ]
  },
  {
   "cell_type": "code",
   "execution_count": 42,
   "metadata": {},
   "outputs": [
    {
     "data": {
      "text/plain": [
       "482.30418367346937"
      ]
     },
     "execution_count": 42,
     "metadata": {},
     "output_type": "execute_result"
    }
   ],
   "source": [
    "mean(df['tamanho'])"
   ]
  },
  {
   "cell_type": "code",
   "execution_count": 5,
   "metadata": {},
   "outputs": [
    {
     "data": {
      "text/plain": [
       "array([  46.,  100.,  196.,  290.,  358.,  421.,  523.,  700., 1051.])"
      ]
     },
     "execution_count": 5,
     "metadata": {},
     "output_type": "execute_result"
    }
   ],
   "source": [
    "np.quantile(df['tamanho'], q=[.1, .2, .3, .4, .5, .6, .7, .8, .9])"
   ]
  },
  {
   "cell_type": "code",
   "execution_count": 75,
   "metadata": {},
   "outputs": [
    {
     "data": {
      "text/plain": [
       "0.6332944606413994"
      ]
     },
     "execution_count": 75,
     "metadata": {},
     "output_type": "execute_result"
    }
   ],
   "source": [
    "len(df[df['tamanho'] < 450])/len(df)"
   ]
  },
  {
   "cell_type": "code",
   "execution_count": 7,
   "metadata": {},
   "outputs": [
    {
     "data": {
      "text/plain": [
       "flag\n",
       "0    34074\n",
       "1    34526\n",
       "dtype: int64"
      ]
     },
     "execution_count": 7,
     "metadata": {},
     "output_type": "execute_result"
    }
   ],
   "source": [
    "df.groupby('flag').size()"
   ]
  },
  {
   "cell_type": "markdown",
   "metadata": {},
   "source": [
    "## Importando o modelo BERT pré-treinado"
   ]
  },
  {
   "cell_type": "markdown",
   "metadata": {},
   "source": [
    "Vamos importar o modelo BERT base, pois não dispomos de capacidade computacional suficiente para rodar o modelo BERT large. Mais especificamente, utilizaremos o modelo BERT base uncased, que não faz diferença entre palavras com letras maiúsculas e minusculas."
   ]
  },
  {
   "cell_type": "code",
   "execution_count": 13,
   "metadata": {},
   "outputs": [
    {
     "name": "stderr",
     "output_type": "stream",
     "text": [
      "\n",
      "KeyboardInterrupt\n",
      "\n"
     ]
    }
   ],
   "source": [
    "model_name = 'bert-base-uncased'\n",
    "tokenizer = BertTokenizer.from_pretrained(model_name)\n",
    "#model = BertForSequenceClassification.from_pretrained(model_name, num_labels=2)  # Change num_labels according to your classification task"
   ]
  },
  {
   "cell_type": "code",
   "execution_count": null,
   "metadata": {},
   "outputs": [
    {
     "ename": "NameError",
     "evalue": "name 'tokenizer' is not defined",
     "output_type": "error",
     "traceback": [
      "\u001b[1;31m---------------------------------------------------------------------------\u001b[0m",
      "\u001b[1;31mNameError\u001b[0m                                 Traceback (most recent call last)",
      "Cell \u001b[1;32mIn[10], line 17\u001b[0m\n\u001b[0;32m     14\u001b[0m text \u001b[39m=\u001b[39m \u001b[39m\"\u001b[39m\u001b[39mThis is an example sentence for classification.\u001b[39m\u001b[39m\"\u001b[39m\n\u001b[0;32m     16\u001b[0m \u001b[39m# Preprocess input text\u001b[39;00m\n\u001b[1;32m---> 17\u001b[0m inputs \u001b[39m=\u001b[39m tokenizer\u001b[39m.\u001b[39mencode_plus(\u001b[39m'\u001b[39m\u001b[39mtext                  a   q\u001b[39m\u001b[39m'\u001b[39m,\u001b[39m#df['text'][5],\u001b[39;00m\n\u001b[0;32m     18\u001b[0m         add_special_tokens\u001b[39m=\u001b[39m\u001b[39mTrue\u001b[39;00m,\n\u001b[0;32m     19\u001b[0m         truncation\u001b[39m=\u001b[39m\u001b[39mTrue\u001b[39;00m,\n\u001b[0;32m     20\u001b[0m         padding\u001b[39m=\u001b[39m\u001b[39m'\u001b[39m\u001b[39mmax_length\u001b[39m\u001b[39m'\u001b[39m,\n\u001b[0;32m     21\u001b[0m         max_length\u001b[39m=\u001b[39m\u001b[39m512\u001b[39m)\n\u001b[0;32m     22\u001b[0m \u001b[39mprint\u001b[39m(inputs[\u001b[39m'\u001b[39m\u001b[39minput_ids\u001b[39m\u001b[39m'\u001b[39m])\n\u001b[0;32m     23\u001b[0m \u001b[39mprint\u001b[39m(tokenizer\u001b[39m.\u001b[39mconvert_ids_to_tokens(inputs[\u001b[39m'\u001b[39m\u001b[39minput_ids\u001b[39m\u001b[39m'\u001b[39m]))\n",
      "\u001b[1;31mNameError\u001b[0m: name 'tokenizer' is not defined"
     ]
    }
   ],
   "source": [
    "# Tokenize and preprocess input text\n",
    "def preprocess_text(text):\n",
    "    inputs = tokenizer.encode_plus(\n",
    "        text,\n",
    "        add_special_tokens=True,\n",
    "        truncation=True,\n",
    "        padding='max_length',\n",
    "        max_length=512,  # Adjust according to your input length requirements\n",
    "        return_tensors='pt'\n",
    "    )\n",
    "    return inputs\n",
    "\n",
    "# Example text for classification\n",
    "text = \"This is an example sentence for classification.\"\n",
    "\n",
    "# Preprocess input text\n",
    "inputs = tokenizer.encode_plus('text                  a   q',#df['text'][5],\n",
    "        add_special_tokens=True,\n",
    "        truncation=True,\n",
    "        padding='max_length',\n",
    "        max_length=512)\n",
    "print(inputs['input_ids'])\n",
    "print(tokenizer.convert_ids_to_tokens(inputs['input_ids']))\n",
    "print(len([i for i in inputs['input_ids'] if i != 0]))"
   ]
  },
  {
   "cell_type": "code",
   "execution_count": 72,
   "metadata": {},
   "outputs": [
    {
     "data": {
      "text/html": [
       "<div>\n",
       "<style scoped>\n",
       "    .dataframe tbody tr th:only-of-type {\n",
       "        vertical-align: middle;\n",
       "    }\n",
       "\n",
       "    .dataframe tbody tr th {\n",
       "        vertical-align: top;\n",
       "    }\n",
       "\n",
       "    .dataframe thead th {\n",
       "        text-align: right;\n",
       "    }\n",
       "</style>\n",
       "<table border=\"1\" class=\"dataframe\">\n",
       "  <thead>\n",
       "    <tr style=\"text-align: right;\">\n",
       "      <th></th>\n",
       "      <th>text</th>\n",
       "      <th>flag</th>\n",
       "      <th>tamanho</th>\n",
       "    </tr>\n",
       "  </thead>\n",
       "  <tbody>\n",
       "    <tr>\n",
       "      <th>0</th>\n",
       "      <td>the head of a conservative republican faction ...</td>\n",
       "      <td>1</td>\n",
       "      <td>746</td>\n",
       "    </tr>\n",
       "    <tr>\n",
       "      <th>1</th>\n",
       "      <td>transgender people will be allowed for the fir...</td>\n",
       "      <td>1</td>\n",
       "      <td>396</td>\n",
       "    </tr>\n",
       "    <tr>\n",
       "      <th>2</th>\n",
       "      <td>the special counsel investigation of links bet...</td>\n",
       "      <td>1</td>\n",
       "      <td>454</td>\n",
       "    </tr>\n",
       "    <tr>\n",
       "      <th>3</th>\n",
       "      <td>trump campaign adviser george papadopoulos tol...</td>\n",
       "      <td>1</td>\n",
       "      <td>373</td>\n",
       "    </tr>\n",
       "    <tr>\n",
       "      <th>4</th>\n",
       "      <td>president donald trump called on the u.s. post...</td>\n",
       "      <td>1</td>\n",
       "      <td>849</td>\n",
       "    </tr>\n",
       "  </tbody>\n",
       "</table>\n",
       "</div>"
      ],
      "text/plain": [
       "                                                text  flag  tamanho\n",
       "0  the head of a conservative republican faction ...     1      746\n",
       "1  transgender people will be allowed for the fir...     1      396\n",
       "2  the special counsel investigation of links bet...     1      454\n",
       "3  trump campaign adviser george papadopoulos tol...     1      373\n",
       "4  president donald trump called on the u.s. post...     1      849"
      ]
     },
     "execution_count": 72,
     "metadata": {},
     "output_type": "execute_result"
    }
   ],
   "source": [
    "df.head()"
   ]
  }
 ],
 "metadata": {
  "kernelspec": {
   "display_name": "Python 3",
   "language": "python",
   "name": "python3"
  },
  "language_info": {
   "codemirror_mode": {
    "name": "ipython",
    "version": 3
   },
   "file_extension": ".py",
   "mimetype": "text/x-python",
   "name": "python",
   "nbconvert_exporter": "python",
   "pygments_lexer": "ipython3",
   "version": "3.11.3"
  },
  "orig_nbformat": 4
 },
 "nbformat": 4,
 "nbformat_minor": 2
}
