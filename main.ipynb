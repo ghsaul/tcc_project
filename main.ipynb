{
 "cells": [
  {
   "cell_type": "markdown",
   "metadata": {},
   "source": [
    "## Introdução"
   ]
  },
  {
   "cell_type": "markdown",
   "metadata": {},
   "source": [
    "Este trabalho apresenta uma aplicação do modelo BERT na tarefa de classificação de texto.\n",
    "\n",
    "Será analisando o banco de dados X extraído do site Kagle. Este banco possuí duas colunas, uma com o texto da notícia e outra indicando se a notícia é falsa ou não.\n",
    "\n",
    "Utilizaremos neste trabalho a linguagem `Python` (versão 3.11.3), `R` (versão 4.2.1), o software `RStudio` (versão 2023.06.0+421), os pacotes em python `pandas` (versão 2.0.3), `transformers` (versão 4.30.2), `torch` (versão 2.0.1), e os pacotes em R ."
   ]
  },
  {
   "attachments": {},
   "cell_type": "markdown",
   "metadata": {},
   "source": [
    "## Setup"
   ]
  },
  {
   "cell_type": "code",
   "execution_count": 2,
   "metadata": {},
   "outputs": [],
   "source": [
    "import os\n",
    "import pandas as pd\n",
    "import math\n",
    "import numpy as np\n",
    "from statistics import mean\n",
    "# import nltk\n",
    "import torch\n",
    "from transformers import BertTokenizer, BertForSequenceClassification"
   ]
  },
  {
   "cell_type": "code",
   "execution_count": 3,
   "metadata": {},
   "outputs": [],
   "source": [
    "TRUE_PATH = r\"dados\\DataSet_Misinfo_TRUE.csv\"\n",
    "FAKE_PATH = r\"dados\\DataSet_Misinfo_FAKE.csv\"\n",
    "FINAL_PATH = os.path.join(os.path.split(TRUE_PATH)[0], 'data.csv')\n",
    "\n",
    "def get_processed_df(true_path: str, fake_path: str, final_path: str):\n",
    "    \"\"\"Método que:\n",
    "    - Une as bases com noticias verdadeiras e falsas\n",
    "    - Remove linhas com textos vazios\n",
    "    - Coloca o texto em minúsculo\n",
    "    - Remove linhas com texto e flag duplicadas\n",
    "    - Se um texto está duplicado, mantém somente um\n",
    "\n",
    "    true_path: Caminho da base com as noticias verdadeiras\n",
    "    fake_path: Caminho da base com as noticias falsas\n",
    "    final_path: Caminho do .CSV com a base processada\n",
    "    \"\"\"\n",
    "    df_true = pd.read_csv(true_path)\n",
    "    df_fake = pd.read_csv(fake_path)\n",
    "\n",
    "    df_true.drop('Unnamed: 0', axis=1, inplace=True)\n",
    "    df_fake.drop('Unnamed: 0', axis=1, inplace=True)\n",
    "\n",
    "    df_true['flag'] = 1\n",
    "    df_fake['flag'] = 0\n",
    "\n",
    "    df = pd.concat([df_true, df_fake])\n",
    "    df = df[~df['text'].isnull()]\n",
    "\n",
    "    df['text'] = df['text'].str.lower()\n",
    "\n",
    "    df.drop_duplicates(inplace=True)\n",
    "    df.drop_duplicates(subset='text', keep=False, inplace=True, ignore_index=True)\n",
    "\n",
    "    df.to_csv(final_path, index=False)"
   ]
  },
  {
   "cell_type": "markdown",
   "metadata": {},
   "source": [
    "## Estatísticas descritivas"
   ]
  },
  {
   "cell_type": "code",
   "execution_count": 4,
   "metadata": {},
   "outputs": [],
   "source": [
    "# Rodar somente se o dataframe total nao tiver sido gerado\n",
    "# get_processed_df(true_path=TRUE_PATH, fake_path=FAKE_PATH, final_path=FINAL_PATH)"
   ]
  },
  {
   "cell_type": "markdown",
   "metadata": {},
   "source": [
    "Lendo os dados processados"
   ]
  },
  {
   "cell_type": "code",
   "execution_count": 5,
   "metadata": {},
   "outputs": [
    {
     "name": "stdout",
     "output_type": "stream",
     "text": [
      "<class 'pandas.core.frame.DataFrame'>\n",
      "RangeIndex: 68600 entries, 0 to 68599\n",
      "Data columns (total 2 columns):\n",
      " #   Column  Non-Null Count  Dtype \n",
      "---  ------  --------------  ----- \n",
      " 0   text    68600 non-null  object\n",
      " 1   flag    68600 non-null  int64 \n",
      "dtypes: int64(1), object(1)\n",
      "memory usage: 1.0+ MB\n"
     ]
    },
    {
     "data": {
      "text/html": [
       "<div>\n",
       "<style scoped>\n",
       "    .dataframe tbody tr th:only-of-type {\n",
       "        vertical-align: middle;\n",
       "    }\n",
       "\n",
       "    .dataframe tbody tr th {\n",
       "        vertical-align: top;\n",
       "    }\n",
       "\n",
       "    .dataframe thead th {\n",
       "        text-align: right;\n",
       "    }\n",
       "</style>\n",
       "<table border=\"1\" class=\"dataframe\">\n",
       "  <thead>\n",
       "    <tr style=\"text-align: right;\">\n",
       "      <th></th>\n",
       "      <th>text</th>\n",
       "      <th>flag</th>\n",
       "    </tr>\n",
       "  </thead>\n",
       "  <tbody>\n",
       "    <tr>\n",
       "      <th>0</th>\n",
       "      <td>the head of a conservative republican faction ...</td>\n",
       "      <td>1</td>\n",
       "    </tr>\n",
       "    <tr>\n",
       "      <th>1</th>\n",
       "      <td>transgender people will be allowed for the fir...</td>\n",
       "      <td>1</td>\n",
       "    </tr>\n",
       "    <tr>\n",
       "      <th>2</th>\n",
       "      <td>the special counsel investigation of links bet...</td>\n",
       "      <td>1</td>\n",
       "    </tr>\n",
       "    <tr>\n",
       "      <th>3</th>\n",
       "      <td>trump campaign adviser george papadopoulos tol...</td>\n",
       "      <td>1</td>\n",
       "    </tr>\n",
       "    <tr>\n",
       "      <th>4</th>\n",
       "      <td>president donald trump called on the u.s. post...</td>\n",
       "      <td>1</td>\n",
       "    </tr>\n",
       "  </tbody>\n",
       "</table>\n",
       "</div>"
      ],
      "text/plain": [
       "                                                text  flag\n",
       "0  the head of a conservative republican faction ...     1\n",
       "1  transgender people will be allowed for the fir...     1\n",
       "2  the special counsel investigation of links bet...     1\n",
       "3  trump campaign adviser george papadopoulos tol...     1\n",
       "4  president donald trump called on the u.s. post...     1"
      ]
     },
     "execution_count": 5,
     "metadata": {},
     "output_type": "execute_result"
    }
   ],
   "source": [
    "df = pd.read_csv(r\"dados\\data.csv\")\n",
    "\n",
    "df.info()\n",
    "df.head()"
   ]
  },
  {
   "cell_type": "markdown",
   "metadata": {},
   "source": [
    "Obtendo a distribuição de palavras de cada texto"
   ]
  },
  {
   "cell_type": "code",
   "execution_count": 9,
   "metadata": {},
   "outputs": [
    {
     "data": {
      "text/plain": [
       "1890"
      ]
     },
     "execution_count": 9,
     "metadata": {},
     "output_type": "execute_result"
    }
   ],
   "source": [
    "len(df['text'][23750].split())"
   ]
  },
  {
   "cell_type": "code",
   "execution_count": 10,
   "metadata": {},
   "outputs": [
    {
     "name": "stdout",
     "output_type": "stream",
     "text": [
      "24234\n"
     ]
    }
   ],
   "source": [
    "print(max([len(i.split()) for i in df['text'].dropna()]))"
   ]
  },
  {
   "cell_type": "code",
   "execution_count": 7,
   "metadata": {},
   "outputs": [
    {
     "data": {
      "text/plain": [
       "flag\n",
       "0    34074\n",
       "1    34526\n",
       "dtype: int64"
      ]
     },
     "execution_count": 7,
     "metadata": {},
     "output_type": "execute_result"
    }
   ],
   "source": [
    "df.groupby('flag').size()"
   ]
  },
  {
   "cell_type": "markdown",
   "metadata": {},
   "source": [
    "## Importando o modelo BERT pré-treinado"
   ]
  },
  {
   "cell_type": "markdown",
   "metadata": {},
   "source": [
    "Vamos importar o modelo BERT base, pois não dispomos de capacidade computacional suficiente para rodar o modelo BERT large. Mais especificamente, utilizaremos o modelo BERT base uncased, que não faz diferença entre palavras com letras maiúsculas e minusculas."
   ]
  },
  {
   "cell_type": "code",
   "execution_count": 8,
   "metadata": {},
   "outputs": [
    {
     "name": "stderr",
     "output_type": "stream",
     "text": [
      "Some weights of the model checkpoint at bert-base-uncased were not used when initializing BertForSequenceClassification: ['cls.predictions.transform.dense.bias', 'cls.seq_relationship.bias', 'cls.seq_relationship.weight', 'cls.predictions.transform.LayerNorm.weight', 'cls.predictions.bias', 'cls.predictions.transform.dense.weight', 'cls.predictions.transform.LayerNorm.bias']\n",
      "- This IS expected if you are initializing BertForSequenceClassification from the checkpoint of a model trained on another task or with another architecture (e.g. initializing a BertForSequenceClassification model from a BertForPreTraining model).\n",
      "- This IS NOT expected if you are initializing BertForSequenceClassification from the checkpoint of a model that you expect to be exactly identical (initializing a BertForSequenceClassification model from a BertForSequenceClassification model).\n",
      "Some weights of BertForSequenceClassification were not initialized from the model checkpoint at bert-base-uncased and are newly initialized: ['classifier.weight', 'classifier.bias']\n",
      "You should probably TRAIN this model on a down-stream task to be able to use it for predictions and inference.\n"
     ]
    }
   ],
   "source": [
    "model_name = 'bert-base-uncased'\n",
    "tokenizer = BertTokenizer.from_pretrained(model_name)\n",
    "model = BertForSequenceClassification.from_pretrained(model_name, num_labels=2)  # Change num_labels according to your classification task"
   ]
  },
  {
   "cell_type": "code",
   "execution_count": 17,
   "metadata": {},
   "outputs": [
    {
     "name": "stdout",
     "output_type": "stream",
     "text": [
      "the man entered the red robin restaurant inside the staten island mall two minutes after 6 p. m. on a friday. he walked straight past the booths and tables and entered the men’s room. a manager would find him there seven minutes later, lying on the floor with a needle and foaming at the mouth. his name was jonathan ayers, 27, and he was declared dead within the hour that evening, sept. 9, apparently of a heroin overdose. mr. ayers’s fatal overdose was the latest addition to a body count without precedent. so far in 2016, there have been 71 deaths that appear to be from heroin overdoses on the island, the richmond county district attorney’s office said, already on pace to more than double the record set two years ago. nine people died of heroin overdoses in a recent   period, prosecutors said. mr. ayers left behind an account of his addiction. after his death, his mother, ann ayers, and brother, christopher, found a journal he had kept for the last couple of years that chronicled the lies he had told them to conceal his continued dependence on drugs. “i lie mostly i think because i am scared of being judged for the truth,” mr. ayers wrote in may 2015. “this journal is where i tell the truth. ” through the journal, his family would come to know the son and brother they had lost, and see the thoughts of a heroin addict. staten island has been home to a heroin epidemic for several years, and it rivals the bronx for the highest rate of deaths from heroin overdoses in new york city. the drug arrived to meet demand for opiates and fill the void left by law enforcement crackdowns on prescription pills, which were widely abused there. heroin, much cheaper than pills, became the drug of choice for the mostly white,   neighborhoods on the island’s south end. it was brought in bulk from other boroughs and new jersey, and easily found on the island as an attractive diversion for bored and restless young people  —   creating a crisis for law enforcement, treatment programs and the parents of addicts, who have seen too many of their children end up in jail or the morgue. since 2010, the number of arrests on the island in which heroin or pills were found on the suspect has increased tenfold, to over 1, 000 last year. deaths attributed to heroin overdoses have also risen: in 2012 and 2013, the toll was 33 each year, and then jumped to 41 in 2014. the deaths fall within a nationwide heroin epidemic that officials have compared to the onslaught of h. i. v. in the 1980s and 1990s. an estimated 125 people a day die from drug overdoses, 78 of them from heroin and pills. the rise in deaths has left virtually no corner of the country untouched, from new england to appalachia to the midwest and southwest. on staten island, the numbers could be far worse. emergency medical workers and firefighters administered naloxone, an antidote to opioid overdoses, 89 times from january through july. police officers have used it to save lives 35 times this year. there have been new programs and initiatives and task forces and law enforcement operations and arrests. there have been infusions of funds. and yet nothing seems to be working. “the drugs are too accessible and too acceptable,” michael mcmahon, the staten island district attorney, said in an interview last month. “there seems to be a whole new population that thinks it’s o. k. and not taboo. ” mr. mcmahon said too few resources were being directed to the epidemic. “if this many people were dying from zika on staten island, we would have an   emergency crisis response to it,” he said. “anywhere else in the city of new york, if nine people died in 10 days from one reason, it would be declared a citywide health emergency. ” mr. mcmahon, shortly after taking office in january, announced the creation of the overdose response initiative, with officers responding to every fatal overdose as if it were a homicide, gathering information on the victims and combing their cellphones for leads on the identity of the dealer of the drugs. the investigations have given prosecutors and the police   data on overdoses in the past, they had to wait for lengthy toxicology tests. the response has linked fatal overdoses to suspected dealers in two recent drug takedowns that led to 18 arrests. assistant chief edward delatorre, the borough commander of staten island, said the police were initially led to believe that dealers had taken their own measure to avoid scrutiny  —   selling weaker heroin. “we got word back that they were cautioning the other dealers who sold, ‘be careful what you sell on staten island,’” he said. “but here we are again in september with a surge. ” mr. mcmahon believes that the recent string of deaths resulted not from a bad batch of heroin, but from the potency and ubiquity of the drug and the recklessness with which addicts are using it. “what does that tell you, the death in the mall?” said luke nasta, the director of camelot, an addiction treatment center on staten island. “it’s part of mainstream society. bright, shiny glass and nice stuff. the abundance of america, and using heroin and succumbing to an overdose. it’s a crosscut of society. it’s here. there’s no denying it. ” mr. ayers’s overdose in the mall ended a struggle with addiction about which he wrote candidly in his journal while hiding it from his family. the journal and interviews with his family offer a glimpse of a   addict seeming to hold his life together even as it spun downward. “have mercy on me, o lord, for i am weak,” mr. ayers, a catholic, quoted from the bible in one entry. “my bones are troubled. ” tall and stout at around 300 pounds, he was the classic gentle bear of a man, his family said. he graduated from wagner college in 2010 with a degree in sociology but without solid plans, they said. behind the scenes, his troubles had already begun. “i had only been drinking, but when i started college i started smoking and eventually selling marijuana,” mr. ayers wrote in 2015, according to a transcript of the journal provided by his brother. “it seemed harmless at first, but i guess it wasn’t enough and i started to experiment. ” this led him to pills. “and as the saying goes, ‘that was that,’” he wrote. “it went from a weekend thing to a     thing only at night and eventually to an everyday thing. ” he traveled to his brother christopher’s home in virginia in january 2015 to get away from the island. he stayed a month, attending church with his brother and    who were expecting a child, and discussing his troubles with his brother’s pastor. but he also took mysterious drives to baltimore, christopher said last week. asked why, christopher said, mr. ayers told him he was visiting friends. when mr. ayers returned to new york in february, his brother noticed $1, 100 missing from his home, and he gave mr. ayers an ultimatum: go to rehab or you’ll never see your niece. mr. ayers had been to an outpatient center on staten island, but had returned to pills, his family said. this time, he traveled to florida for a   program. mr. ayers’s experiences were similar to those of many addicts on staten island. it is a widely held belief that one must leave the island to get clean. “we can’t just do the same old stuff we’ve been doing,” said diane arneth, the president and chief executive of community health action of staten island, a treatment center. “this really is an incredible crisis. ” she said treatment centers have discussed identifying “crisis points” in an addict’s downward spiral when they are open to the possibility of treatment, such as after an arrest or a visit to the emergency room, where they might meet with a counselor. “that’s where people shift,” she said. staten island police officers see these crisis points every day, and they carry small containers of narcan, a brand of naloxone, within easy reach in their pockets. squirting it up the nose of an unconscious drug user blocks the absorption of opiates and stops an overdose. one officer, crystal vale, has saved three people with narcan in the past year. “from being unable to respond, to being fully awake and not wanting to go to the hospital,” she said last week. she said she was present when a man was revived with narcan, and when officers, paramedics and the man himself compared notes, they realized it was the third time he had been brought back from the brink  —   the lazarus of staten island. another officer, louise sanfilippo, has logged 13 narcan saves in a year and a half. she uses the antidote so often that she hurries to restock after a save, uncomfortable with an empty pocket. “i never have none on me,” she said. the island lacks a   crisis center and relies on    offices to treat   drug addicts looking for help. “people don’t need help just during regular business hours,” ms. arneth said. mr. ayers stayed clean after florida, but not for long. “i should have never went to that damn party. even deleting all the numbers out of my phone didn’t protect me from this,” he wrote in april 2015. “i felt so ashamed and i wasted the past 50 days of my life and let everybody down who believed in me. ” he kept using: “i can’t even look at my mom in the eye right now. all i do is ruin her life. ” a year passed. he got a job at a bar. but his mother would come home from work at wagner college and find him on the couch. “‘i’m so sick, i’m so sick,’” he told her, ms. ayers said. “he’d ask me for money for suboxone,” a prescribed drug that curbs opiate cravings, “and i gave it to him. ” in august, he wrote his last journal entry: he needed to get his life together “or i’m going to end up in jail or worse dead. ” on thursday, sept. 8, he said he had been to the doctor and that his prescription would be ready on sept. 10. on sept. 9, his mother came home from work. he was on the couch. he asked a question that almost every mother of a certain age has heard before, practically a rite of passage. can i get a ride to the mall? he said he needed to meet a friend who had some extra suboxone and was waiting at the massage chairs outside a chase bank. “i don’t know where that is,” he told his mother. she did. she drove him to the mall. he said he would be right back. it is unclear exactly what mr. ayers did inside. but the massage chairs were right where he was told they would be, along with, his family assumes, what he came for. there he likely paused, figuring out a next move that would be his last, his mother waiting in the car outside, an escalator before him, the red robin below.\n",
      "['[CLS]', 'the', 'man', 'entered', 'the', 'red', 'robin', 'restaurant', 'inside', 'the', 'staten', 'island', 'mall', 'two', 'minutes', 'after', '6', 'p', '.', 'm', '.', 'on', 'a', 'friday', '.', 'he', 'walked', 'straight', 'past', 'the', 'booths', 'and', 'tables', 'and', 'entered', 'the', 'men', '’', 's', 'room', '.', 'a', 'manager', 'would', 'find', 'him', 'there', 'seven', 'minutes', 'later', ',', 'lying', 'on', 'the', 'floor', 'with', 'a', 'needle', 'and', 'foam', '##ing', 'at', 'the', 'mouth', '.', 'his', 'name', 'was', 'jonathan', 'aye', '##rs', ',', '27', ',', 'and', 'he', 'was', 'declared', 'dead', 'within', 'the', 'hour', 'that', 'evening', ',', 'sept', '.', '9', ',', 'apparently', 'of', 'a', 'heroin', 'overdose', '.', 'mr', '.', 'aye', '##rs', '’', 's', 'fatal', 'overdose', 'was', 'the', 'latest', 'addition', 'to', 'a', 'body', 'count', 'without', 'precedent', '.', 'so', 'far', 'in', '2016', ',', 'there', 'have', 'been', '71', 'deaths', 'that', 'appear', 'to', 'be', 'from', 'heroin', 'overdose', '##s', 'on', 'the', 'island', ',', 'the', 'richmond', 'county', 'district', 'attorney', '’', 's', 'office', 'said', ',', 'already', 'on', 'pace', 'to', 'more', 'than', 'double', 'the', 'record', 'set', 'two', 'years', 'ago', '.', 'nine', 'people', 'died', 'of', 'heroin', 'overdose', '##s', 'in', 'a', 'recent', 'period', ',', 'prosecutors', 'said', '.', 'mr', '.', 'aye', '##rs', 'left', 'behind', 'an', 'account', 'of', 'his', 'addiction', '.', 'after', 'his', 'death', ',', 'his', 'mother', ',', 'ann', 'aye', '##rs', ',', 'and', 'brother', ',', 'christopher', ',', 'found', 'a', 'journal', 'he', 'had', 'kept', 'for', 'the', 'last', 'couple', 'of', 'years', 'that', 'chronicle', '##d', 'the', 'lies', 'he', 'had', 'told', 'them', 'to', 'conceal', 'his', 'continued', 'dependence', 'on', 'drugs', '.', '“', 'i', 'lie', 'mostly', 'i', 'think', 'because', 'i', 'am', 'scared', 'of', 'being', 'judged', 'for', 'the', 'truth', ',', '”', 'mr', '.', 'aye', '##rs', 'wrote', 'in', 'may', '2015', '.', '“', 'this', 'journal', 'is', 'where', 'i', 'tell', 'the', 'truth', '.', '”', 'through', 'the', 'journal', ',', 'his', 'family', 'would', 'come', 'to', 'know', 'the', 'son', 'and', 'brother', 'they', 'had', 'lost', ',', 'and', 'see', 'the', 'thoughts', 'of', 'a', 'heroin', 'addict', '.', 'staten', 'island', 'has', 'been', 'home', 'to', 'a', 'heroin', 'epidemic', 'for', 'several', 'years', ',', 'and', 'it', 'rivals', 'the', 'bronx', 'for', 'the', 'highest', 'rate', 'of', 'deaths', 'from', 'heroin', 'overdose', '##s', 'in', 'new', 'york', 'city', '.', 'the', 'drug', 'arrived', 'to', 'meet', 'demand', 'for', 'op', '##iate', '##s', 'and', 'fill', 'the', 'void', 'left', 'by', 'law', 'enforcement', 'crack', '##down', '##s', 'on', 'prescription', 'pills', ',', 'which', 'were', 'widely', 'abused', 'there', '.', 'heroin', ',', 'much', 'cheaper', 'than', 'pills', ',', 'became', 'the', 'drug', 'of', 'choice', 'for', 'the', 'mostly', 'white', ',', 'neighborhoods', 'on', 'the', 'island', '’', 's', 'south', 'end', '.', 'it', 'was', 'brought', 'in', 'bulk', 'from', 'other', 'boroughs', 'and', 'new', 'jersey', ',', 'and', 'easily', 'found', 'on', 'the', 'island', 'as', 'an', 'attractive', 'diversion', 'for', 'bored', 'and', 'restless', 'young', 'people', '—', 'creating', 'a', 'crisis', 'for', 'law', 'enforcement', ',', 'treatment', 'programs', 'and', 'the', 'parents', 'of', 'addict', '##s', ',', 'who', 'have', 'seen', 'too', 'many', 'of', 'their', 'children', 'end', 'up', 'in', 'jail', 'or', 'the', 'mor', '##gue', '.', 'since', '2010', ',', 'the', 'number', 'of', 'arrests', 'on', 'the', 'island', 'in', 'which', 'heroin', 'or', 'pills', 'were', 'found', 'on', 'the', 'suspect', 'has', 'increased', 'ten', '##fold', ',', 'to', 'over', '1', ',', '000', 'last', 'year', '.', 'deaths', 'attributed', 'to', 'heroin', 'overdose', '##s', 'have', 'also', 'risen', ':', 'in', '2012', 'and', '2013', ',', 'the', 'toll', 'was', '33', 'each', 'year', ',', 'and', 'then', 'jumped', 'to', '41', 'in', '2014', '.', 'the', 'deaths', 'fall', 'within', 'a', 'nationwide', 'heroin', 'epidemic', 'that', 'officials', 'have', 'compared', 'to', 'the', 'onslaught', 'of', 'h', '.', 'i', '.', 'v', '.', 'in', 'the', '1980s', 'and', '1990s', '.', 'an', 'estimated', '125', 'people', 'a', 'day', 'die', 'from', 'drug', 'overdose', '##s', ',', '78', 'of', 'them', 'from', 'heroin', 'and', 'pills', '.', 'the', 'rise', 'in', 'deaths', 'has', 'left', 'virtually', 'no', 'corner', 'of', 'the', 'country', 'untouched', ',', 'from', 'new', 'england', 'to', 'app', '##ala', '##chia', 'to', 'the', 'midwest', 'and', 'southwest', '.', 'on', 'staten', 'island', ',', 'the', 'numbers', 'could', 'be', 'far', 'worse', '.', 'emergency', 'medical', 'workers', 'and', 'firefighters', 'administered', 'na', '##lo', '##xon', '##e', ',', 'an', 'anti', '##dote', 'to', 'op', '##io', '##id', 'overdose', '##s', ',', '89', 'times', 'from', 'january', 'through', 'july', '.', 'police', 'officers', 'have', 'used', 'it', 'to', 'save', 'lives', '35', 'times', 'this', 'year', '.', 'there', 'have', 'been', 'new', 'programs', 'and', 'initiatives', 'and', 'task', 'forces', 'and', 'law', 'enforcement', 'operations', 'and', 'arrests', '.', 'there', 'have', 'been', 'in', '##fusion', '##s', 'of', 'funds', '.', 'and', 'yet', 'nothing', 'seems', 'to', 'be', 'working', '.', '“', 'the', 'drugs', 'are', 'too', 'accessible', 'and', 'too', 'acceptable', ',', '”', 'michael', 'mcmahon', ',', 'the', 'staten', 'island', 'district', 'attorney', ',', 'said', 'in', 'an', 'interview', 'last', 'month', '.', '“', 'there', 'seems', 'to', 'be', 'a', 'whole', 'new', 'population', 'that', 'thinks', 'it', '’', 's', 'o', '.', 'k', '.', 'and', 'not', 'taboo', '.', '”', 'mr', '.', 'mcmahon', 'said', 'too', 'few', 'resources', 'were', 'being', 'directed', 'to', 'the', 'epidemic', '.', '“', 'if', 'this', 'many', 'people', 'were', 'dying', 'from', 'z', '##ika', 'on', 'staten', 'island', ',', 'we', 'would', 'have', 'an', 'emergency', 'crisis', 'response', 'to', 'it', ',', '”', 'he', 'said', '.', '“', 'anywhere', 'else', 'in', 'the', 'city', 'of', 'new', 'york', ',', 'if', 'nine', 'people', 'died', 'in', '10', 'days', 'from', 'one', 'reason', ',', 'it', 'would', 'be', 'declared', 'a', 'city', '##wide', 'health', 'emergency', '.', '”', 'mr', '.', 'mcmahon', ',', 'shortly', 'after', 'taking', 'office', 'in', 'january', ',', 'announced', 'the', 'creation', 'of', 'the', 'overdose', 'response', 'initiative', ',', 'with', 'officers', 'responding', 'to', 'every', 'fatal', 'overdose', 'as', 'if', 'it', 'were', 'a', 'homicide', ',', 'gathering', 'information', 'on', 'the', 'victims', 'and', 'comb', '##ing', 'their', 'cell', '##phones', 'for', 'leads', 'on', 'the', 'identity', 'of', 'the', 'dealer', 'of', 'the', 'drugs', '.', 'the', 'investigations', 'have', 'given', 'prosecutors', 'and', 'the', 'police', 'data', 'on', 'overdose', '##s', 'in', 'the', 'past', ',', 'they', 'had', 'to', 'wait', 'for', 'lengthy', 'toxic', '##ology', 'tests', '.', 'the', 'response', 'has', 'linked', 'fatal', 'overdose', '##s', 'to', 'suspected', 'dealers', 'in', 'two', 'recent', 'drug', 'take', '##down', '##s', 'that', 'led', 'to', '18', 'arrests', '.', 'assistant', 'chief', 'edward', 'del', '##ator', '##re', ',', 'the', 'borough', 'commander', 'of', 'staten', 'island', ',', 'said', 'the', 'police', 'were', 'initially', 'led', 'to', 'believe', 'that', 'dealers', 'had', 'taken', 'their', 'own', 'measure', 'to', 'avoid', 'scrutiny', '—', 'selling', 'weaker', 'heroin', '.', '“', 'we', 'got', 'word', 'back', 'that', 'they', 'were', 'caution', '##ing', 'the', 'other', 'dealers', 'who', 'sold', ',', '‘', 'be', 'careful', 'what', 'you', 'sell', 'on', 'staten', 'island', ',', '’', '”', 'he', 'said', '.', '“', 'but', 'here', 'we', 'are', 'again', 'in', 'september', 'with', 'a', 'surge', '.', '”', 'mr', '.', 'mcmahon', 'believes', 'that', 'the', 'recent', 'string', 'of', 'deaths', 'resulted', 'not', 'from', 'a', 'bad', 'batch', 'of', 'heroin', ',', 'but', 'from', 'the', 'pot', '##ency', 'and', 'u', '##bi', '##qui', '##ty', 'of', 'the', 'drug', 'and', 'the', 'reckless', '##ness', 'with', 'which', 'addict', '##s', 'are', 'using', 'it', '.', '“', 'what', 'does', 'that', 'tell', 'you', ',', 'the', 'death', 'in', 'the', 'mall', '?', '”', 'said', 'luke', 'nas', '##ta', ',', 'the', 'director', 'of', 'camel', '##ot', ',', 'an', 'addiction', 'treatment', 'center', 'on', 'staten', 'island', '.', '“', 'it', '’', 's', 'part', 'of', 'mainstream', 'society', '.', 'bright', ',', 'shiny', 'glass', 'and', 'nice', 'stuff', '.', 'the', 'abundance', 'of', 'america', ',', 'and', 'using', 'heroin', 'and', 'su', '##cc', '##umb', '##ing', 'to', 'an', 'overdose', '.', 'it', '’', 's', 'a', 'cross', '##cut', 'of', 'society', '.', 'it', '’', 's', 'here', '.', 'there', '’', 's', 'no', 'denying', 'it', '.', '”', 'mr', '.', 'aye', '##rs', '’', 's', 'overdose', 'in', 'the', 'mall', 'ended', 'a', 'struggle', 'with', 'addiction', 'about', 'which', 'he', 'wrote', 'candi', '##dly', 'in', 'his', 'journal', 'while', 'hiding', 'it', 'from', 'his', 'family', '.', 'the', 'journal', 'and', 'interviews', 'with', 'his', 'family', 'offer', 'a', 'glimpse', 'of', 'a', 'addict', 'seeming', 'to', 'hold', 'his', 'life', 'together', 'even', 'as', 'it', 'spun', 'downward', '.', '“', 'have', 'mercy', 'on', 'me', ',', 'o', 'lord', ',', 'for', 'i', 'am', 'weak', ',', '”', 'mr', '.', 'aye', '##rs', ',', 'a', 'catholic', ',', 'quoted', 'from', 'the', 'bible', 'in', 'one', 'entry', '.', '“', 'my', 'bones', 'are', 'troubled', '.', '”', 'tall', 'and', 'stout', 'at', 'around', '300', 'pounds', ',', 'he', 'was', 'the', 'classic', 'gentle', 'bear', 'of', 'a', 'man', ',', 'his', 'family', 'said', '.', 'he', 'graduated', 'from', 'wagner', 'college', 'in', '2010', 'with', 'a', 'degree', 'in', 'sociology', 'but', 'without', 'solid', 'plans', ',', 'they', 'said', '.', 'behind', 'the', 'scenes', ',', 'his', 'troubles', 'had', 'already', 'begun', '.', '“', 'i', 'had', 'only', 'been', 'drinking', ',', 'but', 'when', 'i', 'started', 'college', 'i', 'started', 'smoking', 'and', 'eventually', 'selling', 'marijuana', ',', '”', 'mr', '.', 'aye', '##rs', 'wrote', 'in', '2015', ',', 'according', 'to', 'a', 'transcript', 'of', 'the', 'journal', 'provided', 'by', 'his', 'brother', '.', '“', 'it', 'seemed', 'harmless', 'at', 'first', ',', 'but', 'i', 'guess', 'it', 'wasn', '’', 't', 'enough', 'and', 'i', 'started', 'to', 'experiment', '.', '”', 'this', 'led', 'him', 'to', 'pills', '.', '“', 'and', 'as', 'the', 'saying', 'goes', ',', '‘', 'that', 'was', 'that', ',', '’', '”', 'he', 'wrote', '.', '“', 'it', 'went', 'from', 'a', 'weekend', 'thing', 'to', 'a', 'thing', 'only', 'at', 'night', 'and', 'eventually', 'to', 'an', 'everyday', 'thing', '.', '”', 'he', 'traveled', 'to', 'his', 'brother', 'christopher', '’', 's', 'home', 'in', 'virginia', 'in', 'january', '2015', 'to', 'get', 'away', 'from', 'the', 'island', '.', 'he', 'stayed', 'a', 'month', ',', 'attending', 'church', 'with', 'his', 'brother', 'and', 'who', 'were', 'expecting', 'a', 'child', ',', 'and', 'discussing', 'his', 'troubles', 'with', 'his', 'brother', '’', 's', 'pastor', '.', 'but', 'he', 'also', 'took', 'mysterious', 'drives', 'to', 'baltimore', ',', 'christopher', 'said', 'last', 'week', '.', 'asked', 'why', ',', 'christopher', 'said', ',', 'mr', '.', 'aye', '##rs', 'told', 'him', 'he', 'was', 'visiting', 'friends', '.', 'when', 'mr', '.', 'aye', '##rs', 'returned', 'to', 'new', 'york', 'in', 'february', ',', 'his', 'brother', 'noticed', '$', '1', ',', '100', 'missing', 'from', 'his', 'home', ',', 'and', 'he', 'gave', 'mr', '.', 'aye', '##rs', 'an', 'ultimatum', ':', 'go', 'to', 'rehab', 'or', 'you', '’', 'll', 'never', 'see', 'your', 'niece', '.', 'mr', '.', 'aye', '##rs', 'had', 'been', 'to', 'an', 'out', '##patient', 'center', 'on', 'staten', 'island', ',', 'but', 'had', 'returned', 'to', 'pills', ',', 'his', 'family', 'said', '.', 'this', 'time', ',', 'he', 'traveled', 'to', 'florida', 'for', 'a', 'program', '.', 'mr', '.', 'aye', '##rs', '’', 's', 'experiences', 'were', 'similar', 'to', 'those', 'of', 'many', 'addict', '##s', 'on', 'staten', 'island', '.', 'it', 'is', 'a', 'widely', 'held', 'belief', 'that', 'one', 'must', 'leave', 'the', 'island', 'to', 'get', 'clean', '.', '“', 'we', 'can', '’', 't', 'just', 'do', 'the', 'same', 'old', 'stuff', 'we', '’', 've', 'been', 'doing', ',', '”', 'said', 'diane', 'ar', '##net', '##h', ',', 'the', 'president', 'and', 'chief', 'executive', 'of', 'community', 'health', 'action', 'of', 'staten', 'island', ',', 'a', 'treatment', 'center', '.', '“', 'this', 'really', 'is', 'an', 'incredible', 'crisis', '.', '”', 'she', 'said', 'treatment', 'centers', 'have', 'discussed', 'identifying', '“', 'crisis', 'points', '”', 'in', 'an', 'addict', '’', 's', 'downward', 'spiral', 'when', 'they', 'are', 'open', 'to', 'the', 'possibility', 'of', 'treatment', ',', 'such', 'as', 'after', 'an', 'arrest', 'or', 'a', 'visit', 'to', 'the', 'emergency', 'room', ',', 'where', 'they', 'might', 'meet', 'with', 'a', 'counselor', '.', '“', 'that', '’', 's', 'where', 'people', 'shift', ',', '”', 'she', 'said', '.', 'staten', 'island', 'police', 'officers', 'see', 'these', 'crisis', 'points', 'every', 'day', ',', 'and', 'they', 'carry', 'small', 'containers', 'of', 'na', '##rca', '##n', ',', 'a', 'brand', 'of', 'na', '##lo', '##xon', '##e', ',', 'within', 'easy', 'reach', 'in', 'their', 'pockets', '.', 'sq', '##ui', '##rting', 'it', 'up', 'the', 'nose', 'of', 'an', 'unconscious', 'drug', 'user', 'blocks', 'the', 'absorption', 'of', 'op', '##iate', '##s', 'and', 'stops', 'an', 'overdose', '.', 'one', 'officer', ',', 'crystal', 'vale', ',', 'has', 'saved', 'three', 'people', 'with', 'na', '##rca', '##n', 'in', 'the', 'past', 'year', '.', '“', 'from', 'being', 'unable', 'to', 'respond', ',', 'to', 'being', 'fully', 'awake', 'and', 'not', 'wanting', 'to', 'go', 'to', 'the', 'hospital', ',', '”', 'she', 'said', 'last', 'week', '.', 'she', 'said', 'she', 'was', 'present', 'when', 'a', 'man', 'was', 'revived', 'with', 'na', '##rca', '##n', ',', 'and', 'when', 'officers', ',', 'para', '##med', '##ics', 'and', 'the', 'man', 'himself', 'compared', 'notes', ',', 'they', 'realized', 'it', 'was', 'the', 'third', 'time', 'he', 'had', 'been', 'brought', 'back', 'from', 'the', 'brink', '—', 'the', 'lazarus', 'of', 'staten', 'island', '.', 'another', 'officer', ',', 'louise', 'san', '##fi', '##lip', '##po', ',', 'has', 'logged', '13', 'na', '##rca', '##n', 'saves', 'in', 'a', 'year', 'and', 'a', 'half', '.', 'she', 'uses', 'the', 'anti', '##dote', 'so', 'often', 'that', 'she', 'hu', '##rries', 'to', 'rest', '##ock', 'after', 'a', 'save', ',', 'uncomfortable', 'with', 'an', 'empty', 'pocket', '.', '“', 'i', 'never', 'have', 'none', 'on', 'me', ',', '”', 'she', 'said', '.', 'the', 'island', 'lacks', 'a', 'crisis', 'center', 'and', 'relies', 'on', 'offices', 'to', 'treat', 'drug', 'addict', '##s', 'looking', 'for', 'help', '.', '“', 'people', 'don', '’', 't', 'need', 'help', 'just', 'during', 'regular', 'business', 'hours', ',', '”', 'ms', '.', 'ar', '##net', '##h', 'said', '.', 'mr', '.', 'aye', '##rs', 'stayed', 'clean', 'after', 'florida', ',', 'but', 'not', 'for', 'long', '.', '“', 'i', 'should', 'have', 'never', 'went', 'to', 'that', 'damn', 'party', '.', 'even', 'del', '##eti', '##ng', 'all', 'the', 'numbers', 'out', 'of', 'my', 'phone', 'didn', '’', 't', 'protect', 'me', 'from', 'this', ',', '”', 'he', 'wrote', 'in', 'april', '2015', '.', '“', 'i', 'felt', 'so', 'ashamed', 'and', 'i', 'wasted', 'the', 'past', '50', 'days', 'of', 'my', 'life', 'and', 'let', 'everybody', 'down', 'who', 'believed', 'in', 'me', '.', '”', 'he', 'kept', 'using', ':', '“', 'i', 'can', '’', 't', 'even', 'look', 'at', 'my', 'mom', 'in', 'the', 'eye', 'right', 'now', '.', 'all', 'i', 'do', 'is', 'ruin', 'her', 'life', '.', '”', 'a', 'year', 'passed', '.', 'he', 'got', 'a', 'job', 'at', 'a', 'bar', '.', 'but', 'his', 'mother', 'would', 'come', 'home', 'from', 'work', 'at', 'wagner', 'college', 'and', 'find', 'him', 'on', 'the', 'couch', '.', '“', '‘', 'i', '’', 'm', 'so', 'sick', ',', 'i', '’', 'm', 'so', 'sick', ',', '’', '”', 'he', 'told', 'her', ',', 'ms', '.', 'aye', '##rs', 'said', '.', '“', 'he', '’', 'd', 'ask', 'me', 'for', 'money', 'for', 'sub', '##ox', '##one', ',', '”', 'a', 'prescribed', 'drug', 'that', 'curb', '##s', 'op', '##iate', 'craving', '##s', ',', '“', 'and', 'i', 'gave', 'it', 'to', 'him', '.', '”', 'in', 'august', ',', 'he', 'wrote', 'his', 'last', 'journal', 'entry', ':', 'he', 'needed', 'to', 'get', 'his', 'life', 'together', '“', 'or', 'i', '’', 'm', 'going', 'to', 'end', 'up', 'in', 'jail', 'or', 'worse', 'dead', '.', '”', 'on', 'thursday', ',', 'sept', '.', '8', ',', 'he', 'said', 'he', 'had', 'been', 'to', 'the', 'doctor', 'and', 'that', 'his', 'prescription', 'would', 'be', 'ready', 'on', 'sept', '.', '10', '.', 'on', 'sept', '.', '9', ',', 'his', 'mother', 'came', 'home', 'from', 'work', '.', 'he', 'was', 'on', 'the', 'couch', '.', 'he', 'asked', 'a', 'question', 'that', 'almost', 'every', 'mother', 'of', 'a', 'certain', 'age', 'has', 'heard', 'before', ',', 'practically', 'a', 'rite', 'of', 'passage', '.', 'can', 'i', 'get', 'a', 'ride', 'to', 'the', 'mall', '?', 'he', 'said', 'he', 'needed', 'to', 'meet', 'a', 'friend', 'who', 'had', 'some', 'extra', 'sub', '##ox', '##one', 'and', 'was', 'waiting', 'at', 'the', 'massage', 'chairs', 'outside', 'a', 'chase', 'bank', '.', '“', 'i', 'don', '’', 't', 'know', 'where', 'that', 'is', ',', '”', 'he', 'told', 'his', 'mother', '.', 'she', 'did', '.', 'she', 'drove', 'him', 'to', 'the', 'mall', '.', 'he', 'said', 'he', 'would', 'be', 'right', 'back', '.', 'it', 'is', 'unclear', 'exactly', 'what', 'mr', '.', 'aye', '##rs', 'did', 'inside', '.', 'but', 'the', 'massage', 'chairs', 'were', 'right', 'where', 'he', 'was', 'told', 'they', 'would', 'be', ',', 'along', 'with', ',', 'his', 'family', 'assumes', ',', 'what', 'he', 'came', 'for', '.', 'there', 'he', 'likely', 'paused', ',', 'figuring', 'out', 'a', 'next', 'move', 'that', 'would', 'be', 'his', 'last', ',', 'his', 'mother', 'waiting', 'in', 'the', 'car', 'outside', ',', 'an', 'es', '##cala', '##tor', 'before', 'him', ',', 'the', 'red', 'robin', 'below', '.', '[SEP]']\n"
     ]
    }
   ],
   "source": [
    "# Tokenize and preprocess input text\n",
    "def preprocess_text(text):\n",
    "    inputs = tokenizer.encode_plus(\n",
    "        text,\n",
    "        add_special_tokens=True,\n",
    "        truncation=True,\n",
    "        padding='max_length',\n",
    "        max_length=2000,  # Adjust according to your input length requirements\n",
    "        return_tensors='pt'\n",
    "    )\n",
    "    return inputs\n",
    "\n",
    "# Example text for classification\n",
    "text = \"This is an example sentence for classification.\"\n",
    "\n",
    "# Preprocess input text\n",
    "inputs = tokenizer.encode_plus((df['text'][23750]))\n",
    "print(df['text'][23750])\n",
    "print(tokenizer.convert_ids_to_tokens(inputs['input_ids']))"
   ]
  }
 ],
 "metadata": {
  "kernelspec": {
   "display_name": "Python 3",
   "language": "python",
   "name": "python3"
  },
  "language_info": {
   "codemirror_mode": {
    "name": "ipython",
    "version": 3
   },
   "file_extension": ".py",
   "mimetype": "text/x-python",
   "name": "python",
   "nbconvert_exporter": "python",
   "pygments_lexer": "ipython3",
   "version": "3.11.3"
  },
  "orig_nbformat": 4
 },
 "nbformat": 4,
 "nbformat_minor": 2
}
